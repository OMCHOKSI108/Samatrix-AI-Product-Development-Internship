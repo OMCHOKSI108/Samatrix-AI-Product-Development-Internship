{
  "cells": [
    {
      "cell_type": "code",
      "execution_count": 97,
      "metadata": {},
      "outputs": [],
      "source": [
        "# Install statsmodels for proper competing risks analysis\n",
        "!pip install statsmodels --quiet"
      ]
    },
    {
      "cell_type": "markdown",
      "metadata": {
        "id": "VfX775smQHkZ"
      },
      "source": [
        "# **Project 4**: Clinical-Trial Survival Analysis for Treatment Efficiency\n",
        "# **Author**: OM CHIRAGBHAI CHOKSI  "
      ]
    },
    {
      "cell_type": "markdown",
      "metadata": {
        "id": "97JZUVz4Kp_8"
      },
      "source": [
        "## Theoretical Description\n",
        "\n",
        "This project focuses on the application of survival analysis techniques to clinical trial data for evaluating treatment efficacy based on time-to-event outcomes, such as time until death. It employs statistical methods including **Kaplan–Meier survival curves** to estimate and visualize survival probabilities over time, and the **Log-Rank Test** to compare survival distributions between treatment groups.\n",
        "\n",
        "To address more complex clinical scenarios, the analysis incorporates the **Cox Proportional Hazards Model** and its extensions—such as **time-varying covariates**, **stratified models**, and **competing risks models**. These models allow for a more accurate representation of patient conditions that evolve over time, varying baseline hazard functions across subgroups, and the presence of multiple possible event types.\n",
        "\n",
        "Collectively, these approaches provide a comprehensive framework for identifying significant prognostic factors, comparing treatment effects, and offering deeper insights into patient survival dynamics under different clinical interventions.\n"
      ]
    },
    {
      "cell_type": "markdown",
      "metadata": {
        "id": "BH3Sh82id9Ia"
      },
      "source": [
        "## Project Goal\n",
        "\n",
        "This project aims to leverage survival analysis methods to interpret and compare patient outcomes using clinical data. The primary objectives are to:\n",
        "\n",
        "- Examine time-to-event outcomes, such as time until death, recovery, or disease recurrence.\n",
        "- Visualize and compare treatment effectiveness using **survival curves**.\n",
        "- Apply **statistical tests** to assess the significance of differences between treatments.\n",
        "- Address real-world complexities, including:\n",
        "  - Patient conditions that change over time.\n",
        "  - Differences in baseline risk among individuals.\n",
        "  - The occurrence of multiple event types (e.g., various causes of death).\n",
        "\n",
        "To accomplish these goals, the following analytical techniques are utilized:\n",
        "\n",
        "1. **Kaplan–Meier Survival Curve** – for estimating and comparing survival probabilities.\n",
        "2. **Log-Rank Test** – for statistically evaluating differences between survival curves.\n",
        "3. **Cox Proportional Hazards Model** – for assessing the impact of covariates on survival.\n",
        "4. **Time-Varying Covariate Model** – for incorporating covariates that change during follow-up.\n",
        "5. **Stratified Cox Model** – for adjusting for group-level differences in baseline risk.\n",
        "6. **Competing Risks Model** – for analyzing scenarios with multiple possible outcomes.\n",
        "\n",
        "This integrated approach delivers a thorough understanding of treatment effects and patient survival across diverse clinical situations.\n"
      ]
    },
    {
      "cell_type": "markdown",
      "metadata": {
        "id": "ZD4WoaAYvL1G"
      },
      "source": [
        "The **lifelines** library in Python provides tools and models specifically for conducting survival analysis.\n"
      ]
    },
    {
      "cell_type": "code",
      "execution_count": 98,
      "metadata": {
        "colab": {
          "base_uri": "https://localhost:8080/"
        },
        "id": "HxvYYjFIWVuZ",
        "outputId": "4ca354d8-fd8e-4438-c814-87478794df99"
      },
      "outputs": [],
      "source": [
        "!pip install lifelines --quiet"
      ]
    },
    {
      "cell_type": "code",
      "execution_count": 99,
      "metadata": {},
      "outputs": [],
      "source": [
        "!pip install statsmodels --quiet"
      ]
    },
    {
      "cell_type": "markdown",
      "metadata": {
        "id": "lxMzyyC8vU2k"
      },
      "source": [
        "The **lifelines** package offers essential tools for survival analysis, including:\n",
        "\n",
        "- **KaplanMeierFitter** – for estimating non-parametric survival curves.\n",
        "- **CoxPHFitter** – for performing regression analysis on survival data using the Cox Proportional Hazards model.\n",
        "- **logrank_test** – for statistically comparing survival functions between different groups."
      ]
    },
    {
      "cell_type": "markdown",
      "metadata": {},
      "source": [
        "### Import Libraries"
      ]
    },
    {
      "cell_type": "code",
      "execution_count": 100,
      "metadata": {
        "id": "_6oQJQjfP8If"
      },
      "outputs": [],
      "source": [
        "from lifelines import KaplanMeierFitter,CoxPHFitter\n",
        "from lifelines.statistics import logrank_test\n",
        "import pandas as pd\n",
        "import numpy as np\n",
        "import matplotlib.pyplot as plt\n",
        "import seaborn as sns"
      ]
    },
    {
      "cell_type": "markdown",
      "metadata": {},
      "source": [
        "### Load Dataset"
      ]
    },
    {
      "cell_type": "code",
      "execution_count": 101,
      "metadata": {
        "colab": {
          "base_uri": "https://localhost:8080/",
          "height": 424
        },
        "id": "ZpSVMAsIZlxR",
        "outputId": "bee528ba-0a26-43cb-e2bc-842cb96a500f"
      },
      "outputs": [
        {
          "data": {
            "text/html": [
              "<div>\n",
              "<style scoped>\n",
              "    .dataframe tbody tr th:only-of-type {\n",
              "        vertical-align: middle;\n",
              "    }\n",
              "\n",
              "    .dataframe tbody tr th {\n",
              "        vertical-align: top;\n",
              "    }\n",
              "\n",
              "    .dataframe thead th {\n",
              "        text-align: right;\n",
              "    }\n",
              "</style>\n",
              "<table border=\"1\" class=\"dataframe\">\n",
              "  <thead>\n",
              "    <tr style=\"text-align: right;\">\n",
              "      <th></th>\n",
              "      <th>ID</th>\n",
              "      <th>TIME</th>\n",
              "      <th>Y</th>\n",
              "      <th>trt</th>\n",
              "      <th>celltype</th>\n",
              "      <th>karno</th>\n",
              "      <th>diagtime</th>\n",
              "      <th>age</th>\n",
              "      <th>priortherapy</th>\n",
              "    </tr>\n",
              "  </thead>\n",
              "  <tbody>\n",
              "    <tr>\n",
              "      <th>0</th>\n",
              "      <td>1</td>\n",
              "      <td>0</td>\n",
              "      <td>0</td>\n",
              "      <td>standard</td>\n",
              "      <td>squamous</td>\n",
              "      <td>60</td>\n",
              "      <td>7</td>\n",
              "      <td>69</td>\n",
              "      <td>no</td>\n",
              "    </tr>\n",
              "    <tr>\n",
              "      <th>1</th>\n",
              "      <td>1</td>\n",
              "      <td>72</td>\n",
              "      <td>1</td>\n",
              "      <td>standard</td>\n",
              "      <td>squamous</td>\n",
              "      <td>60</td>\n",
              "      <td>7</td>\n",
              "      <td>69</td>\n",
              "      <td>no</td>\n",
              "    </tr>\n",
              "    <tr>\n",
              "      <th>2</th>\n",
              "      <td>2</td>\n",
              "      <td>0</td>\n",
              "      <td>0</td>\n",
              "      <td>standard</td>\n",
              "      <td>squamous</td>\n",
              "      <td>70</td>\n",
              "      <td>5</td>\n",
              "      <td>64</td>\n",
              "      <td>yes</td>\n",
              "    </tr>\n",
              "    <tr>\n",
              "      <th>3</th>\n",
              "      <td>2</td>\n",
              "      <td>411</td>\n",
              "      <td>1</td>\n",
              "      <td>standard</td>\n",
              "      <td>squamous</td>\n",
              "      <td>70</td>\n",
              "      <td>5</td>\n",
              "      <td>64</td>\n",
              "      <td>yes</td>\n",
              "    </tr>\n",
              "    <tr>\n",
              "      <th>4</th>\n",
              "      <td>3</td>\n",
              "      <td>0</td>\n",
              "      <td>0</td>\n",
              "      <td>standard</td>\n",
              "      <td>squamous</td>\n",
              "      <td>60</td>\n",
              "      <td>3</td>\n",
              "      <td>38</td>\n",
              "      <td>no</td>\n",
              "    </tr>\n",
              "    <tr>\n",
              "      <th>...</th>\n",
              "      <td>...</td>\n",
              "      <td>...</td>\n",
              "      <td>...</td>\n",
              "      <td>...</td>\n",
              "      <td>...</td>\n",
              "      <td>...</td>\n",
              "      <td>...</td>\n",
              "      <td>...</td>\n",
              "      <td>...</td>\n",
              "    </tr>\n",
              "    <tr>\n",
              "      <th>269</th>\n",
              "      <td>135</td>\n",
              "      <td>231</td>\n",
              "      <td>1</td>\n",
              "      <td>test</td>\n",
              "      <td>large</td>\n",
              "      <td>70</td>\n",
              "      <td>18</td>\n",
              "      <td>67</td>\n",
              "      <td>yes</td>\n",
              "    </tr>\n",
              "    <tr>\n",
              "      <th>270</th>\n",
              "      <td>136</td>\n",
              "      <td>0</td>\n",
              "      <td>0</td>\n",
              "      <td>test</td>\n",
              "      <td>large</td>\n",
              "      <td>80</td>\n",
              "      <td>4</td>\n",
              "      <td>65</td>\n",
              "      <td>no</td>\n",
              "    </tr>\n",
              "    <tr>\n",
              "      <th>271</th>\n",
              "      <td>136</td>\n",
              "      <td>378</td>\n",
              "      <td>1</td>\n",
              "      <td>test</td>\n",
              "      <td>large</td>\n",
              "      <td>80</td>\n",
              "      <td>4</td>\n",
              "      <td>65</td>\n",
              "      <td>no</td>\n",
              "    </tr>\n",
              "    <tr>\n",
              "      <th>272</th>\n",
              "      <td>137</td>\n",
              "      <td>0</td>\n",
              "      <td>0</td>\n",
              "      <td>test</td>\n",
              "      <td>large</td>\n",
              "      <td>30</td>\n",
              "      <td>3</td>\n",
              "      <td>37</td>\n",
              "      <td>no</td>\n",
              "    </tr>\n",
              "    <tr>\n",
              "      <th>273</th>\n",
              "      <td>137</td>\n",
              "      <td>49</td>\n",
              "      <td>1</td>\n",
              "      <td>test</td>\n",
              "      <td>large</td>\n",
              "      <td>30</td>\n",
              "      <td>3</td>\n",
              "      <td>37</td>\n",
              "      <td>no</td>\n",
              "    </tr>\n",
              "  </tbody>\n",
              "</table>\n",
              "<p>274 rows × 9 columns</p>\n",
              "</div>"
            ],
            "text/plain": [
              "      ID  TIME  Y       trt  celltype  karno  diagtime  age priortherapy\n",
              "0      1     0  0  standard  squamous     60         7   69           no\n",
              "1      1    72  1  standard  squamous     60         7   69           no\n",
              "2      2     0  0  standard  squamous     70         5   64          yes\n",
              "3      2   411  1  standard  squamous     70         5   64          yes\n",
              "4      3     0  0  standard  squamous     60         3   38           no\n",
              "..   ...   ... ..       ...       ...    ...       ...  ...          ...\n",
              "269  135   231  1      test     large     70        18   67          yes\n",
              "270  136     0  0      test     large     80         4   65           no\n",
              "271  136   378  1      test     large     80         4   65           no\n",
              "272  137     0  0      test     large     30         3   37           no\n",
              "273  137    49  1      test     large     30         3   37           no\n",
              "\n",
              "[274 rows x 9 columns]"
            ]
          },
          "execution_count": 101,
          "metadata": {},
          "output_type": "execute_result"
        }
      ],
      "source": [
        "df=pd.read_csv('https://samatrix-data.s3.ap-south-1.amazonaws.com/Statistics-Project/veteran.csv')\n",
        "df"
      ]
    },
    {
      "cell_type": "code",
      "execution_count": 102,
      "metadata": {
        "colab": {
          "base_uri": "https://localhost:8080/"
        },
        "id": "CA8rncj_ePOg",
        "outputId": "c7326bb8-fc76-4e5e-a3cc-3dc435033c29"
      },
      "outputs": [
        {
          "name": "stdout",
          "output_type": "stream",
          "text": [
            "<class 'pandas.core.frame.DataFrame'>\n",
            "RangeIndex: 274 entries, 0 to 273\n",
            "Data columns (total 9 columns):\n",
            " #   Column        Non-Null Count  Dtype \n",
            "---  ------        --------------  ----- \n",
            " 0   ID            274 non-null    int64 \n",
            " 1   TIME          274 non-null    int64 \n",
            " 2   Y             274 non-null    int64 \n",
            " 3   trt           274 non-null    object\n",
            " 4   celltype      274 non-null    object\n",
            " 5   karno         274 non-null    int64 \n",
            " 6   diagtime      274 non-null    int64 \n",
            " 7   age           274 non-null    int64 \n",
            " 8   priortherapy  274 non-null    object\n",
            "dtypes: int64(6), object(3)\n",
            "memory usage: 19.4+ KB\n"
          ]
        }
      ],
      "source": [
        "df.info()"
      ]
    },
    {
      "cell_type": "markdown",
      "metadata": {
        "id": "MuHzIedsf7J9"
      },
      "source": [
        "## Kaplan-Meier Method"
      ]
    },
    {
      "cell_type": "markdown",
      "metadata": {
        "id": "jLUtg40dxUOO"
      },
      "source": [
        "The **Kaplan-Meier method** is a statistical technique used to estimate how long patients survive after treatment. It creates a step-by-step survival curve that shows the chance of staying alive (or event-free) at different times during a study. This method works well even if some patients drop out or do not have the event (called censored data).\n",
        "\n",
        "Technically, the Kaplan-Meier method uses the time-to-event data (like the `TIME` and `Y` columns in our dataset) to calculate survival probabilities at each event time. It is often used to compare survival between groups (such as different treatments or cell types) and is the basis for further analysis, like the **log-rank test** (for comparing groups) and the **Cox proportional hazards model** (for assessing the effect of multiple factors on survival).\n"
      ]
    },
    {
      "cell_type": "markdown",
      "metadata": {
        "id": "LdM9bIHl0hki"
      },
      "source": [
        "KaplanMeierFitter use to create a survival model. It filters the dataset to only include patients where Y == 1. Then it fits the model using time and status columns and plots the survival function for all patients.\n",
        "\n"
      ]
    },
    {
      "cell_type": "code",
      "execution_count": 103,
      "metadata": {
        "colab": {
          "base_uri": "https://localhost:8080/",
          "height": 472
        },
        "id": "RT0G85Z5fczA",
        "outputId": "89fb220b-4a13-4c83-d055-bd88609ef522"
      },
      "outputs": [
        {
          "data": {
            "image/png": "[encoded data removed]",
            "text/plain": [
              "<Figure size 640x480 with 1 Axes>"
            ]
          },
          "metadata": {},
          "output_type": "display_data"
        }
      ],
      "source": [
        "kmf=KaplanMeierFitter()\n",
        "#separate your event(y=1 or y=0)\n",
        "df_event=df[df['Y']==1]\n",
        "\n",
        "#for overall patient curve\n",
        "kmf.fit(durations=df_event['TIME'],event_observed=df_event['Y'])\n",
        "kmf.plot_survival_function()\n",
        "plt.title('Overall Patient curve')\n",
        "plt.show()"
      ]
    },
    {
      "cell_type": "markdown",
      "metadata": {
        "id": "6Vy_gtPU1Ebh"
      },
      "source": [
        "**Insights:**  \n",
        "The Kaplan-Meier survival curves for different treatment groups reveal how patient survival probabilities change over time for each group. If the survival curve for one treatment consistently remains above the other, it suggests that patients in that group tend to survive longer. A clear separation between the curves indicates a difference in treatment effectiveness. Overlapping curves imply similar survival outcomes between groups. By visually comparing these curves, we can identify which treatment offers better survival prospects and whether the difference is substantial or minimal."
      ]
    },
    {
      "cell_type": "code",
      "execution_count": 104,
      "metadata": {
        "colab": {
          "base_uri": "https://localhost:8080/",
          "height": 472
        },
        "id": "UmqGTku_REty",
        "outputId": "29d2ed82-f21d-4ad9-c279-8a1142bd8585"
      },
      "outputs": [
        {
          "data": {
            "image/png": "[encoded data removed]",
            "text/plain": [
              "<Figure size 640x480 with 1 Axes>"
            ]
          },
          "metadata": {},
          "output_type": "display_data"
        }
      ],
      "source": [
        "#curve according to treatment group\n",
        "for trt_group in df_event['trt'].unique():\n",
        "  mask=df_event['trt']==trt_group\n",
        "  kmf.fit(df_event[mask]['TIME'],df_event[mask]['Y'],label=trt_group)\n",
        "  kmf.plot_survival_function()\n",
        "plt.grid()\n",
        "plt.title('Treatment group curve')\n",
        "plt.show()"
      ]
    },
    {
      "cell_type": "markdown",
      "metadata": {
        "id": "7NruZcW2ZsPn"
      },
      "source": [
        "## Median Survival Time\n",
        "\n",
        "**Median survival time** is the point at which half of the study participants have experienced the event of interest (such as death). This value is obtained from the **Kaplan-Meier survival curve** and serves as a key indicator of treatment performance. A higher median survival time for a group suggests that its patients, on average, remained event-free for a longer period, reflecting more favorable outcomes.\n"
      ]
    },
    {
      "cell_type": "markdown",
      "metadata": {
        "id": "UoXD8rDK_-at"
      },
      "source": [
        "It calculates and prints the median survival time for each treatment group. It uses Kaplan-Meier estimation to fit each group’s survival function and accesses the median survival time attribute to report the result."
      ]
    },
    {
      "cell_type": "code",
      "execution_count": 105,
      "metadata": {
        "colab": {
          "base_uri": "https://localhost:8080/"
        },
        "id": "b-35oQDqWNiG",
        "outputId": "31122627-9ba6-4012-c20a-65e8a2e27f8b"
      },
      "outputs": [
        {
          "name": "stdout",
          "output_type": "stream",
          "text": [
            "Median survival time for standard is 93.5\n",
            "Median survival time for test is 51.5\n"
          ]
        }
      ],
      "source": [
        "for trt_group in df_event['trt'].unique():\n",
        "  mask=df_event['trt']==trt_group\n",
        "  kmf.fit(df_event[mask]['TIME'],df_event[mask]['Y'],label=str(trt_group)+'median='+str(np.median(df_event[mask]['TIME'])))\n",
        "  print(f\"Median survival time for {trt_group} is {np.median(df_event[mask]['TIME'])}\")"
      ]
    },
    {
      "cell_type": "markdown",
      "metadata": {
        "id": "ovh_lAlFgAGX"
      },
      "source": [
        "## Log-Rank Test\n",
        "\n",
        "The **log-rank test** is a statistical tool used to compare how long people in different groups survive, such as patients receiving different treatments. It checks if there is a meaningful difference between the survival curves of these groups. If the test gives a **low p-value**, it means there is a significant difference in survival times, helping us see which treatment works better.\n",
        "\n",
        "In this step, we use the **log-rank test** to compare survival times between two treatment groups: *\"standard\"* and *\"test\"*. We separate the data for each group and use the `logrank_test()` function to see if their survival patterns are truly different. The test result includes a **p-value**, which tells us if one treatment group has a noticeably better survival outcome than the other.\n"
      ]
    },
    {
      "cell_type": "code",
      "execution_count": 106,
      "metadata": {
        "colab": {
          "base_uri": "https://localhost:8080/"
        },
        "id": "kEsk3fdpfu12",
        "outputId": "90566072-f607-426c-f817-6c6194bd1d0a"
      },
      "outputs": [
        {
          "name": "stdout",
          "output_type": "stream",
          "text": [
            "   test_statistic        p  -log2(p)\n",
            "0          0.0116  0.91423  0.129371\n"
          ]
        }
      ],
      "source": [
        "from lifelines.statistics import logrank_test\n",
        "group1=df_event[df_event['trt']=='standard']\n",
        "group2=df_event[df_event['trt']=='test']\n",
        "results=logrank_test(group1['TIME'],group2['TIME'],event_observed_A=group1['Y'],event_observed_B=group2['Y'])\n",
        "print(results.summary)"
      ]
    },
    {
      "cell_type": "markdown",
      "metadata": {
        "id": "NKhGNp3Hlmtg"
      },
      "source": [
        "## Cox Proportional Hazards Model\n",
        "\n",
        "The **Cox Proportional Hazards Model** is a widely used method in survival analysis to examine how multiple variables simultaneously influence the time until a specific event occurs. It estimates the hazard, or risk, of the event at any given time, under the assumption that the effect of each variable remains constant over time. This model enables the identification of significant predictors of survival while accounting for the presence of other factors.\n",
        "\n",
        "Before fitting the Cox model, the data is prepared by creating a copy of the filtered event dataset and converting categorical variables (`trt`, `celltype`, `priortherapy`) into dummy variables. This encoding is necessary for regression analysis.\n"
      ]
    },
    {
      "cell_type": "code",
      "execution_count": 107,
      "metadata": {
        "id": "u1qr5ahdhweo"
      },
      "outputs": [],
      "source": [
        "#prepare wide-formate data: one row per subject\n",
        "from lifelines import CoxPHFitter\n",
        "df_wide=df_event.copy()\n",
        "#Encode categorical variables\n",
        "df_wide=pd.get_dummies(df_wide,columns=['trt','celltype','priortherapy'],drop_first=True)"
      ]
    },
    {
      "cell_type": "markdown",
      "metadata": {
        "id": "WKplE_coCBdW"
      },
      "source": [
        "Before fitting the Cox model, categorical variables are converted into dummy variables to create a wide-format dataframe suitable for regression.\n",
        "\n",
        "In this step, the **Cox Proportional Hazards model** is applied to the processed dataset, using `TIME` as the duration and `Y` as the event indicator. The model summary displays hazard ratios and the statistical significance of each covariate. A plot visualizes these hazard ratios, where values above 1 indicate increased risk and values below 1 indicate reduced risk.\n"
      ]
    },
    {
      "cell_type": "code",
      "execution_count": 108,
      "metadata": {
        "colab": {
          "base_uri": "https://localhost:8080/",
          "height": 1000
        },
        "id": "JUzQjEPQpkxf",
        "outputId": "b96e7025-7125-47f8-fe52-0344f102aee1"
      },
      "outputs": [
        {
          "data": {
            "text/html": [
              "<div>\n",
              "<style scoped>\n",
              "    .dataframe tbody tr th:only-of-type {\n",
              "        vertical-align: middle;\n",
              "    }\n",
              "\n",
              "    .dataframe tbody tr th {\n",
              "        vertical-align: top;\n",
              "    }\n",
              "\n",
              "    .dataframe thead th {\n",
              "        text-align: right;\n",
              "    }\n",
              "</style>\n",
              "<table border=\"1\" class=\"dataframe\">\n",
              "  <tbody>\n",
              "    <tr>\n",
              "      <th>model</th>\n",
              "      <td>lifelines.CoxPHFitter</td>\n",
              "    </tr>\n",
              "    <tr>\n",
              "      <th>duration col</th>\n",
              "      <td>'TIME'</td>\n",
              "    </tr>\n",
              "    <tr>\n",
              "      <th>event col</th>\n",
              "      <td>'Y'</td>\n",
              "    </tr>\n",
              "    <tr>\n",
              "      <th>baseline estimation</th>\n",
              "      <td>breslow</td>\n",
              "    </tr>\n",
              "    <tr>\n",
              "      <th>number of observations</th>\n",
              "      <td>128</td>\n",
              "    </tr>\n",
              "    <tr>\n",
              "      <th>number of events observed</th>\n",
              "      <td>128</td>\n",
              "    </tr>\n",
              "    <tr>\n",
              "      <th>partial log-likelihood</th>\n",
              "      <td>-465.21</td>\n",
              "    </tr>\n",
              "    <tr>\n",
              "      <th>time fit was run</th>\n",
              "      <td>2025-06-05 14:27:03 UTC</td>\n",
              "    </tr>\n",
              "  </tbody>\n",
              "</table>\n",
              "</div><table border=\"1\" class=\"dataframe\">\n",
              "  <thead>\n",
              "    <tr style=\"text-align: right;\">\n",
              "      <th style=\"min-width: 12px;\"></th>\n",
              "      <th style=\"min-width: 12px;\">coef</th>\n",
              "      <th style=\"min-width: 12px;\">exp(coef)</th>\n",
              "      <th style=\"min-width: 12px;\">se(coef)</th>\n",
              "      <th style=\"min-width: 12px;\">coef lower 95%</th>\n",
              "      <th style=\"min-width: 12px;\">coef upper 95%</th>\n",
              "      <th style=\"min-width: 12px;\">exp(coef) lower 95%</th>\n",
              "      <th style=\"min-width: 12px;\">exp(coef) upper 95%</th>\n",
              "      <th style=\"min-width: 12px;\">cmp to</th>\n",
              "      <th style=\"min-width: 12px;\">z</th>\n",
              "      <th style=\"min-width: 12px;\">p</th>\n",
              "      <th style=\"min-width: 12px;\">-log2(p)</th>\n",
              "    </tr>\n",
              "  </thead>\n",
              "  <tbody>\n",
              "    <tr>\n",
              "      <th>ID</th>\n",
              "      <td>0.00</td>\n",
              "      <td>1.00</td>\n",
              "      <td>0.01</td>\n",
              "      <td>-0.03</td>\n",
              "      <td>0.03</td>\n",
              "      <td>0.97</td>\n",
              "      <td>1.03</td>\n",
              "      <td>0.00</td>\n",
              "      <td>0.20</td>\n",
              "      <td>0.84</td>\n",
              "      <td>0.25</td>\n",
              "    </tr>\n",
              "    <tr>\n",
              "      <th>karno</th>\n",
              "      <td>-0.03</td>\n",
              "      <td>0.97</td>\n",
              "      <td>0.01</td>\n",
              "      <td>-0.05</td>\n",
              "      <td>-0.02</td>\n",
              "      <td>0.96</td>\n",
              "      <td>0.98</td>\n",
              "      <td>0.00</td>\n",
              "      <td>-6.08</td>\n",
              "      <td>&lt;0.005</td>\n",
              "      <td>29.60</td>\n",
              "    </tr>\n",
              "    <tr>\n",
              "      <th>diagtime</th>\n",
              "      <td>-0.00</td>\n",
              "      <td>1.00</td>\n",
              "      <td>0.01</td>\n",
              "      <td>-0.02</td>\n",
              "      <td>0.01</td>\n",
              "      <td>0.98</td>\n",
              "      <td>1.01</td>\n",
              "      <td>0.00</td>\n",
              "      <td>-0.47</td>\n",
              "      <td>0.63</td>\n",
              "      <td>0.66</td>\n",
              "    </tr>\n",
              "    <tr>\n",
              "      <th>age</th>\n",
              "      <td>-0.01</td>\n",
              "      <td>0.99</td>\n",
              "      <td>0.01</td>\n",
              "      <td>-0.03</td>\n",
              "      <td>0.00</td>\n",
              "      <td>0.97</td>\n",
              "      <td>1.00</td>\n",
              "      <td>0.00</td>\n",
              "      <td>-1.54</td>\n",
              "      <td>0.12</td>\n",
              "      <td>3.02</td>\n",
              "    </tr>\n",
              "    <tr>\n",
              "      <th>trt_test</th>\n",
              "      <td>0.16</td>\n",
              "      <td>1.17</td>\n",
              "      <td>1.02</td>\n",
              "      <td>-1.84</td>\n",
              "      <td>2.16</td>\n",
              "      <td>0.16</td>\n",
              "      <td>8.63</td>\n",
              "      <td>0.00</td>\n",
              "      <td>0.16</td>\n",
              "      <td>0.88</td>\n",
              "      <td>0.19</td>\n",
              "    </tr>\n",
              "    <tr>\n",
              "      <th>celltype_large</th>\n",
              "      <td>-0.83</td>\n",
              "      <td>0.43</td>\n",
              "      <td>0.36</td>\n",
              "      <td>-1.53</td>\n",
              "      <td>-0.14</td>\n",
              "      <td>0.22</td>\n",
              "      <td>0.87</td>\n",
              "      <td>0.00</td>\n",
              "      <td>-2.34</td>\n",
              "      <td>0.02</td>\n",
              "      <td>5.71</td>\n",
              "    </tr>\n",
              "    <tr>\n",
              "      <th>celltype_smallcell</th>\n",
              "      <td>-0.12</td>\n",
              "      <td>0.88</td>\n",
              "      <td>0.38</td>\n",
              "      <td>-0.88</td>\n",
              "      <td>0.63</td>\n",
              "      <td>0.42</td>\n",
              "      <td>1.88</td>\n",
              "      <td>0.00</td>\n",
              "      <td>-0.32</td>\n",
              "      <td>0.75</td>\n",
              "      <td>0.42</td>\n",
              "    </tr>\n",
              "    <tr>\n",
              "      <th>celltype_squamous</th>\n",
              "      <td>-0.97</td>\n",
              "      <td>0.38</td>\n",
              "      <td>0.66</td>\n",
              "      <td>-2.27</td>\n",
              "      <td>0.33</td>\n",
              "      <td>0.10</td>\n",
              "      <td>1.38</td>\n",
              "      <td>0.00</td>\n",
              "      <td>-1.47</td>\n",
              "      <td>0.14</td>\n",
              "      <td>2.82</td>\n",
              "    </tr>\n",
              "    <tr>\n",
              "      <th>priortherapy_yes</th>\n",
              "      <td>0.18</td>\n",
              "      <td>1.20</td>\n",
              "      <td>0.24</td>\n",
              "      <td>-0.28</td>\n",
              "      <td>0.65</td>\n",
              "      <td>0.76</td>\n",
              "      <td>1.91</td>\n",
              "      <td>0.00</td>\n",
              "      <td>0.79</td>\n",
              "      <td>0.43</td>\n",
              "      <td>1.21</td>\n",
              "    </tr>\n",
              "  </tbody>\n",
              "</table><br><div>\n",
              "<style scoped>\n",
              "    .dataframe tbody tr th:only-of-type {\n",
              "        vertical-align: middle;\n",
              "    }\n",
              "\n",
              "    .dataframe tbody tr th {\n",
              "        vertical-align: top;\n",
              "    }\n",
              "\n",
              "    .dataframe thead th {\n",
              "        text-align: right;\n",
              "    }\n",
              "</style>\n",
              "<table border=\"1\" class=\"dataframe\">\n",
              "  <tbody>\n",
              "    <tr>\n",
              "      <th>Concordance</th>\n",
              "      <td>0.74</td>\n",
              "    </tr>\n",
              "    <tr>\n",
              "      <th>Partial AIC</th>\n",
              "      <td>948.43</td>\n",
              "    </tr>\n",
              "    <tr>\n",
              "      <th>log-likelihood ratio test</th>\n",
              "      <td>62.38 on 9 df</td>\n",
              "    </tr>\n",
              "    <tr>\n",
              "      <th>-log2(p) of ll-ratio test</th>\n",
              "      <td>31.00</td>\n",
              "    </tr>\n",
              "  </tbody>\n",
              "</table>\n",
              "</div>"
            ],
            "text/latex": [
              "\\begin{tabular}{lrrrrrrrrrrr}\n",
              " & coef & exp(coef) & se(coef) & coef lower 95% & coef upper 95% & exp(coef) lower 95% & exp(coef) upper 95% & cmp to & z & p & -log2(p) \\\\\n",
              "covariate &  &  &  &  &  &  &  &  &  &  &  \\\\\n",
              "ID & 0.00 & 1.00 & 0.01 & -0.03 & 0.03 & 0.97 & 1.03 & 0.00 & 0.20 & 0.84 & 0.25 \\\\\n",
              "karno & -0.03 & 0.97 & 0.01 & -0.05 & -0.02 & 0.96 & 0.98 & 0.00 & -6.08 & 0.00 & 29.60 \\\\\n",
              "diagtime & -0.00 & 1.00 & 0.01 & -0.02 & 0.01 & 0.98 & 1.01 & 0.00 & -0.47 & 0.63 & 0.66 \\\\\n",
              "age & -0.01 & 0.99 & 0.01 & -0.03 & 0.00 & 0.97 & 1.00 & 0.00 & -1.54 & 0.12 & 3.02 \\\\\n",
              "trt_test & 0.16 & 1.17 & 1.02 & -1.84 & 2.16 & 0.16 & 8.63 & 0.00 & 0.16 & 0.88 & 0.19 \\\\\n",
              "celltype_large & -0.83 & 0.43 & 0.36 & -1.53 & -0.14 & 0.22 & 0.87 & 0.00 & -2.34 & 0.02 & 5.71 \\\\\n",
              "celltype_smallcell & -0.12 & 0.88 & 0.38 & -0.88 & 0.63 & 0.42 & 1.88 & 0.00 & -0.32 & 0.75 & 0.42 \\\\\n",
              "celltype_squamous & -0.97 & 0.38 & 0.66 & -2.27 & 0.33 & 0.10 & 1.38 & 0.00 & -1.47 & 0.14 & 2.82 \\\\\n",
              "priortherapy_yes & 0.18 & 1.20 & 0.24 & -0.28 & 0.65 & 0.76 & 1.91 & 0.00 & 0.79 & 0.43 & 1.21 \\\\\n",
              "\\end{tabular}\n"
            ],
            "text/plain": [
              "<lifelines.CoxPHFitter: fitted with 128 total observations, 0 right-censored observations>\n",
              "             duration col = 'TIME'\n",
              "                event col = 'Y'\n",
              "      baseline estimation = breslow\n",
              "   number of observations = 128\n",
              "number of events observed = 128\n",
              "   partial log-likelihood = -465.21\n",
              "         time fit was run = 2025-06-05 14:27:03 UTC\n",
              "\n",
              "---\n",
              "                    coef exp(coef)  se(coef)  coef lower 95%  coef upper 95% exp(coef) lower 95% exp(coef) upper 95%\n",
              "covariate                                                                                                           \n",
              "ID                  0.00      1.00      0.01           -0.03            0.03                0.97                1.03\n",
              "karno              -0.03      0.97      0.01           -0.05           -0.02                0.96                0.98\n",
              "diagtime           -0.00      1.00      0.01           -0.02            0.01                0.98                1.01\n",
              "age                -0.01      0.99      0.01           -0.03            0.00                0.97                1.00\n",
              "trt_test            0.16      1.17      1.02           -1.84            2.16                0.16                8.63\n",
              "celltype_large     -0.83      0.43      0.36           -1.53           -0.14                0.22                0.87\n",
              "celltype_smallcell -0.12      0.88      0.38           -0.88            0.63                0.42                1.88\n",
              "celltype_squamous  -0.97      0.38      0.66           -2.27            0.33                0.10                1.38\n",
              "priortherapy_yes    0.18      1.20      0.24           -0.28            0.65                0.76                1.91\n",
              "\n",
              "                    cmp to     z      p  -log2(p)\n",
              "covariate                                        \n",
              "ID                    0.00  0.20   0.84      0.25\n",
              "karno                 0.00 -6.08 <0.005     29.60\n",
              "diagtime              0.00 -0.47   0.63      0.66\n",
              "age                   0.00 -1.54   0.12      3.02\n",
              "trt_test              0.00  0.16   0.88      0.19\n",
              "celltype_large        0.00 -2.34   0.02      5.71\n",
              "celltype_smallcell    0.00 -0.32   0.75      0.42\n",
              "celltype_squamous     0.00 -1.47   0.14      2.82\n",
              "priortherapy_yes      0.00  0.79   0.43      1.21\n",
              "---\n",
              "Concordance = 0.74\n",
              "Partial AIC = 948.43\n",
              "log-likelihood ratio test = 62.38 on 9 df\n",
              "-log2(p) of ll-ratio test = 31.00"
            ]
          },
          "metadata": {},
          "output_type": "display_data"
        },
        {
          "data": {
            "image/png": "[encoded data removed]",
            "text/plain": [
              "<Figure size 640x480 with 1 Axes>"
            ]
          },
          "metadata": {},
          "output_type": "display_data"
        }
      ],
      "source": [
        "cph=CoxPHFitter()\n",
        "cph.fit(df_wide,duration_col='TIME',event_col='Y')\n",
        "cph.print_summary()\n",
        "cph.plot()\n",
        "plt.show()\n",
        "#if hazard score is >1 then higher risk and <1 less risk"
      ]
    },
    {
      "cell_type": "markdown",
      "metadata": {
        "id": "zOkkuxbIH6ek"
      },
      "source": [
        "## Stratified Cox Model\n",
        "\n",
        "The Stratified Cox Model is a version of the Cox regression that accounts for differences in baseline risk between groups, such as different cancer cell types. Instead of assuming all groups start with the same risk, this model lets each group have its own starting risk level (baseline hazard). However, it still assumes that the effects of other factors—like treatment or prior therapy—are the same across all groups.\n",
        "\n",
        "This approach is helpful when groups have different risk patterns over time, which can violate the assumptions of the standard Cox model. By using a stratified model, we get more accurate results when comparing the impact of treatments or other variables across groups with different baseline risks.\n",
        "\n"
      ]
    },
    {
      "cell_type": "code",
      "execution_count": 109,
      "metadata": {
        "colab": {
          "base_uri": "https://localhost:8080/",
          "height": 717
        },
        "id": "2loT28iqH7D1",
        "outputId": "c6d504cc-41c6-461a-f652-3d0f1ad0bf9b"
      },
      "outputs": [
        {
          "data": {
            "text/html": [
              "<div>\n",
              "<style scoped>\n",
              "    .dataframe tbody tr th:only-of-type {\n",
              "        vertical-align: middle;\n",
              "    }\n",
              "\n",
              "    .dataframe tbody tr th {\n",
              "        vertical-align: top;\n",
              "    }\n",
              "\n",
              "    .dataframe thead th {\n",
              "        text-align: right;\n",
              "    }\n",
              "</style>\n",
              "<table border=\"1\" class=\"dataframe\">\n",
              "  <tbody>\n",
              "    <tr>\n",
              "      <th>model</th>\n",
              "      <td>lifelines.CoxPHFitter</td>\n",
              "    </tr>\n",
              "    <tr>\n",
              "      <th>duration col</th>\n",
              "      <td>'TIME'</td>\n",
              "    </tr>\n",
              "    <tr>\n",
              "      <th>event col</th>\n",
              "      <td>'Y'</td>\n",
              "    </tr>\n",
              "    <tr>\n",
              "      <th>strata</th>\n",
              "      <td>celltype</td>\n",
              "    </tr>\n",
              "    <tr>\n",
              "      <th>baseline estimation</th>\n",
              "      <td>breslow</td>\n",
              "    </tr>\n",
              "    <tr>\n",
              "      <th>number of observations</th>\n",
              "      <td>274</td>\n",
              "    </tr>\n",
              "    <tr>\n",
              "      <th>number of events observed</th>\n",
              "      <td>128</td>\n",
              "    </tr>\n",
              "    <tr>\n",
              "      <th>partial log-likelihood</th>\n",
              "      <td>-315.99</td>\n",
              "    </tr>\n",
              "    <tr>\n",
              "      <th>time fit was run</th>\n",
              "      <td>2025-06-05 14:27:03 UTC</td>\n",
              "    </tr>\n",
              "  </tbody>\n",
              "</table>\n",
              "</div><table border=\"1\" class=\"dataframe\">\n",
              "  <thead>\n",
              "    <tr style=\"text-align: right;\">\n",
              "      <th style=\"min-width: 12px;\"></th>\n",
              "      <th style=\"min-width: 12px;\">coef</th>\n",
              "      <th style=\"min-width: 12px;\">exp(coef)</th>\n",
              "      <th style=\"min-width: 12px;\">se(coef)</th>\n",
              "      <th style=\"min-width: 12px;\">coef lower 95%</th>\n",
              "      <th style=\"min-width: 12px;\">coef upper 95%</th>\n",
              "      <th style=\"min-width: 12px;\">exp(coef) lower 95%</th>\n",
              "      <th style=\"min-width: 12px;\">exp(coef) upper 95%</th>\n",
              "      <th style=\"min-width: 12px;\">cmp to</th>\n",
              "      <th style=\"min-width: 12px;\">z</th>\n",
              "      <th style=\"min-width: 12px;\">p</th>\n",
              "      <th style=\"min-width: 12px;\">-log2(p)</th>\n",
              "    </tr>\n",
              "  </thead>\n",
              "  <tbody>\n",
              "    <tr>\n",
              "      <th>ID</th>\n",
              "      <td>0.02</td>\n",
              "      <td>1.02</td>\n",
              "      <td>0.02</td>\n",
              "      <td>-0.01</td>\n",
              "      <td>0.05</td>\n",
              "      <td>0.99</td>\n",
              "      <td>1.05</td>\n",
              "      <td>0.00</td>\n",
              "      <td>1.11</td>\n",
              "      <td>0.27</td>\n",
              "      <td>1.90</td>\n",
              "    </tr>\n",
              "    <tr>\n",
              "      <th>karno</th>\n",
              "      <td>-0.04</td>\n",
              "      <td>0.96</td>\n",
              "      <td>0.01</td>\n",
              "      <td>-0.05</td>\n",
              "      <td>-0.03</td>\n",
              "      <td>0.95</td>\n",
              "      <td>0.97</td>\n",
              "      <td>0.00</td>\n",
              "      <td>-6.52</td>\n",
              "      <td>&lt;0.005</td>\n",
              "      <td>33.73</td>\n",
              "    </tr>\n",
              "    <tr>\n",
              "      <th>diagtime</th>\n",
              "      <td>-0.01</td>\n",
              "      <td>0.99</td>\n",
              "      <td>0.01</td>\n",
              "      <td>-0.02</td>\n",
              "      <td>0.01</td>\n",
              "      <td>0.98</td>\n",
              "      <td>1.01</td>\n",
              "      <td>0.00</td>\n",
              "      <td>-0.60</td>\n",
              "      <td>0.55</td>\n",
              "      <td>0.86</td>\n",
              "    </tr>\n",
              "    <tr>\n",
              "      <th>age</th>\n",
              "      <td>-0.01</td>\n",
              "      <td>0.99</td>\n",
              "      <td>0.01</td>\n",
              "      <td>-0.03</td>\n",
              "      <td>0.01</td>\n",
              "      <td>0.97</td>\n",
              "      <td>1.01</td>\n",
              "      <td>0.00</td>\n",
              "      <td>-1.41</td>\n",
              "      <td>0.16</td>\n",
              "      <td>2.65</td>\n",
              "    </tr>\n",
              "    <tr>\n",
              "      <th>trt_test</th>\n",
              "      <td>-0.90</td>\n",
              "      <td>0.41</td>\n",
              "      <td>1.09</td>\n",
              "      <td>-3.03</td>\n",
              "      <td>1.24</td>\n",
              "      <td>0.05</td>\n",
              "      <td>3.44</td>\n",
              "      <td>0.00</td>\n",
              "      <td>-0.82</td>\n",
              "      <td>0.41</td>\n",
              "      <td>1.29</td>\n",
              "    </tr>\n",
              "    <tr>\n",
              "      <th>priortherapy_yes</th>\n",
              "      <td>0.22</td>\n",
              "      <td>1.24</td>\n",
              "      <td>0.24</td>\n",
              "      <td>-0.25</td>\n",
              "      <td>0.69</td>\n",
              "      <td>0.78</td>\n",
              "      <td>1.99</td>\n",
              "      <td>0.00</td>\n",
              "      <td>0.90</td>\n",
              "      <td>0.37</td>\n",
              "      <td>1.44</td>\n",
              "    </tr>\n",
              "  </tbody>\n",
              "</table><br><div>\n",
              "<style scoped>\n",
              "    .dataframe tbody tr th:only-of-type {\n",
              "        vertical-align: middle;\n",
              "    }\n",
              "\n",
              "    .dataframe tbody tr th {\n",
              "        vertical-align: top;\n",
              "    }\n",
              "\n",
              "    .dataframe thead th {\n",
              "        text-align: right;\n",
              "    }\n",
              "</style>\n",
              "<table border=\"1\" class=\"dataframe\">\n",
              "  <tbody>\n",
              "    <tr>\n",
              "      <th>Concordance</th>\n",
              "      <td>0.71</td>\n",
              "    </tr>\n",
              "    <tr>\n",
              "      <th>Partial AIC</th>\n",
              "      <td>643.99</td>\n",
              "    </tr>\n",
              "    <tr>\n",
              "      <th>log-likelihood ratio test</th>\n",
              "      <td>45.48 on 6 df</td>\n",
              "    </tr>\n",
              "    <tr>\n",
              "      <th>-log2(p) of ll-ratio test</th>\n",
              "      <td>24.67</td>\n",
              "    </tr>\n",
              "  </tbody>\n",
              "</table>\n",
              "</div>"
            ],
            "text/latex": [
              "\\begin{tabular}{lrrrrrrrrrrr}\n",
              " & coef & exp(coef) & se(coef) & coef lower 95% & coef upper 95% & exp(coef) lower 95% & exp(coef) upper 95% & cmp to & z & p & -log2(p) \\\\\n",
              "covariate &  &  &  &  &  &  &  &  &  &  &  \\\\\n",
              "ID & 0.02 & 1.02 & 0.02 & -0.01 & 0.05 & 0.99 & 1.05 & 0.00 & 1.11 & 0.27 & 1.90 \\\\\n",
              "karno & -0.04 & 0.96 & 0.01 & -0.05 & -0.03 & 0.95 & 0.97 & 0.00 & -6.52 & 0.00 & 33.73 \\\\\n",
              "diagtime & -0.01 & 0.99 & 0.01 & -0.02 & 0.01 & 0.98 & 1.01 & 0.00 & -0.60 & 0.55 & 0.86 \\\\\n",
              "age & -0.01 & 0.99 & 0.01 & -0.03 & 0.01 & 0.97 & 1.01 & 0.00 & -1.41 & 0.16 & 2.65 \\\\\n",
              "trt_test & -0.90 & 0.41 & 1.09 & -3.03 & 1.24 & 0.05 & 3.44 & 0.00 & -0.82 & 0.41 & 1.29 \\\\\n",
              "priortherapy_yes & 0.22 & 1.24 & 0.24 & -0.25 & 0.69 & 0.78 & 1.99 & 0.00 & 0.90 & 0.37 & 1.44 \\\\\n",
              "\\end{tabular}\n"
            ],
            "text/plain": [
              "<lifelines.CoxPHFitter: fitted with 274 total observations, 146 right-censored observations>\n",
              "             duration col = 'TIME'\n",
              "                event col = 'Y'\n",
              "                   strata = celltype\n",
              "      baseline estimation = breslow\n",
              "   number of observations = 274\n",
              "number of events observed = 128\n",
              "   partial log-likelihood = -315.99\n",
              "         time fit was run = 2025-06-05 14:27:03 UTC\n",
              "\n",
              "---\n",
              "                  coef exp(coef)  se(coef)  coef lower 95%  coef upper 95% exp(coef) lower 95% exp(coef) upper 95%\n",
              "covariate                                                                                                         \n",
              "ID                0.02      1.02      0.02           -0.01            0.05                0.99                1.05\n",
              "karno            -0.04      0.96      0.01           -0.05           -0.03                0.95                0.97\n",
              "diagtime         -0.01      0.99      0.01           -0.02            0.01                0.98                1.01\n",
              "age              -0.01      0.99      0.01           -0.03            0.01                0.97                1.01\n",
              "trt_test         -0.90      0.41      1.09           -3.03            1.24                0.05                3.44\n",
              "priortherapy_yes  0.22      1.24      0.24           -0.25            0.69                0.78                1.99\n",
              "\n",
              "                  cmp to     z      p  -log2(p)\n",
              "covariate                                      \n",
              "ID                  0.00  1.11   0.27      1.90\n",
              "karno               0.00 -6.52 <0.005     33.73\n",
              "diagtime            0.00 -0.60   0.55      0.86\n",
              "age                 0.00 -1.41   0.16      2.65\n",
              "trt_test            0.00 -0.82   0.41      1.29\n",
              "priortherapy_yes    0.00  0.90   0.37      1.44\n",
              "---\n",
              "Concordance = 0.71\n",
              "Partial AIC = 643.99\n",
              "log-likelihood ratio test = 45.48 on 6 df\n",
              "-log2(p) of ll-ratio test = 24.67"
            ]
          },
          "metadata": {},
          "output_type": "display_data"
        }
      ],
      "source": [
        "df_encoded = pd.get_dummies(df, columns=['trt', 'priortherapy'], drop_first=True)\n",
        "\n",
        "# Fit Stratified Cox Model using 'celltype' as the strata\n",
        "cph_strat = CoxPHFitter()\n",
        "cph_strat.fit(df_encoded, duration_col='TIME', event_col='Y', strata=['celltype'])\n",
        "cph_strat.print_summary()\n"
      ]
    },
    {
      "cell_type": "markdown",
      "metadata": {
        "id": "5ZhmzeHzf7JT"
      },
      "source": [
        "## Time-Varying Survival Analysis\n",
        "\n",
        "Time-Varying Survival Analysis\n",
        "Time-varying survival analysis is used when patient characteristics—such as treatment, health status, or other factors—change during the study period and can affect survival outcomes. Unlike traditional models that assume these factors stay the same, time-varying analysis tracks how changes over time influence the risk of an event (like death or relapse).\n",
        "\n",
        "To prepare the data, each patient’s observation period is split into intervals with defined start and stop times. The dataset is then merged by patient ID to capture these time-dependent changes. Categorical variables are converted into numerical codes (dummy variables) so they can be used in the analysis. A preview of the key columns in the processed data is shown for reference.\n",
        "\n",
        "The Time-Varying Covariate Model allows us to study how changes in patient conditions throughout the study impact survival, giving a more realistic and dynamic view of risk over time.\n",
        "\n",
        "\n"
      ]
    },
    {
      "cell_type": "code",
      "execution_count": 110,
      "metadata": {
        "colab": {
          "base_uri": "https://localhost:8080/"
        },
        "id": "Ka2Qq_hjsVzI",
        "outputId": "e5de540b-b2da-4e80-e283-2847a515eaa6"
      },
      "outputs": [
        {
          "name": "stdout",
          "output_type": "stream",
          "text": [
            "   ID  start  stop  event\n",
            "0   1      0    72      1\n",
            "1   2      0   411      1\n",
            "2   3      0   228      1\n",
            "3   4      0   126      1\n",
            "4   5      0   118      1\n"
          ]
        }
      ],
      "source": [
        "#step 1:Separate rows by Y\n",
        "df_start=df[df['Y']==0].copy() #start of observation/censoring\n",
        "df_event=df[df['Y']==1].copy() #Death\n",
        "\n",
        "#step 2:Merge on ID\n",
        "#Bring over TIME as stop and Y as event\n",
        "df_event=df_event.rename(columns={\"TIME\":\"stop\",\"Y\":\"event\"})\n",
        "df_start=df_start.rename(columns={\"TIME\":\"start\"})\n",
        "\n",
        "df_timevarying=pd.merge(df_start,df_event[[\"ID\",\"stop\",\"event\"]],on=\"ID\")\n",
        "df_timevarying=pd.get_dummies(df_timevarying,columns=['trt','celltype','priortherapy'],drop_first=True)\n",
        "\n",
        "#final check\n",
        "print(df_timevarying[[\"ID\",\"start\",\"stop\",\"event\"]].head())"
      ]
    },
    {
      "cell_type": "markdown",
      "metadata": {
        "id": "QwtJp2BMDaFX"
      },
      "source": [
        "\n",
        "\n",
        "Before fitting the model, the dataset is checked for missing values to ensure data quality. Additionally, the column `Y` is removed from the time-varying dataset to avoid redundancy and potential confusion during model training.\n"
      ]
    },
    {
      "cell_type": "code",
      "execution_count": 111,
      "metadata": {
        "colab": {
          "base_uri": "https://localhost:8080/"
        },
        "id": "xfSB3LHFk1lJ",
        "outputId": "e402640e-3c64-4ce3-cc2a-5f047f99e259"
      },
      "outputs": [
        {
          "name": "stdout",
          "output_type": "stream",
          "text": [
            "ID                    0\n",
            "start                 0\n",
            "Y                     0\n",
            "karno                 0\n",
            "diagtime              0\n",
            "age                   0\n",
            "stop                  0\n",
            "event                 0\n",
            "trt_test              0\n",
            "celltype_large        0\n",
            "celltype_smallcell    0\n",
            "celltype_squamous     0\n",
            "priortherapy_yes      0\n",
            "dtype: int64\n"
          ]
        }
      ],
      "source": [
        "#check there is null value\n",
        "print(df_timevarying.isnull().sum())\n",
        "#ensure y is not in the modeling data\n",
        "if 'Y' in df_timevarying.columns:\n",
        "   df_timevarying.drop(columns=['Y'],inplace=True)\n"
      ]
    },
    {
      "cell_type": "markdown",
      "metadata": {
        "id": "uPMwf7wUtZyn"
      },
      "source": [
        "## Cox Time-Varying Coefficient Model\n",
        "\n",
        "The **Cox Time-Varying Coefficient Model** is an advanced extension of the standard Cox proportional hazards model. Unlike the traditional model, which assumes that the effect (hazard ratio) of each covariate remains constant throughout the follow-up period, this model allows the influence of covariates to change over time. This flexibility is crucial for accurately modeling clinical scenarios where risk factors may have different impacts at various stages of patient follow-up.\n",
        "\n",
        "Technically, the model uses the `CoxTimeVaryingFitter` from the `lifelines` library, which requires the data to be structured with explicit start and stop times for each interval of observation, along with patient IDs and event indicators. By fitting this model, we can estimate how the hazard associated with each covariate evolves, identify time-dependent effects, and visualize these dynamic relationships through coefficient plots. This approach provides deeper insights into the temporal nature of risk factors and improves the interpretability of survival analysis in complex clinical datasets.\n"
      ]
    },
    {
      "cell_type": "code",
      "execution_count": 112,
      "metadata": {
        "colab": {
          "base_uri": "https://localhost:8080/",
          "height": 1000
        },
        "id": "CBqeTLZasyTt",
        "outputId": "b4776779-7cca-42b9-c24f-d1e883f85a7d"
      },
      "outputs": [
        {
          "data": {
            "text/html": [
              "<div>\n",
              "<style scoped>\n",
              "    .dataframe tbody tr th:only-of-type {\n",
              "        vertical-align: middle;\n",
              "    }\n",
              "\n",
              "    .dataframe tbody tr th {\n",
              "        vertical-align: top;\n",
              "    }\n",
              "\n",
              "    .dataframe thead th {\n",
              "        text-align: right;\n",
              "    }\n",
              "</style>\n",
              "<table border=\"1\" class=\"dataframe\">\n",
              "  <tbody>\n",
              "    <tr>\n",
              "      <th>model</th>\n",
              "      <td>lifelines.CoxTimeVaryingFitter</td>\n",
              "    </tr>\n",
              "    <tr>\n",
              "      <th>event col</th>\n",
              "      <td>'event'</td>\n",
              "    </tr>\n",
              "    <tr>\n",
              "      <th>number of subjects</th>\n",
              "      <td>128</td>\n",
              "    </tr>\n",
              "    <tr>\n",
              "      <th>number of periods</th>\n",
              "      <td>128</td>\n",
              "    </tr>\n",
              "    <tr>\n",
              "      <th>number of events</th>\n",
              "      <td>128</td>\n",
              "    </tr>\n",
              "    <tr>\n",
              "      <th>partial log-likelihood</th>\n",
              "      <td>-465.24</td>\n",
              "    </tr>\n",
              "    <tr>\n",
              "      <th>time fit was run</th>\n",
              "      <td>2025-06-05 14:27:03 UTC</td>\n",
              "    </tr>\n",
              "  </tbody>\n",
              "</table>\n",
              "</div><table border=\"1\" class=\"dataframe\">\n",
              "  <thead>\n",
              "    <tr style=\"text-align: right;\">\n",
              "      <th style=\"min-width: 12px;\"></th>\n",
              "      <th style=\"min-width: 12px;\">coef</th>\n",
              "      <th style=\"min-width: 12px;\">exp(coef)</th>\n",
              "      <th style=\"min-width: 12px;\">se(coef)</th>\n",
              "      <th style=\"min-width: 12px;\">coef lower 95%</th>\n",
              "      <th style=\"min-width: 12px;\">coef upper 95%</th>\n",
              "      <th style=\"min-width: 12px;\">exp(coef) lower 95%</th>\n",
              "      <th style=\"min-width: 12px;\">exp(coef) upper 95%</th>\n",
              "      <th style=\"min-width: 12px;\">cmp to</th>\n",
              "      <th style=\"min-width: 12px;\">z</th>\n",
              "      <th style=\"min-width: 12px;\">p</th>\n",
              "      <th style=\"min-width: 12px;\">-log2(p)</th>\n",
              "    </tr>\n",
              "  </thead>\n",
              "  <tbody>\n",
              "    <tr>\n",
              "      <th>karno</th>\n",
              "      <td>-0.03</td>\n",
              "      <td>0.97</td>\n",
              "      <td>0.01</td>\n",
              "      <td>-0.05</td>\n",
              "      <td>-0.02</td>\n",
              "      <td>0.96</td>\n",
              "      <td>0.98</td>\n",
              "      <td>0.00</td>\n",
              "      <td>-6.07</td>\n",
              "      <td>&lt;0.005</td>\n",
              "      <td>29.52</td>\n",
              "    </tr>\n",
              "    <tr>\n",
              "      <th>diagtime</th>\n",
              "      <td>-0.00</td>\n",
              "      <td>1.00</td>\n",
              "      <td>0.01</td>\n",
              "      <td>-0.02</td>\n",
              "      <td>0.01</td>\n",
              "      <td>0.98</td>\n",
              "      <td>1.01</td>\n",
              "      <td>0.00</td>\n",
              "      <td>-0.45</td>\n",
              "      <td>0.65</td>\n",
              "      <td>0.61</td>\n",
              "    </tr>\n",
              "    <tr>\n",
              "      <th>age</th>\n",
              "      <td>-0.01</td>\n",
              "      <td>0.99</td>\n",
              "      <td>0.01</td>\n",
              "      <td>-0.03</td>\n",
              "      <td>0.00</td>\n",
              "      <td>0.97</td>\n",
              "      <td>1.00</td>\n",
              "      <td>0.00</td>\n",
              "      <td>-1.53</td>\n",
              "      <td>0.12</td>\n",
              "      <td>3.00</td>\n",
              "    </tr>\n",
              "    <tr>\n",
              "      <th>trt_test</th>\n",
              "      <td>0.36</td>\n",
              "      <td>1.44</td>\n",
              "      <td>0.21</td>\n",
              "      <td>-0.05</td>\n",
              "      <td>0.77</td>\n",
              "      <td>0.95</td>\n",
              "      <td>2.17</td>\n",
              "      <td>0.00</td>\n",
              "      <td>1.72</td>\n",
              "      <td>0.08</td>\n",
              "      <td>3.56</td>\n",
              "    </tr>\n",
              "    <tr>\n",
              "      <th>celltype_large</th>\n",
              "      <td>-0.80</td>\n",
              "      <td>0.45</td>\n",
              "      <td>0.30</td>\n",
              "      <td>-1.38</td>\n",
              "      <td>-0.21</td>\n",
              "      <td>0.25</td>\n",
              "      <td>0.81</td>\n",
              "      <td>0.00</td>\n",
              "      <td>-2.65</td>\n",
              "      <td>0.01</td>\n",
              "      <td>6.95</td>\n",
              "    </tr>\n",
              "    <tr>\n",
              "      <th>celltype_smallcell</th>\n",
              "      <td>-0.18</td>\n",
              "      <td>0.84</td>\n",
              "      <td>0.28</td>\n",
              "      <td>-0.72</td>\n",
              "      <td>0.36</td>\n",
              "      <td>0.49</td>\n",
              "      <td>1.44</td>\n",
              "      <td>0.00</td>\n",
              "      <td>-0.65</td>\n",
              "      <td>0.52</td>\n",
              "      <td>0.96</td>\n",
              "    </tr>\n",
              "    <tr>\n",
              "      <th>celltype_squamous</th>\n",
              "      <td>-1.10</td>\n",
              "      <td>0.33</td>\n",
              "      <td>0.30</td>\n",
              "      <td>-1.68</td>\n",
              "      <td>-0.51</td>\n",
              "      <td>0.19</td>\n",
              "      <td>0.60</td>\n",
              "      <td>0.00</td>\n",
              "      <td>-3.66</td>\n",
              "      <td>&lt;0.005</td>\n",
              "      <td>11.94</td>\n",
              "    </tr>\n",
              "    <tr>\n",
              "      <th>priortherapy_yes</th>\n",
              "      <td>0.18</td>\n",
              "      <td>1.19</td>\n",
              "      <td>0.23</td>\n",
              "      <td>-0.28</td>\n",
              "      <td>0.63</td>\n",
              "      <td>0.76</td>\n",
              "      <td>1.88</td>\n",
              "      <td>0.00</td>\n",
              "      <td>0.76</td>\n",
              "      <td>0.45</td>\n",
              "      <td>1.17</td>\n",
              "    </tr>\n",
              "  </tbody>\n",
              "</table><br><div>\n",
              "<style scoped>\n",
              "    .dataframe tbody tr th:only-of-type {\n",
              "        vertical-align: middle;\n",
              "    }\n",
              "\n",
              "    .dataframe tbody tr th {\n",
              "        vertical-align: top;\n",
              "    }\n",
              "\n",
              "    .dataframe thead th {\n",
              "        text-align: right;\n",
              "    }\n",
              "</style>\n",
              "<table border=\"1\" class=\"dataframe\">\n",
              "  <tbody>\n",
              "    <tr>\n",
              "      <th>Partial AIC</th>\n",
              "      <td>946.47</td>\n",
              "    </tr>\n",
              "    <tr>\n",
              "      <th>log-likelihood ratio test</th>\n",
              "      <td>62.34 on 8 df</td>\n",
              "    </tr>\n",
              "    <tr>\n",
              "      <th>-log2(p) of ll-ratio test</th>\n",
              "      <td>32.53</td>\n",
              "    </tr>\n",
              "  </tbody>\n",
              "</table>\n",
              "</div>"
            ],
            "text/latex": [
              "\\begin{tabular}{lrrrrrrrrrrr}\n",
              " & coef & exp(coef) & se(coef) & coef lower 95% & coef upper 95% & exp(coef) lower 95% & exp(coef) upper 95% & cmp to & z & p & -log2(p) \\\\\n",
              "covariate &  &  &  &  &  &  &  &  &  &  &  \\\\\n",
              "karno & -0.03 & 0.97 & 0.01 & -0.05 & -0.02 & 0.96 & 0.98 & 0.00 & -6.07 & 0.00 & 29.52 \\\\\n",
              "diagtime & -0.00 & 1.00 & 0.01 & -0.02 & 0.01 & 0.98 & 1.01 & 0.00 & -0.45 & 0.65 & 0.61 \\\\\n",
              "age & -0.01 & 0.99 & 0.01 & -0.03 & 0.00 & 0.97 & 1.00 & 0.00 & -1.53 & 0.12 & 3.00 \\\\\n",
              "trt_test & 0.36 & 1.44 & 0.21 & -0.05 & 0.77 & 0.95 & 2.17 & 0.00 & 1.72 & 0.08 & 3.56 \\\\\n",
              "celltype_large & -0.80 & 0.45 & 0.30 & -1.38 & -0.21 & 0.25 & 0.81 & 0.00 & -2.65 & 0.01 & 6.95 \\\\\n",
              "celltype_smallcell & -0.18 & 0.84 & 0.28 & -0.72 & 0.36 & 0.49 & 1.44 & 0.00 & -0.65 & 0.52 & 0.96 \\\\\n",
              "celltype_squamous & -1.10 & 0.33 & 0.30 & -1.68 & -0.51 & 0.19 & 0.60 & 0.00 & -3.66 & 0.00 & 11.94 \\\\\n",
              "priortherapy_yes & 0.18 & 1.19 & 0.23 & -0.28 & 0.63 & 0.76 & 1.88 & 0.00 & 0.76 & 0.45 & 1.17 \\\\\n",
              "\\end{tabular}\n"
            ],
            "text/plain": [
              "<lifelines.CoxTimeVaryingFitter: fitted with 128 periods, 128 subjects, 128 events>\n",
              "         event col = 'event'\n",
              "number of subjects = 128\n",
              " number of periods = 128\n",
              "  number of events = 128\n",
              "partial log-likelihood = -465.24\n",
              "  time fit was run = 2025-06-05 14:27:03 UTC\n",
              "\n",
              "---\n",
              "                    coef exp(coef)  se(coef)  coef lower 95%  coef upper 95% exp(coef) lower 95% exp(coef) upper 95%\n",
              "covariate                                                                                                           \n",
              "karno              -0.03      0.97      0.01           -0.05           -0.02                0.96                0.98\n",
              "diagtime           -0.00      1.00      0.01           -0.02            0.01                0.98                1.01\n",
              "age                -0.01      0.99      0.01           -0.03            0.00                0.97                1.00\n",
              "trt_test            0.36      1.44      0.21           -0.05            0.77                0.95                2.17\n",
              "celltype_large     -0.80      0.45      0.30           -1.38           -0.21                0.25                0.81\n",
              "celltype_smallcell -0.18      0.84      0.28           -0.72            0.36                0.49                1.44\n",
              "celltype_squamous  -1.10      0.33      0.30           -1.68           -0.51                0.19                0.60\n",
              "priortherapy_yes    0.18      1.19      0.23           -0.28            0.63                0.76                1.88\n",
              "\n",
              "                    cmp to     z      p  -log2(p)\n",
              "covariate                                        \n",
              "karno                 0.00 -6.07 <0.005     29.52\n",
              "diagtime              0.00 -0.45   0.65      0.61\n",
              "age                   0.00 -1.53   0.12      3.00\n",
              "trt_test              0.00  1.72   0.08      3.56\n",
              "celltype_large        0.00 -2.65   0.01      6.95\n",
              "celltype_smallcell    0.00 -0.65   0.52      0.96\n",
              "celltype_squamous     0.00 -3.66 <0.005     11.94\n",
              "priortherapy_yes      0.00  0.76   0.45      1.17\n",
              "---\n",
              "Partial AIC = 946.47\n",
              "log-likelihood ratio test = 62.34 on 8 df\n",
              "-log2(p) of ll-ratio test = 32.53"
            ]
          },
          "metadata": {},
          "output_type": "display_data"
        },
        {
          "data": {
            "image/png": "[encoded data removed]",
            "text/plain": [
              "<Figure size 640x480 with 1 Axes>"
            ]
          },
          "metadata": {},
          "output_type": "display_data"
        }
      ],
      "source": [
        "#When patient condition changes over time\n",
        "from lifelines import CoxTimeVaryingFitter\n",
        "ctv=CoxTimeVaryingFitter()\n",
        "ctv.fit(df_timevarying,id_col='ID',event_col='event',start_col='start',stop_col='stop')\n",
        "ctv.print_summary()\n",
        "ctv.plot()\n",
        "plt.show()"
      ]
    },
    {
      "cell_type": "markdown",
      "metadata": {
        "id": "0JxWzgxxEsHs"
      },
      "source": [
        "## Kaplan-Meier Time-Varying Analysis\n",
        "\n",
        "This section presents Kaplan-Meier survival curves to visualize and compare survival probabilities among patients with different cell types over time. For each unique cell type, the dataset is filtered and the Kaplan-Meier estimator is applied using the `TIME` (duration) and `Y` (event occurrence) columns. The resulting survival curves display how the likelihood of survival changes for each cell type as time progresses, enabling a clear visual comparison of survival outcomes across groups.\n"
      ]
    },
    {
      "cell_type": "code",
      "execution_count": 113,
      "metadata": {
        "colab": {
          "base_uri": "https://localhost:8080/",
          "height": 503
        },
        "id": "afYhm9KUxUaX",
        "outputId": "9d807ccf-c64f-4d08-d8e1-f54740660907"
      },
      "outputs": [
        {
          "data": {
            "image/png": "[encoded data removed]",
            "text/plain": [
              "<Figure size 1000x600 with 1 Axes>"
            ]
          },
          "metadata": {},
          "output_type": "display_data"
        }
      ],
      "source": [
        "plt.figure(figsize=(10, 6))\n",
        "for cell in df['celltype'].unique():\n",
        "    mask = df['celltype'] == cell\n",
        "    kmf.fit(df[mask]['TIME'], event_observed=df[mask]['Y'], label=cell)\n",
        "    kmf.plot_survival_function()\n",
        "\n",
        "plt.title('Kaplan-Meier Curve by Cell Type (Time-Varying)')\n",
        "plt.xlabel('Time')\n",
        "plt.ylabel('Survival Probability')\n",
        "plt.legend(title='Cell Type')\n",
        "plt.grid(True)\n",
        "plt.show()"
      ]
    },
    {
      "cell_type": "markdown",
      "metadata": {},
      "source": [
        "#### Analysis of Kaplan-Meier Curves by Cell Type\n",
        "\n",
        "1. **Best to Worst Survival (in order)**:\n",
        "   - Squamous cell: Best survival rate (20% at 800 days)\n",
        "   - Large cell: Intermediate survival\n",
        "   - Adenocarcinoma: Poor survival\n",
        "   - Small cell: Worst prognosis (high mortality by 400 days)\n",
        "\n",
        "2. **Critical Time Points**:\n",
        "   - 0-200 days: Highest risk period for all types\n",
        "   - 400+ days: Only squamous cell shows significant survival\n",
        "   - 800+ days: Long-term survival mainly in squamous cell type\n",
        "\n",
        "3. **Clinical Implications**:\n",
        "   - Early intervention critical for small cell and adenocarcinoma\n",
        "   - More intensive monitoring needed in first 200 days\n",
        "   - Longer follow-up required for squamous cell patients\n",
        "   - Treatment plans should be customized by cell type\n",
        "\n",
        "This analysis shows that cell type is a strong predictor of survival outcomes, with squamous cell patients having significantly better prognosis than other types.\n"
      ]
    },
    {
      "cell_type": "code",
      "execution_count": 114,
      "metadata": {
        "colab": {
          "base_uri": "https://localhost:8080/",
          "height": 206
        },
        "id": "J9Qz9enKGoic",
        "outputId": "a6714328-d252-4fd7-d5fa-ad4071079475"
      },
      "outputs": [
        {
          "data": {
            "text/html": [
              "<div>\n",
              "<style scoped>\n",
              "    .dataframe tbody tr th:only-of-type {\n",
              "        vertical-align: middle;\n",
              "    }\n",
              "\n",
              "    .dataframe tbody tr th {\n",
              "        vertical-align: top;\n",
              "    }\n",
              "\n",
              "    .dataframe thead th {\n",
              "        text-align: right;\n",
              "    }\n",
              "</style>\n",
              "<table border=\"1\" class=\"dataframe\">\n",
              "  <tbody>\n",
              "    <tr>\n",
              "      <th>t_0</th>\n",
              "      <td>-1</td>\n",
              "    </tr>\n",
              "    <tr>\n",
              "      <th>null_distribution</th>\n",
              "      <td>chi squared</td>\n",
              "    </tr>\n",
              "    <tr>\n",
              "      <th>degrees_of_freedom</th>\n",
              "      <td>1</td>\n",
              "    </tr>\n",
              "    <tr>\n",
              "      <th>test_name</th>\n",
              "      <td>logrank_test</td>\n",
              "    </tr>\n",
              "  </tbody>\n",
              "</table>\n",
              "</div><table border=\"1\" class=\"dataframe\">\n",
              "  <thead>\n",
              "    <tr style=\"text-align: right;\">\n",
              "      <th></th>\n",
              "      <th>test_statistic</th>\n",
              "      <th>p</th>\n",
              "      <th>-log2(p)</th>\n",
              "    </tr>\n",
              "  </thead>\n",
              "  <tbody>\n",
              "    <tr>\n",
              "      <th>0</th>\n",
              "      <td>11.57</td>\n",
              "      <td>&lt;0.005</td>\n",
              "      <td>10.55</td>\n",
              "    </tr>\n",
              "  </tbody>\n",
              "</table>"
            ],
            "text/latex": [
              "\\begin{tabular}{lrrr}\n",
              " & test_statistic & p & -log2(p) \\\\\n",
              "0 & 11.57 & 0.00 & 10.55 \\\\\n",
              "\\end{tabular}\n"
            ],
            "text/plain": [
              "<lifelines.StatisticalResult: logrank_test>\n",
              "               t_0 = -1\n",
              " null_distribution = chi squared\n",
              "degrees_of_freedom = 1\n",
              "         test_name = logrank_test\n",
              "\n",
              "---\n",
              " test_statistic      p  -log2(p)\n",
              "          11.57 <0.005     10.55"
            ]
          },
          "metadata": {},
          "output_type": "display_data"
        }
      ],
      "source": [
        "group1 = df[df['celltype'] == 'squamous']\n",
        "group2 = df[df['celltype'] == 'smallcell']\n",
        "\n",
        "# Perform log-rank test between the two groups\n",
        "results = logrank_test(group1['TIME'], group2['TIME'],\n",
        "                       event_observed_A=group1['Y'], event_observed_B=group2['Y'])\n",
        "results.print_summary()"
      ]
    },
    {
      "cell_type": "markdown",
      "metadata": {
        "id": "_lYMciVbi5hX"
      },
      "source": [
        "## What is a Competing Risk?\n",
        "\n",
        "Competing risks are alternative events that prevent the occurrence of the primary event of interest. For example, a patient may die from lung cancer (the primary event) or from an unrelated cause such as a heart attack (a competing event). Once one event occurs, the others cannot happen. Ignoring competing risks in survival analysis can lead to biased or misleading results, particularly when competing events are common.\n",
        "\n",
        "\n"
      ]
    },
    {
      "cell_type": "markdown",
      "metadata": {
        "id": "lZVePnLbkIC8"
      },
      "source": [
        "### Fine-Gray Model\n",
        "\n",
        "\n",
        "The **Fine-Gray model** is used in survival analysis when competing risks are present—meaning there are multiple potential causes of failure or death. For example, when studying death due to lung cancer, deaths from other causes (such as heart attacks) represent competing events. The Fine-Gray model estimates the **cumulative incidence function**, which reflects the probability over time of experiencing the specific event of interest while appropriately accounting for the presence of competing risks.\n",
        "\n",
        "\n",
        "The **Competing Risks Model** is used when patients may experience multiple types of outcomes that prevent the occurrence of the primary event of interest. This model appropriately accounts for these alternative events to provide accurate survival analysis in the presence of competing risks.\n",
        "\n"
      ]
    },
    {
      "cell_type": "markdown",
      "metadata": {},
      "source": [
        "### Fine-Gray Competing Risks Analysis\n",
        "\n",
        "The Kaplan-Meier curves illustrate the cumulative incidence functions for two competing events:\n",
        "\n",
        "1. **Primary Event (Death)**: Shows the probability of death over time, accounting for competing risks\n",
        "2. **Competing Event**: Represents probability of other events preventing observation of primary event\n",
        "\n",
        "The separation between curves indicates distinct risk patterns for each event type. The steeper slope of Event 1 suggests higher incidence of death compared to competing events in early follow-up period.\n",
        "\n",
        "Key observations:\n",
        "- Primary event (death) shows higher cumulative incidence in first 400 days\n",
        "- Competing risks become more prominent after 400 days\n",
        "- By 800 days, cumulative incidence reaches ~0.93 for death and ~0.81 for competing events\n",
        "- Complete follow-up shows all patients experience one of the two events by study end"
      ]
    },
    {
      "cell_type": "code",
      "execution_count": 129,
      "metadata": {},
      "outputs": [],
      "source": [
        "from lifelines import KaplanMeierFitter\n",
        "\n",
        "# Step 1: Simulate competing risks data\n",
        "df_cr = df.copy()\n",
        "np.random.seed(42)\n",
        "df_cr['event_type'] = np.where(np.random.rand(len(df_cr)) > 0.7, 2, 1)  # 1 = death, 2 = other event\n",
        "df_cr['event_occurred'] = df_cr['event_type'] != 0\n"
      ]
    },
    {
      "cell_type": "code",
      "execution_count": 130,
      "metadata": {},
      "outputs": [],
      "source": [
        "\n",
        "# Step 2: Separate datasets for each event type\n",
        "df_event1 = df_cr.copy()\n",
        "df_event1['event_observed'] = (df_event1['event_type'] == 1).astype(int)\n",
        "\n",
        "df_event2 = df_cr.copy()\n",
        "df_event2['event_observed'] = (df_event2['event_type'] == 2).astype(int)\n"
      ]
    },
    {
      "cell_type": "code",
      "execution_count": 133,
      "metadata": {},
      "outputs": [],
      "source": [
        "\n",
        "# Step 3: Compute cumulative incidence curves\n",
        "kmf1 = KaplanMeierFitter()\n",
        "kmf1.fit(durations=df_event1['TIME'], event_observed=df_event1['event_observed'], label='Death (Event 1)')\n",
        "cum_inc1 = 1 - kmf1.survival_function_\n",
        "\n",
        "kmf2 = KaplanMeierFitter()\n",
        "kmf2.fit(durations=df_event2['TIME'], event_observed=df_event2['event_observed'], label='Other Event (Event 2)')\n",
        "cum_inc2 = 1 - kmf2.survival_function_\n",
        "\n",
        "\n"
      ]
    },
    {
      "cell_type": "code",
      "execution_count": null,
      "metadata": {},
      "outputs": [
        {
          "data": {
            "image/png": "[encoded data removed]",
            "text/plain": [
              "<Figure size 1000x600 with 1 Axes>"
            ]
          },
          "metadata": {},
          "output_type": "display_data"
        }
      ],
      "source": [
        "\n",
        "# Step 4: Plot cumulative incidence curves\n",
        "plt.figure(figsize=(10,6))\n",
        "plt.plot(cum_inc1, label='Cumulative Incidence: Death (Event 1)', color='blue')\n",
        "plt.plot(cum_inc2, label='Cumulative Incidence: Other Event (Event 2)', color='red')\n",
        "plt.title(\"Cumulative Incidence Function for Competing Risks\")\n",
        "plt.xlabel(\"Time\")\n",
        "plt.ylabel(\"Cumulative Incidence\")\n",
        "plt.legend()\n",
        "plt.grid(True)\n",
        "plt.show()"
      ]
    },
    {
      "cell_type": "markdown",
      "metadata": {},
      "source": [
        "From the clinical trial analysis, here are the key insights:\n",
        "\n",
        "1. **Survival by Cell Type**:\n",
        "   - Squamous cell: Best survival (20% survival at 800 days)\n",
        "   - Large cell: Intermediate survival\n",
        "   - Adenocarcinoma: Poor survival\n",
        "   - Small cell: Worst outcome (high mortality by 400 days)\n",
        "\n",
        "2. **Critical Time Periods**:\n",
        "   - First 200 days: Highest risk period for all patients\n",
        "   - After 400 days: Only squamous cell patients show significant survival\n",
        "   - Early intervention is crucial, especially for small cell and adenocarcinoma patients\n",
        "\n",
        "3. **Treatment Effects**:\n",
        "   - Standard treatment showed slightly better survival than test treatment\n",
        "   - Treatment effectiveness varies by cell type\n",
        "   - Personalized treatment plans are important\n",
        "\n",
        "4. **Competing Risks Analysis** (from the graph):\n",
        "   - Death (blue line): Rapid increase in first 200 days, reaching about 70% cumulative incidence\n",
        "   - Other events (red line): Slower progression, reaching about 80% by study end\n",
        "   - By 800 days, almost all patients experienced either death or another competing event\n",
        "\n",
        "\n",
        "This analysis helps in making informed decisions about patient care and treatment strategies based on cancer cell type and individual risk factors."
      ]
    },
    {
      "cell_type": "markdown",
      "metadata": {},
      "source": [
        "\n",
        "## Final Conclusion\n",
        "\n",
        "In this project, survival analysis techniques were applied to investigate outcomes in lung cancer patients:\n",
        "- **Kaplan-Meier curves** illustrated survival differences between the `standard` and `test` treatment groups, showing that the standard treatment may have a slight survival advantage.\n",
        "- The **Log-Rank Test** confirmed whether the survival difference between treatments is statistically significant.\n",
        "- The **Cox Proportional Hazards Model** identified the impact of factors such as treatment, Karnofsky score, and cell type on survival.\n",
        "- The **Time-Varying Covariate Model** accounted for changes in patient condition (simulated as a decreasing Karnofsky score), providing a more dynamic view of survival risks.\n",
        "- The **Stratified Cox Model** adjusted for varying baseline risks across different cancer cell types, isolating the effect of treatment.\n",
        "- The **Competing Risks Model** (simulated) addressed mortality from causes other than lung cancer, ensuring unbiased estimates of the primary event.\n",
        "\n",
        "**Final Decision:**  \n",
        "Treatment type, cancer cell type, and patient condition (e.g., Karnofsky score) are significant determinants of survival. The standard treatment may offer a survival benefit over the test treatment, but this depends on the statistical significance from the Log-Rank Test and Cox models. Personalized treatment plans, considering cell type and dynamic patient conditions, are crucial for improving patient outcomes.\n"
      ]
    },
    {
      "cell_type": "markdown",
      "metadata": {},
      "source": []
    }
  ],
  "metadata": {
    "colab": {
      "provenance": []
    },
    "kernelspec": {
      "display_name": "base",
      "language": "python",
      "name": "python3"
    },
    "language_info": {
      "codemirror_mode": {
        "name": "ipython",
        "version": 3
      },
      "file_extension": ".py",
      "mimetype": "text/x-python",
      "name": "python",
      "nbconvert_exporter": "python",
      "pygments_lexer": "ipython3",
      "version": "3.12.7"
    }
  },
  "nbformat": 4,
  "nbformat_minor": 0
}
