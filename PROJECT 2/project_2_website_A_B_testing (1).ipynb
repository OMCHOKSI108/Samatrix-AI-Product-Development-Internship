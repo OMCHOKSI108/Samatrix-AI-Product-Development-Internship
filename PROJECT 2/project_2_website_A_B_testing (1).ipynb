{
  "nbformat": 4,
  "nbformat_minor": 0,
  "metadata": {
    "colab": {
      "provenance": []
    },
    "kernelspec": {
      "name": "python3",
      "display_name": "Python 3"
    },
    "language_info": {
      "name": "python"
    }
  },
  "cells": [
    {
      "cell_type": "markdown",
      "source": [
        "# Name : OM CHIRAGBHAI CHOKSI\n",
        "### SAMATRIX INTERNSHIP TASK NUMBER WEBSITE DOMAIN 2\n",
        "\n",
        "### Project Description: Website A/B Testing for Conversion Optimization\n",
        "\n",
        "This project conducts an A/B testing analysis to compare the conversion rates of two website variants (A and B) with the goal of optimizing user conversions. Using simulated click-through data for 10,000 visitors per variant, with true conversion rates of 10% for Variant A and 12% for Variant B, the project calculates key metrics such as conversion rates and 95% confidence intervals. The analysis employs statistical methods, including a binomial distribution for simulating conversions and a z-test for proportions, to determine if the observed difference in conversion rates is statistically significant. Visualizations and statistical tests are implemented using Python libraries like numpy, pandas, scipy, matplotlib, and seaborn. The project aims to provide actionable insights for improving website performance based on data-driven evidence."
      ],
      "metadata": {
        "id": "hyh3xONx-ssj"
      }
    },
    {
      "cell_type": "markdown",
      "source": [
        "## Website A/B Testing for conversion Optimization"
      ],
      "metadata": {
        "id": "HSg6OjYv_bRX"
      }
    },
    {
      "cell_type": "markdown",
      "source": [
        "### Import Libraries"
      ],
      "metadata": {
        "id": "0LCK-aGX_fQi"
      }
    },
    {
      "cell_type": "code",
      "source": [
        "import numpy as np , time\n",
        "import pandas as pd\n",
        "from scipy import stats\n",
        "import matplotlib.pyplot as plt\n",
        "import seaborn as sns\n",
        "import statsmodels.stats.api as sms\n",
        "from statsmodels.stats.proportion import proportions_ztest\n",
        "from math import ceil"
      ],
      "metadata": {
        "id": "0LHiZcdKRyUd"
      },
      "execution_count": 36,
      "outputs": []
    },
    {
      "cell_type": "code",
      "source": [
        "np.random.seed(42)"
      ],
      "metadata": {
        "id": "3ZEaBb_XT2Hq"
      },
      "execution_count": 37,
      "outputs": []
    },
    {
      "cell_type": "markdown",
      "source": [
        "## 1. Simulate Click-Through Data (Visits vs. Purchases)"
      ],
      "metadata": {
        "id": "cdut6ZeQiOx0"
      }
    },
    {
      "cell_type": "code",
      "source": [
        "# Assume 10,000 visitors each\n",
        "n_A,p_A=10_000,0.10\n",
        "n_B,p_B=10_000,0.12"
      ],
      "metadata": {
        "id": "fUcXf4BPT3U9"
      },
      "execution_count": 38,
      "outputs": []
    },
    {
      "cell_type": "markdown",
      "source": [
        "1.   variant B: 12% true conversion\n",
        "2.   variant A: 10% true conversion\n",
        "\n"
      ],
      "metadata": {
        "id": "IEhYsdxQ_wT1"
      }
    },
    {
      "cell_type": "code",
      "source": [
        "#Simulate  number of purchases\n",
        "success_A=np.random.binomial(n_A,p_A)\n",
        "success_B=np.random.binomial(n_B,p_B)\n"
      ],
      "metadata": {
        "id": "5-PXiRW3T5bG"
      },
      "execution_count": 39,
      "outputs": []
    },
    {
      "cell_type": "markdown",
      "source": [
        "\n",
        " - data for two variants, A and B, with 10,000 visitors each and true conversion rates of 10% (A) and 12% (B). The simulated conversions are generated using a binomial distribution:\n",
        "\n",
        " - Variant A: 10,000 visitors, true conversion rate = 0.10, simulated conversions = 973\n",
        "\n",
        " - Variant B: 10,000 visitors, true conversion rate = 0.12, simulated conversions = 1134"
      ],
      "metadata": {
        "id": "66_8_zp8AA9n"
      }
    },
    {
      "cell_type": "markdown",
      "source": [
        "## 2. Calculate Conversion Rates and 95% Confidence Intervals"
      ],
      "metadata": {
        "id": "4_gIBp6CiaTN"
      }
    },
    {
      "cell_type": "code",
      "source": [
        "def proportion_ci(successes,n,alpha=0.05):\n",
        "  p_hat=successes/n\n",
        "  z=stats.norm.ppf(1-alpha/2)\n",
        "  se=np.sqrt(p_hat*(1-p_hat)/n)\n",
        "  return p_hat,p_hat-z*se,p_hat+z*se\n"
      ],
      "metadata": {
        "id": "CG90wOQAT_Ky"
      },
      "execution_count": 40,
      "outputs": []
    },
    {
      "cell_type": "markdown",
      "source": [
        "- This defines a function proportion_ci to calculate the conversion rate and its confidence interval:\n",
        "\n",
        "- successes: The number of conversions.\n",
        "\n",
        "- n: The total number of visitors.\n",
        " alpha: The significance level (defaulting to 0.05 for a 95% confidence interval).\n",
        "\n",
        "- p_hat: The calculated conversion rate (successes / n).\n",
        "\n",
        "- z: The z-score corresponding to the desired confidence level (e.g., for a 95% CI, you need the z-score that leaves 2.5% in each tail, which is calculated using stats.norm.ppf).\n",
        "\n",
        "- se: The standard error of the proportion.\n",
        "\n",
        "- The function returns the conversion rate (p_hat), the lower bound of the confidence interval (p_hat - z*se), and the upper bound (p_hat + z*se).\n"
      ],
      "metadata": {
        "id": "iksVgTU9CWMo"
      }
    },
    {
      "cell_type": "code",
      "source": [
        "p_A_hat,ci_low_A,ci_high_A=proportion_ci(success_A,n_A)\n",
        "p_B_hat,ci_low_B,ci_high_B=proportion_ci(success_B,n_B)\n",
        "results=pd.DataFrame({\n",
        "    'Variant':['A','B'],\n",
        "    'Visitors':[n_A,n_B],\n",
        "    'Conversions':[success_A,success_B],\n",
        "    'CR':[p_A_hat,p_B_hat],\n",
        "    'CI_low':[ci_low_A,ci_low_B],\n",
        "    'CI_high':[ci_high_A,ci_high_B]\n",
        "})\n",
        "results"
      ],
      "metadata": {
        "colab": {
          "base_uri": "https://localhost:8080/",
          "height": 125
        },
        "id": "09cpokpcCQZG",
        "outputId": "766bc981-7880-4852-e87d-3295ee770b38"
      },
      "execution_count": 41,
      "outputs": [
        {
          "output_type": "execute_result",
          "data": {
            "text/plain": [
              "  Variant  Visitors  Conversions      CR    CI_low   CI_high\n",
              "0       A     10000          973  0.0973  0.091491  0.103109\n",
              "1       B     10000         1134  0.1134  0.107185  0.119615"
            ],
            "text/html": [
              "\n",
              "  <div id=\"df-27f54e9b-8cbb-47c4-aae6-d7719a3aef59\" class=\"colab-df-container\">\n",
              "    <div>\n",
              "<style scoped>\n",
              "    .dataframe tbody tr th:only-of-type {\n",
              "        vertical-align: middle;\n",
              "    }\n",
              "\n",
              "    .dataframe tbody tr th {\n",
              "        vertical-align: top;\n",
              "    }\n",
              "\n",
              "    .dataframe thead th {\n",
              "        text-align: right;\n",
              "    }\n",
              "</style>\n",
              "<table border=\"1\" class=\"dataframe\">\n",
              "  <thead>\n",
              "    <tr style=\"text-align: right;\">\n",
              "      <th></th>\n",
              "      <th>Variant</th>\n",
              "      <th>Visitors</th>\n",
              "      <th>Conversions</th>\n",
              "      <th>CR</th>\n",
              "      <th>CI_low</th>\n",
              "      <th>CI_high</th>\n",
              "    </tr>\n",
              "  </thead>\n",
              "  <tbody>\n",
              "    <tr>\n",
              "      <th>0</th>\n",
              "      <td>A</td>\n",
              "      <td>10000</td>\n",
              "      <td>973</td>\n",
              "      <td>0.0973</td>\n",
              "      <td>0.091491</td>\n",
              "      <td>0.103109</td>\n",
              "    </tr>\n",
              "    <tr>\n",
              "      <th>1</th>\n",
              "      <td>B</td>\n",
              "      <td>10000</td>\n",
              "      <td>1134</td>\n",
              "      <td>0.1134</td>\n",
              "      <td>0.107185</td>\n",
              "      <td>0.119615</td>\n",
              "    </tr>\n",
              "  </tbody>\n",
              "</table>\n",
              "</div>\n",
              "    <div class=\"colab-df-buttons\">\n",
              "\n",
              "  <div class=\"colab-df-container\">\n",
              "    <button class=\"colab-df-convert\" onclick=\"convertToInteractive('df-27f54e9b-8cbb-47c4-aae6-d7719a3aef59')\"\n",
              "            title=\"Convert this dataframe to an interactive table.\"\n",
              "            style=\"display:none;\">\n",
              "\n",
              "  <svg xmlns=\"http://www.w3.org/2000/svg\" height=\"24px\" viewBox=\"0 -960 960 960\">\n",
              "    <path d=\"M120-120v-720h720v720H120Zm60-500h600v-160H180v160Zm220 220h160v-160H400v160Zm0 220h160v-160H400v160ZM180-400h160v-160H180v160Zm440 0h160v-160H620v160ZM180-180h160v-160H180v160Zm440 0h160v-160H620v160Z\"/>\n",
              "  </svg>\n",
              "    </button>\n",
              "\n",
              "  <style>\n",
              "    .colab-df-container {\n",
              "      display:flex;\n",
              "      gap: 12px;\n",
              "    }\n",
              "\n",
              "    .colab-df-convert {\n",
              "      background-color: #E8F0FE;\n",
              "      border: none;\n",
              "      border-radius: 50%;\n",
              "      cursor: pointer;\n",
              "      display: none;\n",
              "      fill: #1967D2;\n",
              "      height: 32px;\n",
              "      padding: 0 0 0 0;\n",
              "      width: 32px;\n",
              "    }\n",
              "\n",
              "    .colab-df-convert:hover {\n",
              "      background-color: #E2EBFA;\n",
              "      box-shadow: 0px 1px 2px rgba(60, 64, 67, 0.3), 0px 1px 3px 1px rgba(60, 64, 67, 0.15);\n",
              "      fill: #174EA6;\n",
              "    }\n",
              "\n",
              "    .colab-df-buttons div {\n",
              "      margin-bottom: 4px;\n",
              "    }\n",
              "\n",
              "    [theme=dark] .colab-df-convert {\n",
              "      background-color: #3B4455;\n",
              "      fill: #D2E3FC;\n",
              "    }\n",
              "\n",
              "    [theme=dark] .colab-df-convert:hover {\n",
              "      background-color: #434B5C;\n",
              "      box-shadow: 0px 1px 3px 1px rgba(0, 0, 0, 0.15);\n",
              "      filter: drop-shadow(0px 1px 2px rgba(0, 0, 0, 0.3));\n",
              "      fill: #FFFFFF;\n",
              "    }\n",
              "  </style>\n",
              "\n",
              "    <script>\n",
              "      const buttonEl =\n",
              "        document.querySelector('#df-27f54e9b-8cbb-47c4-aae6-d7719a3aef59 button.colab-df-convert');\n",
              "      buttonEl.style.display =\n",
              "        google.colab.kernel.accessAllowed ? 'block' : 'none';\n",
              "\n",
              "      async function convertToInteractive(key) {\n",
              "        const element = document.querySelector('#df-27f54e9b-8cbb-47c4-aae6-d7719a3aef59');\n",
              "        const dataTable =\n",
              "          await google.colab.kernel.invokeFunction('convertToInteractive',\n",
              "                                                    [key], {});\n",
              "        if (!dataTable) return;\n",
              "\n",
              "        const docLinkHtml = 'Like what you see? Visit the ' +\n",
              "          '<a target=\"_blank\" href=https://colab.research.google.com/notebooks/data_table.ipynb>data table notebook</a>'\n",
              "          + ' to learn more about interactive tables.';\n",
              "        element.innerHTML = '';\n",
              "        dataTable['output_type'] = 'display_data';\n",
              "        await google.colab.output.renderOutput(dataTable, element);\n",
              "        const docLink = document.createElement('div');\n",
              "        docLink.innerHTML = docLinkHtml;\n",
              "        element.appendChild(docLink);\n",
              "      }\n",
              "    </script>\n",
              "  </div>\n",
              "\n",
              "\n",
              "    <div id=\"df-25f1b98b-0167-40b4-975a-5e74d6523e7c\">\n",
              "      <button class=\"colab-df-quickchart\" onclick=\"quickchart('df-25f1b98b-0167-40b4-975a-5e74d6523e7c')\"\n",
              "                title=\"Suggest charts\"\n",
              "                style=\"display:none;\">\n",
              "\n",
              "<svg xmlns=\"http://www.w3.org/2000/svg\" height=\"24px\"viewBox=\"0 0 24 24\"\n",
              "     width=\"24px\">\n",
              "    <g>\n",
              "        <path d=\"M19 3H5c-1.1 0-2 .9-2 2v14c0 1.1.9 2 2 2h14c1.1 0 2-.9 2-2V5c0-1.1-.9-2-2-2zM9 17H7v-7h2v7zm4 0h-2V7h2v10zm4 0h-2v-4h2v4z\"/>\n",
              "    </g>\n",
              "</svg>\n",
              "      </button>\n",
              "\n",
              "<style>\n",
              "  .colab-df-quickchart {\n",
              "      --bg-color: #E8F0FE;\n",
              "      --fill-color: #1967D2;\n",
              "      --hover-bg-color: #E2EBFA;\n",
              "      --hover-fill-color: #174EA6;\n",
              "      --disabled-fill-color: #AAA;\n",
              "      --disabled-bg-color: #DDD;\n",
              "  }\n",
              "\n",
              "  [theme=dark] .colab-df-quickchart {\n",
              "      --bg-color: #3B4455;\n",
              "      --fill-color: #D2E3FC;\n",
              "      --hover-bg-color: #434B5C;\n",
              "      --hover-fill-color: #FFFFFF;\n",
              "      --disabled-bg-color: #3B4455;\n",
              "      --disabled-fill-color: #666;\n",
              "  }\n",
              "\n",
              "  .colab-df-quickchart {\n",
              "    background-color: var(--bg-color);\n",
              "    border: none;\n",
              "    border-radius: 50%;\n",
              "    cursor: pointer;\n",
              "    display: none;\n",
              "    fill: var(--fill-color);\n",
              "    height: 32px;\n",
              "    padding: 0;\n",
              "    width: 32px;\n",
              "  }\n",
              "\n",
              "  .colab-df-quickchart:hover {\n",
              "    background-color: var(--hover-bg-color);\n",
              "    box-shadow: 0 1px 2px rgba(60, 64, 67, 0.3), 0 1px 3px 1px rgba(60, 64, 67, 0.15);\n",
              "    fill: var(--button-hover-fill-color);\n",
              "  }\n",
              "\n",
              "  .colab-df-quickchart-complete:disabled,\n",
              "  .colab-df-quickchart-complete:disabled:hover {\n",
              "    background-color: var(--disabled-bg-color);\n",
              "    fill: var(--disabled-fill-color);\n",
              "    box-shadow: none;\n",
              "  }\n",
              "\n",
              "  .colab-df-spinner {\n",
              "    border: 2px solid var(--fill-color);\n",
              "    border-color: transparent;\n",
              "    border-bottom-color: var(--fill-color);\n",
              "    animation:\n",
              "      spin 1s steps(1) infinite;\n",
              "  }\n",
              "\n",
              "  @keyframes spin {\n",
              "    0% {\n",
              "      border-color: transparent;\n",
              "      border-bottom-color: var(--fill-color);\n",
              "      border-left-color: var(--fill-color);\n",
              "    }\n",
              "    20% {\n",
              "      border-color: transparent;\n",
              "      border-left-color: var(--fill-color);\n",
              "      border-top-color: var(--fill-color);\n",
              "    }\n",
              "    30% {\n",
              "      border-color: transparent;\n",
              "      border-left-color: var(--fill-color);\n",
              "      border-top-color: var(--fill-color);\n",
              "      border-right-color: var(--fill-color);\n",
              "    }\n",
              "    40% {\n",
              "      border-color: transparent;\n",
              "      border-right-color: var(--fill-color);\n",
              "      border-top-color: var(--fill-color);\n",
              "    }\n",
              "    60% {\n",
              "      border-color: transparent;\n",
              "      border-right-color: var(--fill-color);\n",
              "    }\n",
              "    80% {\n",
              "      border-color: transparent;\n",
              "      border-right-color: var(--fill-color);\n",
              "      border-bottom-color: var(--fill-color);\n",
              "    }\n",
              "    90% {\n",
              "      border-color: transparent;\n",
              "      border-bottom-color: var(--fill-color);\n",
              "    }\n",
              "  }\n",
              "</style>\n",
              "\n",
              "      <script>\n",
              "        async function quickchart(key) {\n",
              "          const quickchartButtonEl =\n",
              "            document.querySelector('#' + key + ' button');\n",
              "          quickchartButtonEl.disabled = true;  // To prevent multiple clicks.\n",
              "          quickchartButtonEl.classList.add('colab-df-spinner');\n",
              "          try {\n",
              "            const charts = await google.colab.kernel.invokeFunction(\n",
              "                'suggestCharts', [key], {});\n",
              "          } catch (error) {\n",
              "            console.error('Error during call to suggestCharts:', error);\n",
              "          }\n",
              "          quickchartButtonEl.classList.remove('colab-df-spinner');\n",
              "          quickchartButtonEl.classList.add('colab-df-quickchart-complete');\n",
              "        }\n",
              "        (() => {\n",
              "          let quickchartButtonEl =\n",
              "            document.querySelector('#df-25f1b98b-0167-40b4-975a-5e74d6523e7c button');\n",
              "          quickchartButtonEl.style.display =\n",
              "            google.colab.kernel.accessAllowed ? 'block' : 'none';\n",
              "        })();\n",
              "      </script>\n",
              "    </div>\n",
              "\n",
              "  <div id=\"id_c6083cf5-868e-40d1-bdcc-04bbc8e02433\">\n",
              "    <style>\n",
              "      .colab-df-generate {\n",
              "        background-color: #E8F0FE;\n",
              "        border: none;\n",
              "        border-radius: 50%;\n",
              "        cursor: pointer;\n",
              "        display: none;\n",
              "        fill: #1967D2;\n",
              "        height: 32px;\n",
              "        padding: 0 0 0 0;\n",
              "        width: 32px;\n",
              "      }\n",
              "\n",
              "      .colab-df-generate:hover {\n",
              "        background-color: #E2EBFA;\n",
              "        box-shadow: 0px 1px 2px rgba(60, 64, 67, 0.3), 0px 1px 3px 1px rgba(60, 64, 67, 0.15);\n",
              "        fill: #174EA6;\n",
              "      }\n",
              "\n",
              "      [theme=dark] .colab-df-generate {\n",
              "        background-color: #3B4455;\n",
              "        fill: #D2E3FC;\n",
              "      }\n",
              "\n",
              "      [theme=dark] .colab-df-generate:hover {\n",
              "        background-color: #434B5C;\n",
              "        box-shadow: 0px 1px 3px 1px rgba(0, 0, 0, 0.15);\n",
              "        filter: drop-shadow(0px 1px 2px rgba(0, 0, 0, 0.3));\n",
              "        fill: #FFFFFF;\n",
              "      }\n",
              "    </style>\n",
              "    <button class=\"colab-df-generate\" onclick=\"generateWithVariable('results')\"\n",
              "            title=\"Generate code using this dataframe.\"\n",
              "            style=\"display:none;\">\n",
              "\n",
              "  <svg xmlns=\"http://www.w3.org/2000/svg\" height=\"24px\"viewBox=\"0 0 24 24\"\n",
              "       width=\"24px\">\n",
              "    <path d=\"M7,19H8.4L18.45,9,17,7.55,7,17.6ZM5,21V16.75L18.45,3.32a2,2,0,0,1,2.83,0l1.4,1.43a1.91,1.91,0,0,1,.58,1.4,1.91,1.91,0,0,1-.58,1.4L9.25,21ZM18.45,9,17,7.55Zm-12,3A5.31,5.31,0,0,0,4.9,8.1,5.31,5.31,0,0,0,1,6.5,5.31,5.31,0,0,0,4.9,4.9,5.31,5.31,0,0,0,6.5,1,5.31,5.31,0,0,0,8.1,4.9,5.31,5.31,0,0,0,12,6.5,5.46,5.46,0,0,0,6.5,12Z\"/>\n",
              "  </svg>\n",
              "    </button>\n",
              "    <script>\n",
              "      (() => {\n",
              "      const buttonEl =\n",
              "        document.querySelector('#id_c6083cf5-868e-40d1-bdcc-04bbc8e02433 button.colab-df-generate');\n",
              "      buttonEl.style.display =\n",
              "        google.colab.kernel.accessAllowed ? 'block' : 'none';\n",
              "\n",
              "      buttonEl.onclick = () => {\n",
              "        google.colab.notebook.generateWithVariable('results');\n",
              "      }\n",
              "      })();\n",
              "    </script>\n",
              "  </div>\n",
              "\n",
              "    </div>\n",
              "  </div>\n"
            ],
            "application/vnd.google.colaboratory.intrinsic+json": {
              "type": "dataframe",
              "variable_name": "results",
              "summary": "{\n  \"name\": \"results\",\n  \"rows\": 2,\n  \"fields\": [\n    {\n      \"column\": \"Variant\",\n      \"properties\": {\n        \"dtype\": \"string\",\n        \"num_unique_values\": 2,\n        \"samples\": [\n          \"B\",\n          \"A\"\n        ],\n        \"semantic_type\": \"\",\n        \"description\": \"\"\n      }\n    },\n    {\n      \"column\": \"Visitors\",\n      \"properties\": {\n        \"dtype\": \"number\",\n        \"std\": 0,\n        \"min\": 10000,\n        \"max\": 10000,\n        \"num_unique_values\": 1,\n        \"samples\": [\n          10000\n        ],\n        \"semantic_type\": \"\",\n        \"description\": \"\"\n      }\n    },\n    {\n      \"column\": \"Conversions\",\n      \"properties\": {\n        \"dtype\": \"number\",\n        \"std\": 113,\n        \"min\": 973,\n        \"max\": 1134,\n        \"num_unique_values\": 2,\n        \"samples\": [\n          1134\n        ],\n        \"semantic_type\": \"\",\n        \"description\": \"\"\n      }\n    },\n    {\n      \"column\": \"CR\",\n      \"properties\": {\n        \"dtype\": \"number\",\n        \"std\": 0.011384419177103419,\n        \"min\": 0.0973,\n        \"max\": 0.1134,\n        \"num_unique_values\": 2,\n        \"samples\": [\n          0.1134\n        ],\n        \"semantic_type\": \"\",\n        \"description\": \"\"\n      }\n    },\n    {\n      \"column\": \"CI_low\",\n      \"properties\": {\n        \"dtype\": \"number\",\n        \"std\": 0.011097325220214092,\n        \"min\": 0.09149133631051884,\n        \"max\": 0.1071853241430106,\n        \"num_unique_values\": 2,\n        \"samples\": [\n          0.1071853241430106\n        ],\n        \"semantic_type\": \"\",\n        \"description\": \"\"\n      }\n    },\n    {\n      \"column\": \"CI_high\",\n      \"properties\": {\n        \"dtype\": \"number\",\n        \"std\": 0.011671513133992744,\n        \"min\": 0.10310866368948116,\n        \"max\": 0.1196146758569894,\n        \"num_unique_values\": 2,\n        \"samples\": [\n          0.1196146758569894\n        ],\n        \"semantic_type\": \"\",\n        \"description\": \"\"\n      }\n    }\n  ]\n}"
            }
          },
          "metadata": {},
          "execution_count": 41
        }
      ]
    },
    {
      "cell_type": "markdown",
      "source": [
        "This cell applies the proportion_ci function to your simulated data and displays the results in a pandas DataFrame:\n",
        "\n",
        "- It calculates the conversion rate and confidence interval for both Variant A and Variant B.\n",
        "- It creates a DataFrame named results with columns for 'Variant', 'Visitors', 'Conversions', 'CR' (conversion rate), 'CI_low' (lower bound of confidence interval), and 'CI_high' (upper bound of confidence interval).\n",
        "- Finally, it displays the results DataFrame."
      ],
      "metadata": {
        "id": "ibhyM84nDGcL"
      }
    },
    {
      "cell_type": "markdown",
      "source": [
        "## 3. Plot Conversion Rates with Error Bars"
      ],
      "metadata": {
        "id": "Z-W0mQgGigj-"
      }
    },
    {
      "cell_type": "code",
      "source": [
        "plt.figure(figsize=(6,4))\n",
        "plt.bar(results['Variant'],\n",
        "        results['CR'],\n",
        "        yerr=[\n",
        "            results['CR'] - results['CI_low'], # Corrected lower error: distance from CR down to CI_low\n",
        "            results['CI_high'] - results['CR'] # Corrected upper error: distance from CR up to CI_high\n",
        "        ],\n",
        "        capsize=5,\n",
        "        color=['skyblue','salmon'])\n",
        "plt.ylabel('Conversion Rate')\n",
        "plt.title('Conversion Rates for Variant A and Variant B')\n",
        "plt.ylim(0, 0.15)\n",
        "plt.gca().yaxis.set_major_formatter(plt.FuncFormatter(lambda x, _: f'{x*100:.1f}%'))\n",
        "plt.show()\n",
        "\n"
      ],
      "metadata": {
        "colab": {
          "base_uri": "https://localhost:8080/",
          "height": 391
        },
        "id": "23ouVfi9UCNp",
        "outputId": "76586b49-f7f0-4d1d-ac93-86619234fec4"
      },
      "execution_count": 42,
      "outputs": [
        {
          "output_type": "display_data",
          "data": {
            "text/plain": [
              "<Figure size 600x400 with 1 Axes>"
            ],
            "image/png": "[encoded data removed]"
          },
          "metadata": {}
        }
      ]
    },
    {
      "cell_type": "markdown",
      "source": [
        "- This chart shows:\n",
        "\n",
        " Bars: Conversion rates for Variants A (9.73%) and B (11.34%).\n",
        "\n",
        " Error Bars: 95% confidence intervals for each variant.\n",
        "\n",
        " Colors: Skyblue for A, salmon for B (matching the notebook's color scheme)."
      ],
      "metadata": {
        "id": "nOgmastXAZmR"
      }
    },
    {
      "cell_type": "code",
      "source": [
        "## Day 4"
      ],
      "metadata": {
        "id": "o2myBn9iUE_1"
      },
      "execution_count": 43,
      "outputs": []
    },
    {
      "cell_type": "markdown",
      "source": [
        "## Two propotion Z test"
      ],
      "metadata": {
        "id": "uXiwe8kXkN0o"
      }
    },
    {
      "cell_type": "markdown",
      "source": [
        "h0 - p_b <= p_a vs h1 - p_b > p_a (design test)\n",
        "\n",
        "The goal is to test whether Variant B has a significantly higher conversion rate than Variant A. The null hypothesis (H0),is that the conversion rates are lessthan or equal(P_a <= P_b),and the alternative hypothesis(H1) is that Variant B’s conversion rate is higher(P_b > P_a),using a one-tailed test.\n"
      ],
      "metadata": {
        "id": "9oZIl5UyA3MC"
      }
    },
    {
      "cell_type": "code",
      "source": [
        "from statsmodels.stats.proportion import proportions_ztest"
      ],
      "metadata": {
        "id": "jZkk79PDW2OR"
      },
      "execution_count": 44,
      "outputs": []
    },
    {
      "cell_type": "code",
      "source": [
        "count = np.array([success_A , success_B])\n",
        "nobs = np.array([n_A,n_B])\n",
        "z_stat , p_value = proportions_ztest(count,nobs,alternative = 'larger')"
      ],
      "metadata": {
        "id": "GyxGP6-IUegW"
      },
      "execution_count": 45,
      "outputs": []
    },
    {
      "cell_type": "code",
      "source": [
        "print(f\"Z Statistic : {z_stat:.3f}\")\n",
        "print(f\"Z Statistic : {p_value:.3f}\")"
      ],
      "metadata": {
        "colab": {
          "base_uri": "https://localhost:8080/"
        },
        "id": "dskC6UY9Wfqn",
        "outputId": "edd0fa5a-b0ad-4c42-c268-429b5eca6d8b"
      },
      "execution_count": 46,
      "outputs": [
        {
          "output_type": "stream",
          "name": "stdout",
          "text": [
            "Z Statistic : -3.708\n",
            "Z Statistic : 1.000\n"
          ]
        }
      ]
    },
    {
      "cell_type": "code",
      "source": [
        "## condition for hypothesis\n",
        "if p_value < 0.05:\n",
        "  print(\"reject h0 : variante b has a significantly \")\n",
        "else:\n",
        "  print(\"fail to reject h0 : no significante lift from B over A.\")"
      ],
      "metadata": {
        "colab": {
          "base_uri": "https://localhost:8080/"
        },
        "id": "iP9haCTPWdwa",
        "outputId": "8e6a7e6d-244c-46d9-bafe-a988d6b6a9e0"
      },
      "execution_count": 47,
      "outputs": [
        {
          "output_type": "stream",
          "name": "stdout",
          "text": [
            "fail to reject h0 : no significante lift from B over A.\n"
          ]
        }
      ]
    },
    {
      "cell_type": "markdown",
      "source": [
        "## 5 . Real time Monitoring & Sequential Teasting"
      ],
      "metadata": {
        "id": "_O6tkA_WkQ65"
      }
    },
    {
      "cell_type": "markdown",
      "source": [
        "- Real-time monitoring involves tracking conversion rates as data accumulates and visualizing trends to make informed decisions.\n"
      ],
      "metadata": {
        "id": "W9bzlf4cA82E"
      }
    },
    {
      "cell_type": "code",
      "source": [
        "from IPython.display import clear_output"
      ],
      "metadata": {
        "id": "Uo-1oY_9Y77O"
      },
      "execution_count": 48,
      "outputs": []
    },
    {
      "cell_type": "code",
      "source": [
        "true_a_A , true_a_B = 0.10 , 0.12\n",
        "batch_size = 100\n",
        "n_batches = 60\n",
        "\n",
        "# initializing counter\n",
        "n_visits_A , n_visits_B = 0 , 0\n",
        "n_succ_A = 0\n",
        "n_succ_B = 0\n",
        "\n",
        "# plotting list\n",
        "batches = []\n",
        "p_values = []\n",
        "observed_lifts = []"
      ],
      "metadata": {
        "id": "zB2GglWHalib"
      },
      "execution_count": 49,
      "outputs": []
    },
    {
      "cell_type": "markdown",
      "source": [
        "This cell initializes variables for the sequential testing simulation:\n",
        "\n",
        "- true_a_A and true_a_B: The true conversion rates used for simulating data in batches.\n",
        "- batch_size: The number of visitors simulated in each batch (100).\n",
        "- n_batches: The total number of batches to simulate (60).\n",
        "- n_visits_A, n_visits_B: Counters for the total number of visitors for each variant across all batches.\n",
        "- n_succ_A, n_succ_B: Counters for the total number of conversions for each variant across all batches.\n",
        "batches, p_values, observed_lifts: Lists to store data for plotting the results of the sequential test."
      ],
      "metadata": {
        "id": "5ng8uBQwDmpH"
      }
    },
    {
      "cell_type": "code",
      "source": [
        "for batch in range(1, n_batches + 1):\n",
        "    # Simulate one batch of visitors\n",
        "    new_A = np.random.binomial(batch_size, true_a_A)\n",
        "    new_B = np.random.binomial(batch_size, true_a_B)\n",
        "\n",
        "    # Update totals\n",
        "    n_visits_A += batch_size\n",
        "    n_visits_B += batch_size\n",
        "    n_succ_A += new_A\n",
        "    n_succ_B += new_B\n",
        "\n",
        "    # Compute conversion rates and lift\n",
        "    cr_A = n_succ_A / n_visits_A\n",
        "    cr_B = n_succ_B / n_visits_B\n",
        "    lift = cr_B - cr_A\n",
        "\n",
        "    # Two-proportion z-test (one-sided: B > A)\n",
        "    count = np.array([n_succ_B, n_succ_A])\n",
        "    nobs = np.array([n_visits_B, n_visits_A])\n",
        "    z_stat, p_val = proportions_ztest(count, nobs, alternative='larger')\n",
        "\n",
        "    # Record for plotting\n",
        "    batches.append(batch)\n",
        "    p_values.append(p_val)\n",
        "    observed_lifts.append(lift)\n",
        "\n",
        "    # Display live update\n",
        "    clear_output(wait=True)\n",
        "    print(f\"Batch {batch}/{n_batches}\")\n",
        "    print(f\" Variant A: {n_visits_A} visits, {n_succ_A} buys → CR = {cr_A:.3%}\")\n",
        "    print(f\" Variant B: {n_visits_B} visits, {n_succ_B} buys → CR = {cr_B:.3%}\")\n",
        "    print(f\" Observed lift: {lift:.3%}\")\n",
        "    print(f\" z-stat = {z_stat:.2f}, p-value = {p_val:.4f}\")\n",
        "    if p_val < 0.05:\n",
        "        print(\"  Significant lift detected (p<0.05).\")\n",
        "    else:\n",
        "        print(\" No significant lift yet.\")\n"
      ],
      "metadata": {
        "colab": {
          "base_uri": "https://localhost:8080/"
        },
        "id": "lCyGHQnjkBYu",
        "outputId": "069de37f-dc6f-4853-b214-6dcc7c799165"
      },
      "execution_count": 50,
      "outputs": [
        {
          "output_type": "stream",
          "name": "stdout",
          "text": [
            "Batch 60/60\n",
            " Variant A: 6000 visits, 574 buys → CR = 9.567%\n",
            " Variant B: 6000 visits, 714 buys → CR = 11.900%\n",
            " Observed lift: 2.333%\n",
            " z-stat = 4.13, p-value = 0.0000\n",
            "  Significant lift detected (p<0.05).\n"
          ]
        }
      ]
    },
    {
      "cell_type": "code",
      "source": [
        "fig, axes = plt.subplots(1, 2, figsize=(12, 4))\n",
        "\n",
        "\n",
        "axes[0].plot(batches, p_values, 'o-')\n",
        "axes[0].axhline(0.05, color='red', linestyle='--', label='α = 0.05')\n",
        "axes[0].set_title('Sequential p-value')\n",
        "axes[0].set_xlabel('Batch number')\n",
        "axes[0].set_ylabel('p-value')\n",
        "axes[0].legend()\n",
        "\n",
        "axes[1].plot(batches, observed_lifts, 'o-')\n",
        "axes[1].set_title('Observed Lift (CR_B − CR_A)')\n",
        "axes[1].set_xlabel('Batch number')\n",
        "axes[1].set_ylabel('Lift')\n",
        "\n",
        "plt.tight_layout()\n",
        "plt.show()"
      ],
      "metadata": {
        "id": "fJ6zyMWRpW21",
        "colab": {
          "base_uri": "https://localhost:8080/",
          "height": 334
        },
        "outputId": "b89e1ffc-c318-4aa4-c22c-f604bdfafbde"
      },
      "execution_count": 51,
      "outputs": [
        {
          "output_type": "display_data",
          "data": {
            "text/plain": [
              "<Figure size 1200x400 with 2 Axes>"
            ],
            "image/png": "[encoded data removed]"
          },
          "metadata": {}
        }
      ]
    },
    {
      "cell_type": "markdown",
      "source": [
        "### Brief Explanation of the Two Curves\n",
        "\n",
        "**Left Curve (Sequential p-value)**: This plot tracks the p-value over 60 batches in an A/B test. It starts high (~0.30) but drops below the \\(\\alpha = 0.05\\) threshold after the first batch, staying near 0. This indicates a statistically significant difference in conversion rates between Variants A and B early on, suggesting Variant B outperforms A.\n",
        "\n",
        "**Right Curve (Observed Lift, CR_B - CR_A)**: This shows the difference in conversion rates (lift) between Variant B and A across 60 batches. It starts high (~0.07) with early fluctuations, then stabilizes around 0.02–0.03. This confirms Variant B consistently has a ~2% higher conversion rate than A, matching the simulated true difference (12% vs. 10%)."
      ],
      "metadata": {
        "id": "SJ-LAsrfIZe4"
      }
    },
    {
      "cell_type": "code",
      "source": [],
      "metadata": {
        "id": "1CwYu1MVBilG"
      },
      "execution_count": 51,
      "outputs": []
    }
  ]
}