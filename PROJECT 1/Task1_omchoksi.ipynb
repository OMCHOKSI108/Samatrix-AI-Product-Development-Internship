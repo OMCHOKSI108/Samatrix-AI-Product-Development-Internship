{
  "cells": [
    {
      "cell_type": "markdown",
      "metadata": {
        "id": "8SvpYjClqcso"
      },
      "source": [
        "# Name : OM CHIRAGBHAI CHOKSI\n",
        "### SAMATRIX INTERNSHIP TASK NUMBER FINANCE DOMAIN 1\n",
        "\n",
        "In the stock market, investors build a portfolio by purchasing various stocks and assigning specific weightages to each based on their investment strategy. Using historical price data, we perform a detailed analysis of the portfolio to calculate key financial risk metrics such as Value at Risk (VaR) and Maximum Drawdown (MDD).\n",
        "\n",
        "Additionally, hypothesis testing and other statistical methods are applied to evaluate the performance and risk associated with the portfolio, helping in data-driven decision-making.\n",
        "\n",
        "in this project we taking Five Stocks\n",
        "\n",
        " TSLA , AAPL , GOOGL , MSFT , AMZN"
      ]
    },
    {
      "cell_type": "code",
      "execution_count": null,
      "metadata": {
        "id": "Rnro0JuDtUYS"
      },
      "outputs": [
        {
          "name": "stdout",
          "output_type": "stream",
          "text": [
            "Defaulting to user installation because normal site-packages is not writeable\n",
            "Requirement already satisfied: pandas_datareader in c:\\users\\omcho\\appdata\\roaming\\python\\python313\\site-packages (0.10.0)\n",
            "Requirement already satisfied: lxml in c:\\users\\omcho\\appdata\\roaming\\python\\python313\\site-packages (from pandas_datareader) (5.3.0)\n",
            "Requirement already satisfied: pandas>=0.23 in c:\\users\\omcho\\appdata\\roaming\\python\\python313\\site-packages (from pandas_datareader) (2.2.3)\n",
            "Requirement already satisfied: requests>=2.19.0 in c:\\users\\omcho\\appdata\\roaming\\python\\python313\\site-packages (from pandas_datareader) (2.32.3)\n",
            "Requirement already satisfied: numpy>=1.26.0 in c:\\users\\omcho\\appdata\\roaming\\python\\python313\\site-packages (from pandas>=0.23->pandas_datareader) (2.2.1)\n",
            "Requirement already satisfied: python-dateutil>=2.8.2 in c:\\users\\omcho\\appdata\\roaming\\python\\python313\\site-packages (from pandas>=0.23->pandas_datareader) (2.9.0.post0)\n",
            "Requirement already satisfied: pytz>=2020.1 in c:\\users\\omcho\\appdata\\roaming\\python\\python313\\site-packages (from pandas>=0.23->pandas_datareader) (2024.2)\n",
            "Requirement already satisfied: tzdata>=2022.7 in c:\\users\\omcho\\appdata\\roaming\\python\\python313\\site-packages (from pandas>=0.23->pandas_datareader) (2024.2)\n",
            "Requirement already satisfied: six>=1.5 in c:\\users\\omcho\\appdata\\roaming\\python\\python313\\site-packages (from python-dateutil>=2.8.2->pandas>=0.23->pandas_datareader) (1.17.0)\n",
            "Requirement already satisfied: charset-normalizer<4,>=2 in c:\\users\\omcho\\appdata\\roaming\\python\\python313\\site-packages (from requests>=2.19.0->pandas_datareader) (3.4.1)\n",
            "Requirement already satisfied: idna<4,>=2.5 in c:\\users\\omcho\\appdata\\roaming\\python\\python313\\site-packages (from requests>=2.19.0->pandas_datareader) (3.10)\n",
            "Requirement already satisfied: urllib3<3,>=1.21.1 in c:\\users\\omcho\\appdata\\roaming\\python\\python313\\site-packages (from requests>=2.19.0->pandas_datareader) (2.3.0)\n",
            "Requirement already satisfied: certifi>=2017.4.17 in c:\\users\\omcho\\appdata\\roaming\\python\\python313\\site-packages (from requests>=2.19.0->pandas_datareader) (2024.12.14)\n"
          ]
        }
      ],
      "source": [
        "!pip install pandas_datareader\n"
      ]
    },
    {
      "cell_type": "markdown",
      "metadata": {
        "id": "ZBmqndIts4Ek"
      },
      "source": [
        "### import Libraries"
      ]
    },
    {
      "cell_type": "code",
      "execution_count": 2,
      "metadata": {
        "id": "dHpb4Ecbs3kD"
      },
      "outputs": [],
      "source": [
        "import numpy as np\n",
        "import pandas as pd\n",
        "import matplotlib.pyplot as plt\n",
        "import yfinance as yf\n",
        "import time\n",
        "import seaborn as sns\n",
        "from pandas_datareader import data as pdr\n",
        "import datetime as dt\n",
        "from scipy import stats"
      ]
    },
    {
      "cell_type": "markdown",
      "metadata": {
        "id": "lYnXvtkJqcuh"
      },
      "source": [
        "### Download data"
      ]
    },
    {
      "cell_type": "code",
      "execution_count": 3,
      "metadata": {
        "colab": {
          "base_uri": "https://localhost:8080/",
          "height": 406
        },
        "id": "fg7ghJ1d-el-",
        "outputId": "afbc705d-568c-4787-82c8-269c6ec5ffd1"
      },
      "outputs": [
        {
          "data": {
            "text/html": [
              "<div>\n",
              "<style scoped>\n",
              "    .dataframe tbody tr th:only-of-type {\n",
              "        vertical-align: middle;\n",
              "    }\n",
              "\n",
              "    .dataframe tbody tr th {\n",
              "        vertical-align: top;\n",
              "    }\n",
              "\n",
              "    .dataframe thead th {\n",
              "        text-align: right;\n",
              "    }\n",
              "</style>\n",
              "<table border=\"1\" class=\"dataframe\">\n",
              "  <thead>\n",
              "    <tr style=\"text-align: right;\">\n",
              "      <th></th>\n",
              "    </tr>\n",
              "  </thead>\n",
              "  <tbody>\n",
              "    <tr>\n",
              "      <th>2020-01-01</th>\n",
              "    </tr>\n",
              "    <tr>\n",
              "      <th>2020-01-02</th>\n",
              "    </tr>\n",
              "    <tr>\n",
              "      <th>2020-01-03</th>\n",
              "    </tr>\n",
              "    <tr>\n",
              "      <th>2020-01-04</th>\n",
              "    </tr>\n",
              "    <tr>\n",
              "      <th>2020-01-05</th>\n",
              "    </tr>\n",
              "    <tr>\n",
              "      <th>...</th>\n",
              "    </tr>\n",
              "    <tr>\n",
              "      <th>2025-05-19</th>\n",
              "    </tr>\n",
              "    <tr>\n",
              "      <th>2025-05-20</th>\n",
              "    </tr>\n",
              "    <tr>\n",
              "      <th>2025-05-21</th>\n",
              "    </tr>\n",
              "    <tr>\n",
              "      <th>2025-05-22</th>\n",
              "    </tr>\n",
              "    <tr>\n",
              "      <th>2025-05-23</th>\n",
              "    </tr>\n",
              "  </tbody>\n",
              "</table>\n",
              "<p>1970 rows × 0 columns</p>\n",
              "</div>"
            ],
            "text/plain": [
              "Empty DataFrame\n",
              "Columns: []\n",
              "Index: [2020-01-01 00:00:00, 2020-01-02 00:00:00, 2020-01-03 00:00:00, 2020-01-04 00:00:00, 2020-01-05 00:00:00, 2020-01-06 00:00:00, 2020-01-07 00:00:00, 2020-01-08 00:00:00, 2020-01-09 00:00:00, 2020-01-10 00:00:00, 2020-01-11 00:00:00, 2020-01-12 00:00:00, 2020-01-13 00:00:00, 2020-01-14 00:00:00, 2020-01-15 00:00:00, 2020-01-16 00:00:00, 2020-01-17 00:00:00, 2020-01-18 00:00:00, 2020-01-19 00:00:00, 2020-01-20 00:00:00, 2020-01-21 00:00:00, 2020-01-22 00:00:00, 2020-01-23 00:00:00, 2020-01-24 00:00:00, 2020-01-25 00:00:00, 2020-01-26 00:00:00, 2020-01-27 00:00:00, 2020-01-28 00:00:00, 2020-01-29 00:00:00, 2020-01-30 00:00:00, 2020-01-31 00:00:00, 2020-02-01 00:00:00, 2020-02-02 00:00:00, 2020-02-03 00:00:00, 2020-02-04 00:00:00, 2020-02-05 00:00:00, 2020-02-06 00:00:00, 2020-02-07 00:00:00, 2020-02-08 00:00:00, 2020-02-09 00:00:00, 2020-02-10 00:00:00, 2020-02-11 00:00:00, 2020-02-12 00:00:00, 2020-02-13 00:00:00, 2020-02-14 00:00:00, 2020-02-15 00:00:00, 2020-02-16 00:00:00, 2020-02-17 00:00:00, 2020-02-18 00:00:00, 2020-02-19 00:00:00, 2020-02-20 00:00:00, 2020-02-21 00:00:00, 2020-02-22 00:00:00, 2020-02-23 00:00:00, 2020-02-24 00:00:00, 2020-02-25 00:00:00, 2020-02-26 00:00:00, 2020-02-27 00:00:00, 2020-02-28 00:00:00, 2020-02-29 00:00:00, 2020-03-01 00:00:00, 2020-03-02 00:00:00, 2020-03-03 00:00:00, 2020-03-04 00:00:00, 2020-03-05 00:00:00, 2020-03-06 00:00:00, 2020-03-07 00:00:00, 2020-03-08 00:00:00, 2020-03-09 00:00:00, 2020-03-10 00:00:00, 2020-03-11 00:00:00, 2020-03-12 00:00:00, 2020-03-13 00:00:00, 2020-03-14 00:00:00, 2020-03-15 00:00:00, 2020-03-16 00:00:00, 2020-03-17 00:00:00, 2020-03-18 00:00:00, 2020-03-19 00:00:00, 2020-03-20 00:00:00, 2020-03-21 00:00:00, 2020-03-22 00:00:00, 2020-03-23 00:00:00, 2020-03-24 00:00:00, 2020-03-25 00:00:00, 2020-03-26 00:00:00, 2020-03-27 00:00:00, 2020-03-28 00:00:00, 2020-03-29 00:00:00, 2020-03-30 00:00:00, 2020-03-31 00:00:00, 2020-04-01 00:00:00, 2020-04-02 00:00:00, 2020-04-03 00:00:00, 2020-04-04 00:00:00, 2020-04-05 00:00:00, 2020-04-06 00:00:00, 2020-04-07 00:00:00, 2020-04-08 00:00:00, 2020-04-09 00:00:00, ...]\n",
              "\n",
              "[1970 rows x 0 columns]"
            ]
          },
          "execution_count": 3,
          "metadata": {},
          "output_type": "execute_result"
        }
      ],
      "source": [
        "ticker = ['AAPL','MSFT','GOOGL','AMZN','TSLA']\n",
        "weights = np.array([0.20,0.20,0.20,0.20,0.20])\n",
        "\n",
        "start = dt.datetime(2020,1,1)\n",
        "end = dt.datetime.today()\n",
        "\n",
        "price = pd.DataFrame(index=pd.date_range(start,end))\n",
        "price"
      ]
    },
    {
      "cell_type": "code",
      "execution_count": 4,
      "metadata": {
        "colab": {
          "base_uri": "https://localhost:8080/"
        },
        "id": "FVCFxVmQ_M8e",
        "outputId": "3a1a5fb1-7cd5-4af1-a914-6933e48cb122"
      },
      "outputs": [
        {
          "name": "stdout",
          "output_type": "stream",
          "text": [
            "fetching['AAPL', 'MSFT', 'GOOGL', 'AMZN', 'TSLA']X yfinance ('list' object has no attribute 'upper'); falling back to Stooq\n",
            "fetching['AAPL', 'MSFT', 'GOOGL', 'AMZN', 'TSLA']X yfinance ('list' object has no attribute 'upper'); falling back to Stooq\n",
            "fetching['AAPL', 'MSFT', 'GOOGL', 'AMZN', 'TSLA']X yfinance ('list' object has no attribute 'upper'); falling back to Stooq\n",
            "fetching['AAPL', 'MSFT', 'GOOGL', 'AMZN', 'TSLA']X yfinance ('list' object has no attribute 'upper'); falling back to Stooq\n",
            "fetching['AAPL', 'MSFT', 'GOOGL', 'AMZN', 'TSLA']X yfinance ('list' object has no attribute 'upper'); falling back to Stooq\n",
            "              AAPL    MSFT   GOOGL    AMZN    TSLA\n",
            "2025-05-16  211.26  454.27  166.19  205.59  349.98\n",
            "2025-05-19  208.78  458.87  166.54  206.16  342.09\n",
            "2025-05-20  206.86  458.17  163.98  204.07  343.82\n",
            "2025-05-21  202.09  452.57  168.56  201.12  334.62\n",
            "2025-05-22  201.36  454.86  170.87  203.10  341.04\n"
          ]
        }
      ],
      "source": [
        "for t in ticker:\n",
        "  print(f\"fetching{ticker}\",end = \"\")\n",
        "  try:\n",
        "    ## featching the data\n",
        "    df = yf.Ticker(ticker).history(start=start.strftime(\"%Y-%m-%d\"),end = end.strftime(\"%Y-%m-%d\"),auto_adjust=True,)\n",
        "    series = df['Close']\n",
        "    print(\"Y finance \",end=\"\")\n",
        "  except Exception as e:\n",
        "    print(f\"X yfinance ({e}); falling back to Stooq\")\n",
        "    df2 = pdr.DataReader(ticker,'stooq',start,end)\n",
        "    df2 = df2.sort_index()\n",
        "    series= df2['Close']\n",
        "\n",
        "  price[ticker] = series\n",
        "  time.sleep(1)\n",
        "\n",
        "price = price.dropna(how='all').ffill().bfill()\n",
        "print(price.tail())"
      ]
    },
    {
      "cell_type": "markdown",
      "metadata": {
        "id": "zlDc5I5Eqcwj"
      },
      "source": [
        "### Compute Log Return"
      ]
    },
    {
      "cell_type": "code",
      "execution_count": 5,
      "metadata": {
        "colab": {
          "base_uri": "https://localhost:8080/",
          "height": 206
        },
        "id": "1zS5uon-AkF5",
        "outputId": "5b3e7b35-47f3-4054-efce-0424b8744a5a"
      },
      "outputs": [
        {
          "data": {
            "text/html": [
              "<div>\n",
              "<style scoped>\n",
              "    .dataframe tbody tr th:only-of-type {\n",
              "        vertical-align: middle;\n",
              "    }\n",
              "\n",
              "    .dataframe tbody tr th {\n",
              "        vertical-align: top;\n",
              "    }\n",
              "\n",
              "    .dataframe thead th {\n",
              "        text-align: right;\n",
              "    }\n",
              "</style>\n",
              "<table border=\"1\" class=\"dataframe\">\n",
              "  <thead>\n",
              "    <tr style=\"text-align: right;\">\n",
              "      <th></th>\n",
              "      <th>AAPL</th>\n",
              "      <th>MSFT</th>\n",
              "      <th>GOOGL</th>\n",
              "      <th>AMZN</th>\n",
              "      <th>TSLA</th>\n",
              "    </tr>\n",
              "  </thead>\n",
              "  <tbody>\n",
              "    <tr>\n",
              "      <th>2020-01-03</th>\n",
              "      <td>-0.009737</td>\n",
              "      <td>-0.012360</td>\n",
              "      <td>-0.005243</td>\n",
              "      <td>-0.012213</td>\n",
              "      <td>0.029203</td>\n",
              "    </tr>\n",
              "    <tr>\n",
              "      <th>2020-01-06</th>\n",
              "      <td>0.007879</td>\n",
              "      <td>0.002580</td>\n",
              "      <td>0.026304</td>\n",
              "      <td>0.014776</td>\n",
              "      <td>0.019073</td>\n",
              "    </tr>\n",
              "    <tr>\n",
              "      <th>2020-01-07</th>\n",
              "      <td>-0.004666</td>\n",
              "      <td>-0.009299</td>\n",
              "      <td>-0.001935</td>\n",
              "      <td>0.002089</td>\n",
              "      <td>0.038067</td>\n",
              "    </tr>\n",
              "    <tr>\n",
              "      <th>2020-01-08</th>\n",
              "      <td>0.015943</td>\n",
              "      <td>0.016008</td>\n",
              "      <td>0.007094</td>\n",
              "      <td>-0.007839</td>\n",
              "      <td>0.048030</td>\n",
              "    </tr>\n",
              "    <tr>\n",
              "      <th>2020-01-09</th>\n",
              "      <td>0.021054</td>\n",
              "      <td>0.012240</td>\n",
              "      <td>0.010441</td>\n",
              "      <td>0.004788</td>\n",
              "      <td>-0.022189</td>\n",
              "    </tr>\n",
              "  </tbody>\n",
              "</table>\n",
              "</div>"
            ],
            "text/plain": [
              "                AAPL      MSFT     GOOGL      AMZN      TSLA\n",
              "2020-01-03 -0.009737 -0.012360 -0.005243 -0.012213  0.029203\n",
              "2020-01-06  0.007879  0.002580  0.026304  0.014776  0.019073\n",
              "2020-01-07 -0.004666 -0.009299 -0.001935  0.002089  0.038067\n",
              "2020-01-08  0.015943  0.016008  0.007094 -0.007839  0.048030\n",
              "2020-01-09  0.021054  0.012240  0.010441  0.004788 -0.022189"
            ]
          },
          "execution_count": 5,
          "metadata": {},
          "output_type": "execute_result"
        }
      ],
      "source": [
        "#log-return = ln(P_t / P_{t-1})\n",
        "logR = np.log(price / price.shift(1)).dropna()\n",
        "logR.head()"
      ]
    },
    {
      "cell_type": "markdown",
      "metadata": {
        "id": "h7lRpQN0qcye"
      },
      "source": [
        "### Exmaple series for visual check bell shaped curved FOR TSLA\n"
      ]
    },
    {
      "cell_type": "code",
      "execution_count": 6,
      "metadata": {
        "colab": {
          "base_uri": "https://localhost:8080/",
          "height": 452
        },
        "id": "tUPVRmH1A1QX",
        "outputId": "2f34a035-bf54-41c4-d804-b32dfbd86451"
      },
      "outputs": [
        {
          "data": {
            "image/png": "[encoded data removed]",
            "text/plain": [
              "<Figure size 640x480 with 1 Axes>"
            ]
          },
          "metadata": {},
          "output_type": "display_data"
        }
      ],
      "source": [
        "logR['TSLA'].hist(bins=50, alpha=0.7)\n",
        "plt.title('TSLA Daily Log-Return Distribution')\n",
        "plt.show()"
      ]
    },
    {
      "cell_type": "markdown",
      "metadata": {
        "id": "0fMCDq-7BDLT"
      },
      "source": [
        "### key understanding\n",
        "\n",
        "Mean: average daily return\n",
        "\n",
        "Variance: how much returns vary\n",
        "\n",
        "Skewness: asymmetry (positive skew → fat right tail)\n",
        "\n",
        "Kurtosis: tail-heaviness (high kurtosis → more extreme days)"
      ]
    },
    {
      "cell_type": "code",
      "execution_count": 7,
      "metadata": {
        "colab": {
          "base_uri": "https://localhost:8080/",
          "height": 206
        },
        "id": "Pa7a5zRIBMRi",
        "outputId": "5c022b50-053a-4e05-875b-4620d401f4c7"
      },
      "outputs": [
        {
          "data": {
            "text/html": [
              "<div>\n",
              "<style scoped>\n",
              "    .dataframe tbody tr th:only-of-type {\n",
              "        vertical-align: middle;\n",
              "    }\n",
              "\n",
              "    .dataframe tbody tr th {\n",
              "        vertical-align: top;\n",
              "    }\n",
              "\n",
              "    .dataframe thead th {\n",
              "        text-align: right;\n",
              "    }\n",
              "</style>\n",
              "<table border=\"1\" class=\"dataframe\">\n",
              "  <thead>\n",
              "    <tr style=\"text-align: right;\">\n",
              "      <th></th>\n",
              "      <th>Mean</th>\n",
              "      <th>Variance</th>\n",
              "      <th>Skewness</th>\n",
              "      <th>Kurtosis</th>\n",
              "    </tr>\n",
              "  </thead>\n",
              "  <tbody>\n",
              "    <tr>\n",
              "      <th>AAPL</th>\n",
              "      <td>0.000752</td>\n",
              "      <td>0.000425</td>\n",
              "      <td>0.020390</td>\n",
              "      <td>6.226807</td>\n",
              "    </tr>\n",
              "    <tr>\n",
              "      <th>MSFT</th>\n",
              "      <td>0.000802</td>\n",
              "      <td>0.000372</td>\n",
              "      <td>-0.164616</td>\n",
              "      <td>7.430717</td>\n",
              "    </tr>\n",
              "    <tr>\n",
              "      <th>GOOGL</th>\n",
              "      <td>0.000678</td>\n",
              "      <td>0.000431</td>\n",
              "      <td>-0.227661</td>\n",
              "      <td>3.636135</td>\n",
              "    </tr>\n",
              "    <tr>\n",
              "      <th>AMZN</th>\n",
              "      <td>0.000562</td>\n",
              "      <td>0.000524</td>\n",
              "      <td>-0.069501</td>\n",
              "      <td>4.160446</td>\n",
              "    </tr>\n",
              "    <tr>\n",
              "      <th>TSLA</th>\n",
              "      <td>0.001828</td>\n",
              "      <td>0.001827</td>\n",
              "      <td>-0.056479</td>\n",
              "      <td>3.237728</td>\n",
              "    </tr>\n",
              "  </tbody>\n",
              "</table>\n",
              "</div>"
            ],
            "text/plain": [
              "           Mean  Variance  Skewness  Kurtosis\n",
              "AAPL   0.000752  0.000425  0.020390  6.226807\n",
              "MSFT   0.000802  0.000372 -0.164616  7.430717\n",
              "GOOGL  0.000678  0.000431 -0.227661  3.636135\n",
              "AMZN   0.000562  0.000524 -0.069501  4.160446\n",
              "TSLA   0.001828  0.001827 -0.056479  3.237728"
            ]
          },
          "execution_count": 7,
          "metadata": {},
          "output_type": "execute_result"
        }
      ],
      "source": [
        "summary = pd.DataFrame({\n",
        "    'Mean':    logR.mean(),\n",
        "    'Variance':logR.var(),\n",
        "    'Skewness':logR.skew(),\n",
        "    'Kurtosis':logR.kurtosis()\n",
        "})\n",
        "summary"
      ]
    },
    {
      "cell_type": "markdown",
      "metadata": {
        "id": "BaMLfkpwqc0e"
      },
      "source": [
        "Mean (≈0.05–0.08%): On average each stock’s daily return was very small—about a few‐tenths of a percent gain per day.**bold text**\n",
        "\n",
        "Variance (≈0.0004): Typical daily swings are around √0.0004 ≃ 2%, so most days see moves of a couple percent.\n",
        "\n",
        "Skewness (near zero or slightly negative): Returns are roughly symmetric, with a small tendency toward bigger down‐moves than up‐moves.\n",
        "\n",
        "Kurtosis (>3): All four have “fat tails,” meaning they experience more extreme one‐day jumps or crashes than a normal bell curve would predict."
      ]
    },
    {
      "cell_type": "markdown",
      "metadata": {
        "id": "mBQp7_HTqc2X"
      },
      "source": [
        "### Standard Deviation and 95 % C.F. via Chi-square:"
      ]
    },
    {
      "cell_type": "code",
      "execution_count": 8,
      "metadata": {
        "colab": {
          "base_uri": "https://localhost:8080/"
        },
        "id": "11Av9MU0BXiZ",
        "outputId": "09442e94-5521-4c56-9a1f-5c482b8c7ec9"
      },
      "outputs": [
        {
          "name": "stdout",
          "output_type": "stream",
          "text": [
            "Normal fit:\n",
            "  μ = 0.00092, 95% CI (0.0002873212397880566, 0.0015617973971260557)\n",
            "  σ = 0.02675, 95% CI (0.026308386456794633, 0.027209881451127266)\n"
          ]
        }
      ],
      "source": [
        "## calculate U and std deviation\n",
        "mu_norm, sigma_norm = logR.stack().mean(), logR.stack().std(ddof=1)\n",
        "# 95% CI for mean under Normal: μ ± z*·σ/√N\n",
        "N = logR.size\n",
        "z95 = stats.norm.ppf(0.975)\n",
        "ci_mu_norm = (mu_norm - z95*sigma_norm/np.sqrt(N),\n",
        "              mu_norm + z95*sigma_norm/np.sqrt(N))\n",
        "\n",
        "\n",
        "# 95% CI for σ via Chi-square:\n",
        "df = N-1\n",
        "chi2_low, chi2_high = stats.chi2.ppf([0.025,0.975], df)\n",
        "ci_sigma_norm = (sigma_norm*np.sqrt(df/chi2_high),\n",
        "                 sigma_norm*np.sqrt(df/chi2_low))\n",
        "\n",
        "print(\"Normal fit:\")\n",
        "print(f\"  μ = {mu_norm:.5f}, 95% CI {ci_mu_norm}\")\n",
        "print(f\"  σ = {sigma_norm:.5f}, 95% CI {ci_sigma_norm}\")"
      ]
    },
    {
      "cell_type": "markdown",
      "metadata": {
        "id": "-6aCifyrqc4Y"
      },
      "source": [
        "### Student's T test\n",
        "Fit t-distribution to the pooled returns\n",
        "\n",
        "returns_flat = all asset returns concatenated"
      ]
    },
    {
      "cell_type": "code",
      "execution_count": 9,
      "metadata": {
        "colab": {
          "base_uri": "https://localhost:8080/"
        },
        "id": "RBZ1bNtQCKEs",
        "outputId": "9a46aa02-afc6-456d-c15b-7fdad71554a4"
      },
      "outputs": [
        {
          "name": "stdout",
          "output_type": "stream",
          "text": [
            "2.759356742903797 0.0010966883199132254 0.015941408445884063\n"
          ]
        }
      ],
      "source": [
        "returns_flat = logR.stack().values\n",
        "df_t, mu_t, sigma_t = stats.t.fit(returns_flat)\n",
        "print(df_t,mu_t,sigma_t)"
      ]
    },
    {
      "cell_type": "code",
      "execution_count": 10,
      "metadata": {
        "colab": {
          "base_uri": "https://localhost:8080/"
        },
        "id": "gMTv_ZwMCbiA",
        "outputId": "7d1b25c3-202e-4da9-8139-63da4f5cf9f2"
      },
      "outputs": [
        {
          "ename": "KeyboardInterrupt",
          "evalue": "",
          "output_type": "error",
          "traceback": [
            "\u001b[1;31m---------------------------------------------------------------------------\u001b[0m",
            "\u001b[1;31mKeyboardInterrupt\u001b[0m                         Traceback (most recent call last)",
            "\u001b[1;32m~\\AppData\\Local\\Temp\\ipykernel_10540\\4013078811.py\u001b[0m in \u001b[0;36m?\u001b[1;34m()\u001b[0m\n\u001b[0;32m      1\u001b[0m \u001b[0mB\u001b[0m \u001b[1;33m=\u001b[0m \u001b[1;36m1000\u001b[0m\u001b[1;33m\u001b[0m\u001b[1;33m\u001b[0m\u001b[0m\n\u001b[1;32m----> 2\u001b[1;33m estimates = np.array([stats.t.fit(np.random.choice(returns_flat, size=N, replace=True))\n\u001b[0m\u001b[0;32m      3\u001b[0m                       \u001b[1;32mfor\u001b[0m \u001b[0m_\u001b[0m \u001b[1;32min\u001b[0m \u001b[0mrange\u001b[0m\u001b[1;33m(\u001b[0m\u001b[0mB\u001b[0m\u001b[1;33m)\u001b[0m\u001b[1;33m]\u001b[0m\u001b[1;33m)\u001b[0m\u001b[1;33m\u001b[0m\u001b[1;33m\u001b[0m\u001b[0m\n\u001b[0;32m      4\u001b[0m \u001b[0mci_mu_t\u001b[0m    \u001b[1;33m=\u001b[0m \u001b[0mnp\u001b[0m\u001b[1;33m.\u001b[0m\u001b[0mpercentile\u001b[0m\u001b[1;33m(\u001b[0m\u001b[0mestimates\u001b[0m\u001b[1;33m[\u001b[0m\u001b[1;33m:\u001b[0m\u001b[1;33m,\u001b[0m\u001b[1;36m1\u001b[0m\u001b[1;33m]\u001b[0m\u001b[1;33m,\u001b[0m \u001b[1;33m[\u001b[0m\u001b[1;36m2.5\u001b[0m\u001b[1;33m,\u001b[0m\u001b[1;36m97.5\u001b[0m\u001b[1;33m]\u001b[0m\u001b[1;33m)\u001b[0m\u001b[1;33m\u001b[0m\u001b[1;33m\u001b[0m\u001b[0m\n\u001b[0;32m      5\u001b[0m \u001b[0mci_sigma_t\u001b[0m \u001b[1;33m=\u001b[0m \u001b[0mnp\u001b[0m\u001b[1;33m.\u001b[0m\u001b[0mpercentile\u001b[0m\u001b[1;33m(\u001b[0m\u001b[0mestimates\u001b[0m\u001b[1;33m[\u001b[0m\u001b[1;33m:\u001b[0m\u001b[1;33m,\u001b[0m\u001b[1;36m2\u001b[0m\u001b[1;33m]\u001b[0m\u001b[1;33m,\u001b[0m \u001b[1;33m[\u001b[0m\u001b[1;36m2.5\u001b[0m\u001b[1;33m,\u001b[0m\u001b[1;36m97.5\u001b[0m\u001b[1;33m]\u001b[0m\u001b[1;33m)\u001b[0m\u001b[1;33m\u001b[0m\u001b[1;33m\u001b[0m\u001b[0m\n",
            "\u001b[1;32m~\\anaconda3\\Lib\\site-packages\\scipy\\stats\\_distn_infrastructure.py\u001b[0m in \u001b[0;36m?\u001b[1;34m(self, data, *args, **kwds)\u001b[0m\n\u001b[0;32m   2678\u001b[0m         \u001b[1;31m# In some cases, method of moments can be done with fsolve/root\u001b[0m\u001b[1;33m\u001b[0m\u001b[1;33m\u001b[0m\u001b[0m\n\u001b[0;32m   2679\u001b[0m         \u001b[1;31m# instead of an optimizer, but sometimes no solution exists,\u001b[0m\u001b[1;33m\u001b[0m\u001b[1;33m\u001b[0m\u001b[0m\n\u001b[0;32m   2680\u001b[0m         \u001b[1;31m# especially when the user fixes parameters. Minimizing the sum\u001b[0m\u001b[1;33m\u001b[0m\u001b[1;33m\u001b[0m\u001b[0m\n\u001b[0;32m   2681\u001b[0m         \u001b[1;31m# of squares of the error generalizes to these cases.\u001b[0m\u001b[1;33m\u001b[0m\u001b[1;33m\u001b[0m\u001b[0m\n\u001b[1;32m-> 2682\u001b[1;33m         \u001b[0mvals\u001b[0m \u001b[1;33m=\u001b[0m \u001b[0moptimizer\u001b[0m\u001b[1;33m(\u001b[0m\u001b[0mfunc\u001b[0m\u001b[1;33m,\u001b[0m \u001b[0mx0\u001b[0m\u001b[1;33m,\u001b[0m \u001b[0margs\u001b[0m\u001b[1;33m=\u001b[0m\u001b[1;33m(\u001b[0m\u001b[0mdata\u001b[0m\u001b[1;33m,\u001b[0m\u001b[1;33m)\u001b[0m\u001b[1;33m,\u001b[0m \u001b[0mdisp\u001b[0m\u001b[1;33m=\u001b[0m\u001b[1;36m0\u001b[0m\u001b[1;33m)\u001b[0m\u001b[1;33m\u001b[0m\u001b[1;33m\u001b[0m\u001b[0m\n\u001b[0m\u001b[0;32m   2683\u001b[0m         \u001b[0mobj\u001b[0m \u001b[1;33m=\u001b[0m \u001b[0mfunc\u001b[0m\u001b[1;33m(\u001b[0m\u001b[0mvals\u001b[0m\u001b[1;33m,\u001b[0m \u001b[0mdata\u001b[0m\u001b[1;33m)\u001b[0m\u001b[1;33m\u001b[0m\u001b[1;33m\u001b[0m\u001b[0m\n\u001b[0;32m   2684\u001b[0m \u001b[1;33m\u001b[0m\u001b[0m\n\u001b[0;32m   2685\u001b[0m         \u001b[1;32mif\u001b[0m \u001b[0mrestore\u001b[0m \u001b[1;32mis\u001b[0m \u001b[1;32mnot\u001b[0m \u001b[1;32mNone\u001b[0m\u001b[1;33m:\u001b[0m\u001b[1;33m\u001b[0m\u001b[1;33m\u001b[0m\u001b[0m\n",
            "\u001b[1;32m~\\anaconda3\\Lib\\site-packages\\scipy\\optimize\\_optimize.py\u001b[0m in \u001b[0;36m?\u001b[1;34m(func, x0, args, xtol, ftol, maxiter, maxfun, full_output, disp, retall, callback, initial_simplex)\u001b[0m\n\u001b[0;32m    649\u001b[0m             \u001b[1;34m'return_all'\u001b[0m\u001b[1;33m:\u001b[0m \u001b[0mretall\u001b[0m\u001b[1;33m,\u001b[0m\u001b[1;33m\u001b[0m\u001b[1;33m\u001b[0m\u001b[0m\n\u001b[0;32m    650\u001b[0m             \u001b[1;34m'initial_simplex'\u001b[0m\u001b[1;33m:\u001b[0m \u001b[0minitial_simplex\u001b[0m\u001b[1;33m}\u001b[0m\u001b[1;33m\u001b[0m\u001b[1;33m\u001b[0m\u001b[0m\n\u001b[0;32m    651\u001b[0m \u001b[1;33m\u001b[0m\u001b[0m\n\u001b[0;32m    652\u001b[0m     \u001b[0mcallback\u001b[0m \u001b[1;33m=\u001b[0m \u001b[0m_wrap_callback\u001b[0m\u001b[1;33m(\u001b[0m\u001b[0mcallback\u001b[0m\u001b[1;33m)\u001b[0m\u001b[1;33m\u001b[0m\u001b[1;33m\u001b[0m\u001b[0m\n\u001b[1;32m--> 653\u001b[1;33m     \u001b[0mres\u001b[0m \u001b[1;33m=\u001b[0m \u001b[0m_minimize_neldermead\u001b[0m\u001b[1;33m(\u001b[0m\u001b[0mfunc\u001b[0m\u001b[1;33m,\u001b[0m \u001b[0mx0\u001b[0m\u001b[1;33m,\u001b[0m \u001b[0margs\u001b[0m\u001b[1;33m,\u001b[0m \u001b[0mcallback\u001b[0m\u001b[1;33m=\u001b[0m\u001b[0mcallback\u001b[0m\u001b[1;33m,\u001b[0m \u001b[1;33m**\u001b[0m\u001b[0mopts\u001b[0m\u001b[1;33m)\u001b[0m\u001b[1;33m\u001b[0m\u001b[1;33m\u001b[0m\u001b[0m\n\u001b[0m\u001b[0;32m    654\u001b[0m     \u001b[1;32mif\u001b[0m \u001b[0mfull_output\u001b[0m\u001b[1;33m:\u001b[0m\u001b[1;33m\u001b[0m\u001b[1;33m\u001b[0m\u001b[0m\n\u001b[0;32m    655\u001b[0m         \u001b[0mretlist\u001b[0m \u001b[1;33m=\u001b[0m \u001b[0mres\u001b[0m\u001b[1;33m[\u001b[0m\u001b[1;34m'x'\u001b[0m\u001b[1;33m]\u001b[0m\u001b[1;33m,\u001b[0m \u001b[0mres\u001b[0m\u001b[1;33m[\u001b[0m\u001b[1;34m'fun'\u001b[0m\u001b[1;33m]\u001b[0m\u001b[1;33m,\u001b[0m \u001b[0mres\u001b[0m\u001b[1;33m[\u001b[0m\u001b[1;34m'nit'\u001b[0m\u001b[1;33m]\u001b[0m\u001b[1;33m,\u001b[0m \u001b[0mres\u001b[0m\u001b[1;33m[\u001b[0m\u001b[1;34m'nfev'\u001b[0m\u001b[1;33m]\u001b[0m\u001b[1;33m,\u001b[0m \u001b[0mres\u001b[0m\u001b[1;33m[\u001b[0m\u001b[1;34m'status'\u001b[0m\u001b[1;33m]\u001b[0m\u001b[1;33m\u001b[0m\u001b[1;33m\u001b[0m\u001b[0m\n\u001b[0;32m    656\u001b[0m         \u001b[1;32mif\u001b[0m \u001b[0mretall\u001b[0m\u001b[1;33m:\u001b[0m\u001b[1;33m\u001b[0m\u001b[1;33m\u001b[0m\u001b[0m\n",
            "\u001b[1;32m~\\anaconda3\\Lib\\site-packages\\scipy\\optimize\\_optimize.py\u001b[0m in \u001b[0;36m?\u001b[1;34m(func, x0, args, callback, maxiter, maxfev, disp, return_all, initial_simplex, xatol, fatol, adaptive, bounds, **unknown_options)\u001b[0m\n\u001b[0;32m    901\u001b[0m             \u001b[0mfsim\u001b[0m \u001b[1;33m=\u001b[0m \u001b[0mnp\u001b[0m\u001b[1;33m.\u001b[0m\u001b[0mtake\u001b[0m\u001b[1;33m(\u001b[0m\u001b[0mfsim\u001b[0m\u001b[1;33m,\u001b[0m \u001b[0mind\u001b[0m\u001b[1;33m,\u001b[0m \u001b[1;36m0\u001b[0m\u001b[1;33m)\u001b[0m\u001b[1;33m\u001b[0m\u001b[1;33m\u001b[0m\u001b[0m\n\u001b[0;32m    902\u001b[0m             \u001b[1;32mif\u001b[0m \u001b[0mretall\u001b[0m\u001b[1;33m:\u001b[0m\u001b[1;33m\u001b[0m\u001b[1;33m\u001b[0m\u001b[0m\n\u001b[0;32m    903\u001b[0m                 \u001b[0mallvecs\u001b[0m\u001b[1;33m.\u001b[0m\u001b[0mappend\u001b[0m\u001b[1;33m(\u001b[0m\u001b[0msim\u001b[0m\u001b[1;33m[\u001b[0m\u001b[1;36m0\u001b[0m\u001b[1;33m]\u001b[0m\u001b[1;33m)\u001b[0m\u001b[1;33m\u001b[0m\u001b[1;33m\u001b[0m\u001b[0m\n\u001b[0;32m    904\u001b[0m             \u001b[0mintermediate_result\u001b[0m \u001b[1;33m=\u001b[0m \u001b[0mOptimizeResult\u001b[0m\u001b[1;33m(\u001b[0m\u001b[0mx\u001b[0m\u001b[1;33m=\u001b[0m\u001b[0msim\u001b[0m\u001b[1;33m[\u001b[0m\u001b[1;36m0\u001b[0m\u001b[1;33m]\u001b[0m\u001b[1;33m,\u001b[0m \u001b[0mfun\u001b[0m\u001b[1;33m=\u001b[0m\u001b[0mfsim\u001b[0m\u001b[1;33m[\u001b[0m\u001b[1;36m0\u001b[0m\u001b[1;33m]\u001b[0m\u001b[1;33m)\u001b[0m\u001b[1;33m\u001b[0m\u001b[1;33m\u001b[0m\u001b[0m\n\u001b[1;32m--> 905\u001b[1;33m             \u001b[1;32mif\u001b[0m \u001b[0m_call_callback_maybe_halt\u001b[0m\u001b[1;33m(\u001b[0m\u001b[0mcallback\u001b[0m\u001b[1;33m,\u001b[0m \u001b[0mintermediate_result\u001b[0m\u001b[1;33m)\u001b[0m\u001b[1;33m:\u001b[0m\u001b[1;33m\u001b[0m\u001b[1;33m\u001b[0m\u001b[0m\n\u001b[0m\u001b[0;32m    906\u001b[0m                 \u001b[1;32mbreak\u001b[0m\u001b[1;33m\u001b[0m\u001b[1;33m\u001b[0m\u001b[0m\n\u001b[0;32m    907\u001b[0m \u001b[1;33m\u001b[0m\u001b[0m\n\u001b[0;32m    908\u001b[0m     \u001b[0mx\u001b[0m \u001b[1;33m=\u001b[0m \u001b[0msim\u001b[0m\u001b[1;33m[\u001b[0m\u001b[1;36m0\u001b[0m\u001b[1;33m]\u001b[0m\u001b[1;33m\u001b[0m\u001b[1;33m\u001b[0m\u001b[0m\n",
            "\u001b[1;32m~\\anaconda3\\Lib\\site-packages\\scipy\\optimize\\_optimize.py\u001b[0m in \u001b[0;36m?\u001b[1;34m(x, *wrapper_args)\u001b[0m\n\u001b[0;32m    522\u001b[0m         \u001b[1;32mif\u001b[0m \u001b[0mncalls\u001b[0m\u001b[1;33m[\u001b[0m\u001b[1;36m0\u001b[0m\u001b[1;33m]\u001b[0m \u001b[1;33m>=\u001b[0m \u001b[0mmaxfun\u001b[0m\u001b[1;33m:\u001b[0m\u001b[1;33m\u001b[0m\u001b[1;33m\u001b[0m\u001b[0m\n\u001b[0;32m    523\u001b[0m             \u001b[1;32mraise\u001b[0m \u001b[0m_MaxFuncCallError\u001b[0m\u001b[1;33m(\u001b[0m\u001b[1;34m\"Too many function calls\"\u001b[0m\u001b[1;33m)\u001b[0m\u001b[1;33m\u001b[0m\u001b[1;33m\u001b[0m\u001b[0m\n\u001b[0;32m    524\u001b[0m         \u001b[0mncalls\u001b[0m\u001b[1;33m[\u001b[0m\u001b[1;36m0\u001b[0m\u001b[1;33m]\u001b[0m \u001b[1;33m+=\u001b[0m \u001b[1;36m1\u001b[0m\u001b[1;33m\u001b[0m\u001b[1;33m\u001b[0m\u001b[0m\n\u001b[0;32m    525\u001b[0m         \u001b[1;31m# A copy of x is sent to the user function (gh13740)\u001b[0m\u001b[1;33m\u001b[0m\u001b[1;33m\u001b[0m\u001b[0m\n\u001b[1;32m--> 526\u001b[1;33m         \u001b[0mfx\u001b[0m \u001b[1;33m=\u001b[0m \u001b[0mfunction\u001b[0m\u001b[1;33m(\u001b[0m\u001b[0mnp\u001b[0m\u001b[1;33m.\u001b[0m\u001b[0mcopy\u001b[0m\u001b[1;33m(\u001b[0m\u001b[0mx\u001b[0m\u001b[1;33m)\u001b[0m\u001b[1;33m,\u001b[0m \u001b[1;33m*\u001b[0m\u001b[1;33m(\u001b[0m\u001b[0mwrapper_args\u001b[0m \u001b[1;33m+\u001b[0m \u001b[0margs\u001b[0m\u001b[1;33m)\u001b[0m\u001b[1;33m)\u001b[0m\u001b[1;33m\u001b[0m\u001b[1;33m\u001b[0m\u001b[0m\n\u001b[0m\u001b[0;32m    527\u001b[0m         \u001b[1;31m# Ideally, we'd like to a have a true scalar returned from f(x). For\u001b[0m\u001b[1;33m\u001b[0m\u001b[1;33m\u001b[0m\u001b[0m\n\u001b[0;32m    528\u001b[0m         \u001b[1;31m# backwards-compatibility, also allow np.array([1.3]),\u001b[0m\u001b[1;33m\u001b[0m\u001b[1;33m\u001b[0m\u001b[0m\n\u001b[0;32m    529\u001b[0m         \u001b[1;31m# np.array([[1.3]]) etc.\u001b[0m\u001b[1;33m\u001b[0m\u001b[1;33m\u001b[0m\u001b[0m\n",
            "\u001b[1;32m~\\anaconda3\\Lib\\site-packages\\scipy\\stats\\_distn_infrastructure.py\u001b[0m in \u001b[0;36m?\u001b[1;34m(self, theta, x)\u001b[0m\n\u001b[0;32m   2361\u001b[0m         \u001b[1;32melse\u001b[0m\u001b[1;33m:\u001b[0m\u001b[1;33m\u001b[0m\u001b[1;33m\u001b[0m\u001b[0m\n\u001b[0;32m   2362\u001b[0m             \u001b[0mx\u001b[0m \u001b[1;33m=\u001b[0m \u001b[1;33m(\u001b[0m\u001b[0mx\u001b[0m \u001b[1;33m-\u001b[0m \u001b[0mloc\u001b[0m\u001b[1;33m)\u001b[0m \u001b[1;33m/\u001b[0m \u001b[0mscale\u001b[0m\u001b[1;33m\u001b[0m\u001b[1;33m\u001b[0m\u001b[0m\n\u001b[0;32m   2363\u001b[0m             \u001b[0mn_log_scale\u001b[0m \u001b[1;33m=\u001b[0m \u001b[0mlen\u001b[0m\u001b[1;33m(\u001b[0m\u001b[0mx\u001b[0m\u001b[1;33m)\u001b[0m \u001b[1;33m*\u001b[0m \u001b[0mlog\u001b[0m\u001b[1;33m(\u001b[0m\u001b[0mscale\u001b[0m\u001b[1;33m)\u001b[0m\u001b[1;33m\u001b[0m\u001b[1;33m\u001b[0m\u001b[0m\n\u001b[0;32m   2364\u001b[0m \u001b[1;33m\u001b[0m\u001b[0m\n\u001b[1;32m-> 2365\u001b[1;33m         \u001b[1;32mreturn\u001b[0m \u001b[0mself\u001b[0m\u001b[1;33m.\u001b[0m\u001b[0m_nnlf_and_penalty\u001b[0m\u001b[1;33m(\u001b[0m\u001b[0mx\u001b[0m\u001b[1;33m,\u001b[0m \u001b[0margs\u001b[0m\u001b[1;33m)\u001b[0m \u001b[1;33m+\u001b[0m \u001b[0mn_log_scale\u001b[0m\u001b[1;33m\u001b[0m\u001b[1;33m\u001b[0m\u001b[0m\n\u001b[0m",
            "\u001b[1;32m~\\anaconda3\\Lib\\site-packages\\scipy\\stats\\_distn_infrastructure.py\u001b[0m in \u001b[0;36m?\u001b[1;34m(self, x, args)\u001b[0m\n\u001b[0;32m   2337\u001b[0m             \u001b[0mcond0\u001b[0m \u001b[1;33m=\u001b[0m \u001b[1;33m~\u001b[0m\u001b[0mself\u001b[0m\u001b[1;33m.\u001b[0m\u001b[0m_support_mask\u001b[0m\u001b[1;33m(\u001b[0m\u001b[0mx\u001b[0m\u001b[1;33m,\u001b[0m \u001b[1;33m*\u001b[0m\u001b[0margs\u001b[0m\u001b[1;33m)\u001b[0m\u001b[1;33m\u001b[0m\u001b[1;33m\u001b[0m\u001b[0m\n\u001b[0;32m   2338\u001b[0m             \u001b[0mn_bad\u001b[0m \u001b[1;33m=\u001b[0m \u001b[0mnp\u001b[0m\u001b[1;33m.\u001b[0m\u001b[0mcount_nonzero\u001b[0m\u001b[1;33m(\u001b[0m\u001b[0mcond0\u001b[0m\u001b[1;33m)\u001b[0m\u001b[1;33m\u001b[0m\u001b[1;33m\u001b[0m\u001b[0m\n\u001b[0;32m   2339\u001b[0m             \u001b[1;32mif\u001b[0m \u001b[0mn_bad\u001b[0m \u001b[1;33m>\u001b[0m \u001b[1;36m0\u001b[0m\u001b[1;33m:\u001b[0m\u001b[1;33m\u001b[0m\u001b[1;33m\u001b[0m\u001b[0m\n\u001b[0;32m   2340\u001b[0m                 \u001b[0mx\u001b[0m \u001b[1;33m=\u001b[0m \u001b[0margsreduce\u001b[0m\u001b[1;33m(\u001b[0m\u001b[1;33m~\u001b[0m\u001b[0mcond0\u001b[0m\u001b[1;33m,\u001b[0m \u001b[0mx\u001b[0m\u001b[1;33m)\u001b[0m\u001b[1;33m[\u001b[0m\u001b[1;36m0\u001b[0m\u001b[1;33m]\u001b[0m\u001b[1;33m\u001b[0m\u001b[1;33m\u001b[0m\u001b[0m\n\u001b[1;32m-> 2341\u001b[1;33m             \u001b[0mterms\u001b[0m \u001b[1;33m=\u001b[0m \u001b[1;33m[\u001b[0m\u001b[0mself\u001b[0m\u001b[1;33m.\u001b[0m\u001b[0m_logpdf\u001b[0m\u001b[1;33m(\u001b[0m\u001b[0mx\u001b[0m\u001b[1;33m,\u001b[0m \u001b[1;33m*\u001b[0m\u001b[0margs\u001b[0m\u001b[1;33m)\u001b[0m\u001b[1;33m]\u001b[0m\u001b[1;33m\u001b[0m\u001b[1;33m\u001b[0m\u001b[0m\n\u001b[0m\u001b[0;32m   2342\u001b[0m \u001b[1;33m\u001b[0m\u001b[0m\n\u001b[0;32m   2343\u001b[0m         \u001b[0mtotals\u001b[0m\u001b[1;33m,\u001b[0m \u001b[0mbad_counts\u001b[0m \u001b[1;33m=\u001b[0m \u001b[0mzip\u001b[0m\u001b[1;33m(\u001b[0m\u001b[1;33m*\u001b[0m\u001b[1;33m[\u001b[0m\u001b[0m_sum_finite\u001b[0m\u001b[1;33m(\u001b[0m\u001b[0mterm\u001b[0m\u001b[1;33m)\u001b[0m \u001b[1;32mfor\u001b[0m \u001b[0mterm\u001b[0m \u001b[1;32min\u001b[0m \u001b[0mterms\u001b[0m\u001b[1;33m]\u001b[0m\u001b[1;33m)\u001b[0m\u001b[1;33m\u001b[0m\u001b[1;33m\u001b[0m\u001b[0m\n\u001b[0;32m   2344\u001b[0m         \u001b[0mtotal\u001b[0m \u001b[1;33m=\u001b[0m \u001b[0msum\u001b[0m\u001b[1;33m(\u001b[0m\u001b[0mtotals\u001b[0m\u001b[1;33m)\u001b[0m\u001b[1;33m\u001b[0m\u001b[1;33m\u001b[0m\u001b[0m\n",
            "\u001b[1;32m~\\anaconda3\\Lib\\site-packages\\scipy\\stats\\_continuous_distns.py\u001b[0m in \u001b[0;36m?\u001b[1;34m(self, x, df)\u001b[0m\n\u001b[0;32m   7626\u001b[0m \u001b[1;33m\u001b[0m\u001b[0m\n\u001b[0;32m   7627\u001b[0m         \u001b[1;32mdef\u001b[0m \u001b[0mnorm_logpdf\u001b[0m\u001b[1;33m(\u001b[0m\u001b[0mx\u001b[0m\u001b[1;33m,\u001b[0m \u001b[0mdf\u001b[0m\u001b[1;33m)\u001b[0m\u001b[1;33m:\u001b[0m\u001b[1;33m\u001b[0m\u001b[1;33m\u001b[0m\u001b[0m\n\u001b[0;32m   7628\u001b[0m             \u001b[1;32mreturn\u001b[0m \u001b[0mnorm\u001b[0m\u001b[1;33m.\u001b[0m\u001b[0m_logpdf\u001b[0m\u001b[1;33m(\u001b[0m\u001b[0mx\u001b[0m\u001b[1;33m)\u001b[0m\u001b[1;33m\u001b[0m\u001b[1;33m\u001b[0m\u001b[0m\n\u001b[0;32m   7629\u001b[0m \u001b[1;33m\u001b[0m\u001b[0m\n\u001b[1;32m-> 7630\u001b[1;33m         \u001b[1;32mreturn\u001b[0m \u001b[0m_lazywhere\u001b[0m\u001b[1;33m(\u001b[0m\u001b[0mdf\u001b[0m \u001b[1;33m==\u001b[0m \u001b[0mnp\u001b[0m\u001b[1;33m.\u001b[0m\u001b[0minf\u001b[0m\u001b[1;33m,\u001b[0m \u001b[1;33m(\u001b[0m\u001b[0mx\u001b[0m\u001b[1;33m,\u001b[0m \u001b[0mdf\u001b[0m\u001b[1;33m,\u001b[0m \u001b[1;33m)\u001b[0m\u001b[1;33m,\u001b[0m \u001b[0mf\u001b[0m\u001b[1;33m=\u001b[0m\u001b[0mnorm_logpdf\u001b[0m\u001b[1;33m,\u001b[0m \u001b[0mf2\u001b[0m\u001b[1;33m=\u001b[0m\u001b[0mt_logpdf\u001b[0m\u001b[1;33m)\u001b[0m\u001b[1;33m\u001b[0m\u001b[1;33m\u001b[0m\u001b[0m\n\u001b[0m",
            "\u001b[1;32m~\\anaconda3\\Lib\\site-packages\\scipy\\_lib\\_util.py\u001b[0m in \u001b[0;36m?\u001b[1;34m(cond, arrays, f, fillvalue, f2)\u001b[0m\n\u001b[0;32m    145\u001b[0m         \u001b[0mdtype\u001b[0m \u001b[1;33m=\u001b[0m \u001b[0mxp\u001b[0m\u001b[1;33m.\u001b[0m\u001b[0mresult_type\u001b[0m\u001b[1;33m(\u001b[0m\u001b[0mtemp1\u001b[0m\u001b[1;33m.\u001b[0m\u001b[0mdtype\u001b[0m\u001b[1;33m,\u001b[0m \u001b[0mfillvalue\u001b[0m\u001b[1;33m.\u001b[0m\u001b[0mdtype\u001b[0m\u001b[1;33m)\u001b[0m\u001b[1;33m\u001b[0m\u001b[1;33m\u001b[0m\u001b[0m\n\u001b[0;32m    146\u001b[0m         \u001b[0mout\u001b[0m \u001b[1;33m=\u001b[0m \u001b[0mxp\u001b[0m\u001b[1;33m.\u001b[0m\u001b[0mfull\u001b[0m\u001b[1;33m(\u001b[0m\u001b[0mcond\u001b[0m\u001b[1;33m.\u001b[0m\u001b[0mshape\u001b[0m\u001b[1;33m,\u001b[0m \u001b[0mfill_value\u001b[0m\u001b[1;33m=\u001b[0m\u001b[0mfillvalue\u001b[0m\u001b[1;33m,\u001b[0m \u001b[0mdtype\u001b[0m\u001b[1;33m=\u001b[0m\u001b[0mdtype\u001b[0m\u001b[1;33m)\u001b[0m\u001b[1;33m\u001b[0m\u001b[1;33m\u001b[0m\u001b[0m\n\u001b[0;32m    147\u001b[0m     \u001b[1;32melse\u001b[0m\u001b[1;33m:\u001b[0m\u001b[1;33m\u001b[0m\u001b[1;33m\u001b[0m\u001b[0m\n\u001b[0;32m    148\u001b[0m         \u001b[0mncond\u001b[0m \u001b[1;33m=\u001b[0m \u001b[1;33m~\u001b[0m\u001b[0mcond\u001b[0m\u001b[1;33m\u001b[0m\u001b[1;33m\u001b[0m\u001b[0m\n\u001b[1;32m--> 149\u001b[1;33m         \u001b[0mtemp2\u001b[0m \u001b[1;33m=\u001b[0m \u001b[0mxp\u001b[0m\u001b[1;33m.\u001b[0m\u001b[0masarray\u001b[0m\u001b[1;33m(\u001b[0m\u001b[0mf2\u001b[0m\u001b[1;33m(\u001b[0m\u001b[1;33m*\u001b[0m\u001b[1;33m(\u001b[0m\u001b[0marr\u001b[0m\u001b[1;33m[\u001b[0m\u001b[0mncond\u001b[0m\u001b[1;33m]\u001b[0m \u001b[1;32mfor\u001b[0m \u001b[0marr\u001b[0m \u001b[1;32min\u001b[0m \u001b[0marrays\u001b[0m\u001b[1;33m)\u001b[0m\u001b[1;33m)\u001b[0m\u001b[1;33m)\u001b[0m\u001b[1;33m\u001b[0m\u001b[1;33m\u001b[0m\u001b[0m\n\u001b[0m\u001b[0;32m    150\u001b[0m         \u001b[0mdtype\u001b[0m \u001b[1;33m=\u001b[0m \u001b[0mxp\u001b[0m\u001b[1;33m.\u001b[0m\u001b[0mresult_type\u001b[0m\u001b[1;33m(\u001b[0m\u001b[0mtemp1\u001b[0m\u001b[1;33m,\u001b[0m \u001b[0mtemp2\u001b[0m\u001b[1;33m)\u001b[0m\u001b[1;33m\u001b[0m\u001b[1;33m\u001b[0m\u001b[0m\n\u001b[0;32m    151\u001b[0m         \u001b[0mout\u001b[0m \u001b[1;33m=\u001b[0m \u001b[0mxp\u001b[0m\u001b[1;33m.\u001b[0m\u001b[0mempty\u001b[0m\u001b[1;33m(\u001b[0m\u001b[0mcond\u001b[0m\u001b[1;33m.\u001b[0m\u001b[0mshape\u001b[0m\u001b[1;33m,\u001b[0m \u001b[0mdtype\u001b[0m\u001b[1;33m=\u001b[0m\u001b[0mdtype\u001b[0m\u001b[1;33m)\u001b[0m\u001b[1;33m\u001b[0m\u001b[1;33m\u001b[0m\u001b[0m\n\u001b[0;32m    152\u001b[0m         \u001b[0mout\u001b[0m\u001b[1;33m[\u001b[0m\u001b[0mncond\u001b[0m\u001b[1;33m]\u001b[0m \u001b[1;33m=\u001b[0m \u001b[0mtemp2\u001b[0m\u001b[1;33m\u001b[0m\u001b[1;33m\u001b[0m\u001b[0m\n",
            "\u001b[1;32m~\\anaconda3\\Lib\\site-packages\\scipy\\stats\\_continuous_distns.py\u001b[0m in \u001b[0;36m?\u001b[1;34m(x, df)\u001b[0m\n\u001b[0;32m   7622\u001b[0m         \u001b[1;32mdef\u001b[0m \u001b[0mt_logpdf\u001b[0m\u001b[1;33m(\u001b[0m\u001b[0mx\u001b[0m\u001b[1;33m,\u001b[0m \u001b[0mdf\u001b[0m\u001b[1;33m)\u001b[0m\u001b[1;33m:\u001b[0m\u001b[1;33m\u001b[0m\u001b[1;33m\u001b[0m\u001b[0m\n\u001b[0;32m   7623\u001b[0m             return (np.log(sc.poch(0.5 * df, 0.5))\n\u001b[0;32m   7624\u001b[0m                     \u001b[1;33m-\u001b[0m \u001b[1;36m0.5\u001b[0m \u001b[1;33m*\u001b[0m \u001b[1;33m(\u001b[0m\u001b[0mnp\u001b[0m\u001b[1;33m.\u001b[0m\u001b[0mlog\u001b[0m\u001b[1;33m(\u001b[0m\u001b[0mdf\u001b[0m\u001b[1;33m)\u001b[0m \u001b[1;33m+\u001b[0m \u001b[0mnp\u001b[0m\u001b[1;33m.\u001b[0m\u001b[0mlog\u001b[0m\u001b[1;33m(\u001b[0m\u001b[0mnp\u001b[0m\u001b[1;33m.\u001b[0m\u001b[0mpi\u001b[0m\u001b[1;33m)\u001b[0m\u001b[1;33m)\u001b[0m\u001b[1;33m\u001b[0m\u001b[1;33m\u001b[0m\u001b[0m\n\u001b[1;32m-> 7625\u001b[1;33m                     \u001b[1;33m-\u001b[0m \u001b[1;33m(\u001b[0m\u001b[0mdf\u001b[0m \u001b[1;33m+\u001b[0m \u001b[1;36m1\u001b[0m\u001b[1;33m)\u001b[0m\u001b[1;33m/\u001b[0m\u001b[1;36m2\u001b[0m\u001b[1;33m*\u001b[0m\u001b[0mnp\u001b[0m\u001b[1;33m.\u001b[0m\u001b[0mlog1p\u001b[0m\u001b[1;33m(\u001b[0m\u001b[0mx\u001b[0m \u001b[1;33m*\u001b[0m \u001b[0mx\u001b[0m\u001b[1;33m/\u001b[0m\u001b[0mdf\u001b[0m\u001b[1;33m)\u001b[0m\u001b[1;33m)\u001b[0m\u001b[1;33m\u001b[0m\u001b[1;33m\u001b[0m\u001b[0m\n\u001b[0m",
            "\u001b[1;31mKeyboardInterrupt\u001b[0m: "
          ]
        }
      ],
      "source": [
        "B = 1000\n",
        "estimates = np.array([stats.t.fit(np.random.choice(returns_flat, size=N, replace=True))\n",
        "                      for _ in range(B)])\n",
        "ci_mu_t    = np.percentile(estimates[:,1], [2.5,97.5])\n",
        "ci_sigma_t = np.percentile(estimates[:,2], [2.5,97.5])\n",
        "print(\"\\nStudent’s t fit:\")\n",
        "print(f\"  df = {df_t:.1f}, μ = {mu_t:.5f},  σ = {sigma_t:.5f}\")\n",
        "print(f\"  95% CI for μ (bootstrap): {ci_mu_t}\")\n",
        "print(f\"  95% CI for σ (bootstrap): {ci_sigma_t}\")"
      ]
    },
    {
      "cell_type": "markdown",
      "metadata": {
        "id": "AJ2HMRQXqc6X"
      },
      "source": [
        "### VAR With Normal dist"
      ]
    },
    {
      "cell_type": "code",
      "execution_count": 11,
      "metadata": {
        "colab": {
          "base_uri": "https://localhost:8080/",
          "height": 458
        },
        "id": "BNNCyXLbEgvY",
        "outputId": "d6a3167a-5f0a-4228-e22b-99bde6aa2292"
      },
      "outputs": [
        {
          "data": {
            "text/plain": [
              "2020-01-03   -0.002070\n",
              "2020-01-06    0.014122\n",
              "2020-01-07    0.004851\n",
              "2020-01-08    0.015847\n",
              "2020-01-09    0.005267\n",
              "                ...   \n",
              "2025-05-16    0.007568\n",
              "2025-05-19   -0.003933\n",
              "2025-05-20   -0.006280\n",
              "2025-05-21   -0.009953\n",
              "2025-05-22    0.008768\n",
              "Length: 1354, dtype: float64"
            ]
          },
          "execution_count": 11,
          "metadata": {},
          "output_type": "execute_result"
        }
      ],
      "source": [
        "portR= logR.dot(weights)\n",
        "portR"
      ]
    },
    {
      "cell_type": "code",
      "execution_count": 12,
      "metadata": {
        "colab": {
          "base_uri": "https://localhost:8080/"
        },
        "id": "ditedxmTEt6c",
        "outputId": "40a3e5b9-55b5-46b0-f81d-ca992c699d80"
      },
      "outputs": [
        {
          "data": {
            "text/plain": [
              "(0.0009245593184570562, 0.020444737475854555)"
            ]
          },
          "execution_count": 12,
          "metadata": {},
          "output_type": "execute_result"
        }
      ],
      "source": [
        "μ_p = portR.mean()\n",
        "σ_p = portR.std(ddof=1)\n",
        "μ_p,σ_p"
      ]
    },
    {
      "cell_type": "code",
      "execution_count": 13,
      "metadata": {
        "id": "UuMrxlN9FAOH"
      },
      "outputs": [],
      "source": [
        "#Zscore (0.05)\n",
        "z05= stats.norm.ppf(0.05)\n",
        "\n",
        "# VAR with 95%\n",
        "VAR_norm= -(μ_p + σ_p *z05)"
      ]
    },
    {
      "cell_type": "markdown",
      "metadata": {
        "id": "ciMd02Z4qc8W"
      },
      "source": []
    },
    {
      "cell_type": "code",
      "execution_count": 14,
      "metadata": {
        "colab": {
          "base_uri": "https://localhost:8080/"
        },
        "id": "PS1Aa8hBFDzt",
        "outputId": "7e833b31-f307-486e-a695-617e35c993cc"
      },
      "outputs": [
        {
          "name": "stdout",
          "output_type": "stream",
          "text": [
            "0.032704041270773004\n"
          ]
        }
      ],
      "source": [
        "print(VAR_norm)"
      ]
    },
    {
      "cell_type": "markdown",
      "metadata": {
        "id": "FpQ-cd7Rqc-U"
      },
      "source": [
        "### VAR Using Student-t distribution\n",
        "\n"
      ]
    },
    {
      "cell_type": "code",
      "execution_count": 15,
      "metadata": {
        "colab": {
          "base_uri": "https://localhost:8080/"
        },
        "id": "PlbOMqglFU_f",
        "outputId": "b31750b5-f5cc-4ab5-c1ac-4669a2dc0e31"
      },
      "outputs": [
        {
          "data": {
            "text/plain": [
              "0.03779139290703503"
            ]
          },
          "execution_count": 15,
          "metadata": {},
          "output_type": "execute_result"
        }
      ],
      "source": [
        "t05 = stats.t.ppf(0.05,df_t)\n",
        "VaR_t = -(mu_t + sigma_t *t05) *1\n",
        "VaR_t"
      ]
    },
    {
      "cell_type": "markdown",
      "metadata": {
        "id": "58K2cixoqdAV"
      },
      "source": [
        "### Historical Method VAR Calc"
      ]
    },
    {
      "cell_type": "code",
      "execution_count": 16,
      "metadata": {
        "colab": {
          "base_uri": "https://localhost:8080/"
        },
        "id": "7LoFJNQBFqbg",
        "outputId": "c3d590ab-492c-44d6-b432-020e77eb170a"
      },
      "outputs": [
        {
          "data": {
            "text/plain": [
              "0.03311745268706203"
            ]
          },
          "execution_count": 16,
          "metadata": {},
          "output_type": "execute_result"
        }
      ],
      "source": [
        "hist_var = -np.percentile(portR,5)\n",
        "hist_var"
      ]
    },
    {
      "cell_type": "code",
      "execution_count": 17,
      "metadata": {
        "colab": {
          "base_uri": "https://localhost:8080/"
        },
        "id": "1hcLQLSOFuJp",
        "outputId": "8145b794-a5c2-4075-f4c4-7034b0a2e3a6"
      },
      "outputs": [
        {
          "name": "stdout",
          "output_type": "stream",
          "text": [
            "1-Day 95% VaR:\n",
            "  Parametric (Normal):       0.03270\n",
            "  Parametric (Student’s t):  0.03779\n",
            "  Historical (5th percentile): 0.03312\n"
          ]
        }
      ],
      "source": [
        "\n",
        "print(\"1-Day 95% VaR:\")\n",
        "print(f\"  Parametric (Normal):       {VAR_norm:.5f}\")\n",
        "print(f\"  Parametric (Student’s t):  {VaR_t:.5f}\")\n",
        "print(f\"  Historical (5th percentile): {hist_var:.5f}\")"
      ]
    },
    {
      "cell_type": "markdown",
      "metadata": {
        "id": "sC82MPCQqdCc"
      },
      "source": [
        "### We found that on most days portfolio won't lost more then 3.2 to 3.78 %"
      ]
    },
    {
      "cell_type": "markdown",
      "metadata": {
        "id": "OtfKJGqQG3sQ"
      },
      "source": [
        "### Hypothesis Test"
      ]
    },
    {
      "cell_type": "code",
      "execution_count": 18,
      "metadata": {
        "id": "LoAW75hIG2XF"
      },
      "outputs": [],
      "source": [
        "t_stat, p_val = stats.ttest_1samp(portR, 0.0)"
      ]
    },
    {
      "cell_type": "code",
      "execution_count": 19,
      "metadata": {
        "colab": {
          "base_uri": "https://localhost:8080/"
        },
        "id": "ZU-Qkw9NG8ZH",
        "outputId": "b75fbf29-ba74-4483-9ebe-cfc8c95ed9df"
      },
      "outputs": [
        {
          "name": "stdout",
          "output_type": "stream",
          "text": [
            "One-sample t-test on portfolio daily returns:\n",
            "  t-statistic = 1.664,  p-value = 0.096\n"
          ]
        }
      ],
      "source": [
        "print(\"One-sample t-test on portfolio daily returns:\")\n",
        "print(f\"  t-statistic = {t_stat:.3f},  p-value = {p_val:.3f}\")"
      ]
    },
    {
      "cell_type": "code",
      "execution_count": 20,
      "metadata": {
        "colab": {
          "base_uri": "https://localhost:8080/"
        },
        "id": "-ahFhoMxG-ZP",
        "outputId": "dd188dcc-2a68-42dd-d0d3-e7543e25c354"
      },
      "outputs": [
        {
          "name": "stdout",
          "output_type": "stream",
          "text": [
            "  → Fail to reject H0: no evidence mean return ≠ 0.\n"
          ]
        }
      ],
      "source": [
        "if p_val < 0.05:\n",
        "    print(\"  → Reject H0: mean return is significantly different from zero.\")\n",
        "else:\n",
        "    print(\"  → Fail to reject H0: no evidence mean return ≠ 0.\")"
      ]
    },
    {
      "cell_type": "markdown",
      "metadata": {
        "id": "uueGx51lqdEM"
      },
      "source": [
        "### Correlation Matrix"
      ]
    },
    {
      "cell_type": "code",
      "execution_count": 21,
      "metadata": {
        "colab": {
          "base_uri": "https://localhost:8080/",
          "height": 468
        },
        "id": "9k6gzCQwHDN1",
        "outputId": "d718fbb0-0dec-4a26-f240-a8f0849d3a07"
      },
      "outputs": [
        {
          "data": {
            "image/png": "[encoded data removed]",
            "text/plain": [
              "<Figure size 600x500 with 2 Axes>"
            ]
          },
          "metadata": {},
          "output_type": "display_data"
        }
      ],
      "source": [
        "# a) Correlation heatmap\n",
        "corr = logR.corr()\n",
        "plt.figure(figsize=(6,5))\n",
        "sns.heatmap(corr, annot=True, cmap='coolwarm', vmin=-1, vmax=1)\n",
        "plt.title('Asset Return Correlations')\n",
        "plt.show()\n"
      ]
    },
    {
      "cell_type": "code",
      "execution_count": 22,
      "metadata": {
        "colab": {
          "base_uri": "https://localhost:8080/"
        },
        "id": "fIOdFf-nHHmX",
        "outputId": "80fae333-3776-43ec-8ea8-8d5d9ea9daff"
      },
      "outputs": [
        {
          "name": "stdout",
          "output_type": "stream",
          "text": [
            "Weighted avg σ: 0.0253\n",
            "Actual portfolio σ: 0.0204\n",
            "Diversification benefit: 0.0048\n"
          ]
        }
      ],
      "source": [
        "# b) Diversification benefit\n",
        "σ_i = logR.std()                         # individual volatilities\n",
        "σ_weighted = np.dot(weights, σ_i)        # naive weighted avg\n",
        "σ_portfolio = σ_p                        # from earlier\n",
        "print(f\"Weighted avg σ: {σ_weighted:.4f}\")\n",
        "print(f\"Actual portfolio σ: {σ_portfolio:.4f}\")\n",
        "print(f\"Diversification benefit: {σ_weighted-σ_portfolio:.4f}\")"
      ]
    },
    {
      "cell_type": "markdown",
      "metadata": {
        "id": "e_sOh-koqdGT"
      },
      "source": [
        "### Max Draw-down / Draw Down"
      ]
    },
    {
      "cell_type": "code",
      "execution_count": 23,
      "metadata": {
        "colab": {
          "base_uri": "https://localhost:8080/",
          "height": 458
        },
        "id": "nYv1H2MxHofe",
        "outputId": "c6f23acb-eda9-433e-9824-cfa0cc79db44"
      },
      "outputs": [
        {
          "data": {
            "text/plain": [
              "2020-01-03    0.997930\n",
              "2020-01-06    1.012023\n",
              "2020-01-07    1.016932\n",
              "2020-01-08    1.033048\n",
              "2020-01-09    1.038489\n",
              "                ...   \n",
              "2025-05-16    2.661399\n",
              "2025-05-19    2.650933\n",
              "2025-05-20    2.634284\n",
              "2025-05-21    2.608066\n",
              "2025-05-22    2.630934\n",
              "Length: 1354, dtype: float64"
            ]
          },
          "execution_count": 23,
          "metadata": {},
          "output_type": "execute_result"
        }
      ],
      "source": [
        "# Max Drawdown\n",
        "cum_ret = (price / price.iloc[0]).prod(axis=1)  # cumulative portfolio growth?\n",
        "# Actually for portfolio: cum_port = (portR + 1).cumprod()\n",
        "cum_port = (portR + 1).cumprod()\n",
        "cum_port"
      ]
    },
    {
      "cell_type": "code",
      "execution_count": 24,
      "metadata": {
        "colab": {
          "base_uri": "https://localhost:8080/",
          "height": 458
        },
        "id": "k5fbrFZpIY7M",
        "outputId": "201de406-5372-4908-857e-457468cef402"
      },
      "outputs": [
        {
          "data": {
            "text/plain": [
              "2020-01-03    0.997930\n",
              "2020-01-06    1.012023\n",
              "2020-01-07    1.016932\n",
              "2020-01-08    1.033048\n",
              "2020-01-09    1.038489\n",
              "                ...   \n",
              "2025-05-16    3.210473\n",
              "2025-05-19    3.210473\n",
              "2025-05-20    3.210473\n",
              "2025-05-21    3.210473\n",
              "2025-05-22    3.210473\n",
              "Length: 1354, dtype: float64"
            ]
          },
          "execution_count": 24,
          "metadata": {},
          "output_type": "execute_result"
        }
      ],
      "source": [
        "#Track the highest value reached so far\n",
        "rolling_max = cum_port.cummax()\n",
        "rolling_max\n"
      ]
    },
    {
      "cell_type": "code",
      "execution_count": 25,
      "metadata": {
        "id": "brb5NDgNIfO_"
      },
      "outputs": [],
      "source": [
        "drawdown   = (cum_port - rolling_max) / rolling_max\n",
        "max_dd = drawdown.min()\n",
        "end_date = drawdown.idxmin()\n",
        "start_date = cum_port[:end_date].idxmax()"
      ]
    },
    {
      "cell_type": "markdown",
      "metadata": {
        "id": "IoNCS8vHqdIN"
      },
      "source": []
    },
    {
      "cell_type": "code",
      "execution_count": 26,
      "metadata": {
        "colab": {
          "base_uri": "https://localhost:8080/"
        },
        "id": "Trs9PGY6IjKl",
        "outputId": "538b940c-8c04-4373-ac38-710f71f6b29c"
      },
      "outputs": [
        {
          "name": "stdout",
          "output_type": "stream",
          "text": [
            "Max Drawdown: -52.07%\n",
            "From 2022-01-03 to 2023-01-05\n"
          ]
        }
      ],
      "source": [
        "print(f\"Max Drawdown: {max_dd:.2%}\")\n",
        "print(f\"From {start_date.date()} to {end_date.date()}\")"
      ]
    },
    {
      "cell_type": "markdown",
      "metadata": {
        "id": "QFlwQHAJIufl"
      },
      "source": [
        "### PLOT WISE VISULIZATION OF DRAWDOWN\n"
      ]
    },
    {
      "cell_type": "code",
      "execution_count": 27,
      "metadata": {
        "colab": {
          "base_uri": "https://localhost:8080/",
          "height": 468
        },
        "id": "lADOeEJ7Ijeg",
        "outputId": "5d78f58f-2b05-48af-d82d-da32c1f42807"
      },
      "outputs": [
        {
          "data": {
            "image/png": "[encoded data removed]",
            "text/plain": [
              "<Figure size 1000x500 with 1 Axes>"
            ]
          },
          "metadata": {},
          "output_type": "display_data"
        }
      ],
      "source": [
        "# Plot\n",
        "plt.figure(figsize=(10,5))\n",
        "plt.plot(cum_port, label='Cumulative')\n",
        "plt.fill_between(drawdown.index, cum_port, rolling_max,\n",
        "                 where=drawdown<0, color='red', alpha=0.5)\n",
        "plt.title('Portfolio Cumulative Return & Drawdown')\n",
        "plt.legend()\n",
        "plt.show()"
      ]
    },
    {
      "cell_type": "markdown",
      "metadata": {
        "id": "Al64K5TJI7oq"
      },
      "source": [
        "### Expected shortfall / CVAR"
      ]
    },
    {
      "cell_type": "code",
      "execution_count": 28,
      "metadata": {
        "colab": {
          "base_uri": "https://localhost:8080/"
        },
        "id": "hG8eo7W3Iyqt",
        "outputId": "fa75f0bf-38bd-4ab7-e556-d6575c47a0c3"
      },
      "outputs": [
        {
          "name": "stdout",
          "output_type": "stream",
          "text": [
            "Historical ES (95%): -0.04804\n",
            "Parametric Normal ES (95%): -0.00329\n"
          ]
        }
      ],
      "source": [
        "alpha = 0.5 ##  ES at beyond 95%\n",
        "# historical\n",
        "ES_historical = portR[portR <= np.percentile(portR, 5)].mean()\n",
        "\n",
        "# normal method\n",
        "ES_norm = (μ_p - σ_p * stats.norm.pdf(z05) / alpha)\n",
        "\n",
        "print(f\"Historical ES (95%): {ES_historical:.5f}\")\n",
        "print(f\"Parametric Normal ES (95%): {ES_norm:.5f}\")"
      ]
    },
    {
      "cell_type": "markdown",
      "metadata": {
        "id": "_7-dCfK-JEoN"
      },
      "source": [
        "### VAR Backtesting"
      ]
    },
    {
      "cell_type": "code",
      "execution_count": 29,
      "metadata": {
        "colab": {
          "base_uri": "https://localhost:8080/"
        },
        "id": "TcBw4U2kJCPW",
        "outputId": "0bf42d39-bcbe-4ea8-ed49-25e84a680da9"
      },
      "outputs": [
        {
          "name": "stdout",
          "output_type": "stream",
          "text": [
            "Exceptions: 71/1354 days (5.24%, expected ~5%)\n"
          ]
        }
      ],
      "source": [
        "var_series= (portR.rolling(1).mean()  + portR.rolling(1).std()*z05)\n",
        "### i am taking normal dist VAR\n",
        "exc= portR <- VAR_norm\n",
        "num_exc= exc.sum()\n",
        "\n",
        "total =  len(portR)\n",
        "\n",
        "\n",
        "print(f\"Exceptions: {num_exc}/{total} days ({num_exc/total:.2%}, expected ~5%)\")"
      ]
    },
    {
      "cell_type": "markdown",
      "metadata": {
        "id": "lUGEQ0ARJKaj"
      },
      "source": [
        "### Rolling 60-day VaR\n"
      ]
    },
    {
      "cell_type": "code",
      "execution_count": 30,
      "metadata": {
        "colab": {
          "base_uri": "https://localhost:8080/",
          "height": 391
        },
        "id": "lMYlaLdDJHn2",
        "outputId": "a17419ee-381c-4fe8-a161-d0dc37cd2475"
      },
      "outputs": [
        {
          "data": {
            "image/png": "[encoded data removed]",
            "text/plain": [
              "<Figure size 1000x400 with 1 Axes>"
            ]
          },
          "metadata": {},
          "output_type": "display_data"
        }
      ],
      "source": [
        "window = 60\n",
        "roll_var = portR.rolling(window).quantile(0.05).dropna()\n",
        "plt.figure(figsize=(10,4))\n",
        "plt.plot(-roll_var, label='Rolling 95% VaR (hist)')\n",
        "plt.axhline(VAR_norm, color='red', linestyle='--', label='Static VaR')\n",
        "plt.title('Rolling 60-Day Historical VaR (95%)')\n",
        "plt.ylabel('VaR')\n",
        "plt.legend()\n",
        "plt.show()"
      ]
    },
    {
      "cell_type": "markdown",
      "metadata": {
        "id": "ecF5r4oVJRee"
      },
      "source": [
        "### Jarque bara test"
      ]
    },
    {
      "cell_type": "code",
      "execution_count": 31,
      "metadata": {
        "colab": {
          "base_uri": "https://localhost:8080/"
        },
        "id": "yCwqTxNiJOLG",
        "outputId": "1fe70357-4f80-49fa-d9d8-234097c26f07"
      },
      "outputs": [
        {
          "name": "stdout",
          "output_type": "stream",
          "text": [
            "JB statistic = 979.70, p-value = 0.000\n",
            "Reject normality at 5% level.\n"
          ]
        }
      ],
      "source": [
        "\n",
        "jb_stat, jb_p = stats.jarque_bera(portR)\n",
        "print(f\"JB statistic = {jb_stat:.2f}, p-value = {jb_p:.3f}\")\n",
        "if jb_p < 0.05:\n",
        "    print(\"Reject normality at 5% level.\")\n",
        "else:\n",
        "    print(\"Cannot reject normality.\")"
      ]
    },
    {
      "cell_type": "markdown",
      "metadata": {
        "id": "rJtumJCaJdC3"
      },
      "source": [
        "# ASSIGNMENT TASK GIVEN IN CLASSROOM\n",
        "\n",
        "Question: Given a portfolio’s VaR at 95% confidence is 10,000, compute the Expected Shortfall (ES) if the tail loss distribution follows a normal distribution.\n",
        "\n",
        "Question: A portfolio has an expected annual return of 12%, a risk-free rate of 2%, and a standard deviation of 18%. Compute the Sharpe Ratio.\n",
        "\n",
        "Question: Given mean return = 7%, volatility = 12%, and time horizon = 1 year, simulate one possible future portfolio return using a Monte Carlo model.\n",
        "\n"
      ]
    },
    {
      "cell_type": "markdown",
      "metadata": {
        "id": "Mg6XQQpyJmBy"
      },
      "source": [
        "## 1.Question: Given a portfolio’s VaR at 95% confidence is 10,000, compute the Expected Shortfall (ES) if the tail loss distribution follows a normal distribution.\n",
        "\n",
        "\n",
        "\n"
      ]
    },
    {
      "cell_type": "code",
      "execution_count": 44,
      "metadata": {
        "colab": {
          "base_uri": "https://localhost:8080/"
        },
        "id": "pg0AmfIrJ7DS",
        "outputId": "7d0acb40-6b66-4f3e-dc93-8231bcff9f24"
      },
      "outputs": [
        {
          "name": "stdout",
          "output_type": "stream",
          "text": [
            "Expected Shortfall at 95%: 12540.40\n"
          ]
        }
      ],
      "source": [
        "import scipy.stats as stats\n",
        "\n",
        "def compute_expected_shortfall(var, confidence_level):\n",
        "    z = stats.norm.ppf(confidence_level)\n",
        "    sigma = var / z\n",
        "    es = (stats.norm.pdf(z) / (1 - confidence_level)) * sigma\n",
        "    return es\n",
        "\n",
        "var_95 = 10000\n",
        "confidence = 0.95\n",
        "es_95 = compute_expected_shortfall(var_95, confidence)\n",
        "print(f\"Expected Shortfall at 95%: {es_95:.2f}\")\n"
      ]
    },
    {
      "cell_type": "markdown",
      "metadata": {
        "id": "UBKUllJhJrNZ"
      },
      "source": [
        "## 2.Question: A portfolio has an expected annual return of 12%, a risk-free rate of 2%, and a standard deviation of 18%. Compute the Sharpe Ratio.\n"
      ]
    },
    {
      "cell_type": "code",
      "execution_count": 45,
      "metadata": {
        "colab": {
          "base_uri": "https://localhost:8080/"
        },
        "id": "nfuXMY0LJ7g2",
        "outputId": "f4b4c37d-754b-4702-df59-5cf052263989"
      },
      "outputs": [
        {
          "name": "stdout",
          "output_type": "stream",
          "text": [
            "\n",
            "Given values for Sharpe Ratio calculation:\n",
            "  Expected Annual Return: 12.00%\n",
            "  Risk-Free Rate: 2.00%\n",
            "  Standard Deviation: 18.00%\n",
            "Computed Sharpe Ratio: 0.5556\n"
          ]
        }
      ],
      "source": [
        "\n",
        "# Given values for the second question\n",
        "expected_return = 0.12  \n",
        "risk_free_rate = 0.02   \n",
        "std_dev = 0.18          \n",
        "\n",
        "# Compute the Sharpe Ratio\n",
        "sharpe_ratio = (expected_return - risk_free_rate) / std_dev\n",
        "\n",
        "print(\"\\nGiven values for Sharpe Ratio calculation:\")\n",
        "print(f\"  Expected Annual Return: {expected_return:.2%}\")\n",
        "print(f\"  Risk-Free Rate: {risk_free_rate:.2%}\")\n",
        "print(f\"  Standard Deviation: {std_dev:.2%}\")\n",
        "print(f\"Computed Sharpe Ratio: {sharpe_ratio:.4f}\")"
      ]
    },
    {
      "cell_type": "markdown",
      "metadata": {
        "id": "Qi1g2SLJJrQs"
      },
      "source": [
        "This code computes the Sharpe Ratio for a portfolio using the given expected annual return, risk-free rate, and standard deviation. The Sharpe Ratio measures risk-adjusted return, showing how much excess return is earned for each unit of risk taken."
      ]
    },
    {
      "cell_type": "markdown",
      "metadata": {},
      "source": [
        "## 3.Question: Given mean return = 7%, volatility = 12%, and time horizon = 1 year, simulate one possible future portfolio return using a Monte Carlo model.\n"
      ]
    },
    {
      "cell_type": "code",
      "execution_count": null,
      "metadata": {
        "colab": {
          "base_uri": "https://localhost:8080/"
        },
        "id": "7u0QIdJqJV9D",
        "outputId": "061eacdb-0657-482e-812e-6803dec698b2"
      },
      "outputs": [
        {
          "name": "stdout",
          "output_type": "stream",
          "text": [
            "Q3: Monte Carlo Simulated Return\n",
            "  Mean Return: 7.00%\n",
            "  Volatility: 12.00%\n",
            "  Time Horizon: 1 year\n",
            "  Simulated Z: -1.9379\n",
            "  Simulated Portfolio Return: -0.1561 (-15.61%)\n"
          ]
        }
      ],
      "source": [
        "mu = 0.07  # Mean return\n",
        "sigma = 0.12  # Volatility\n",
        "t = 1  # Time horizon in years\n",
        "\n",
        "log_mu = mu - 0.5 * sigma**2\n",
        "z = np.random.standard_normal()\n",
        "simulated_price_relative = np.exp(log_mu * t + sigma * np.sqrt(t) * z)\n",
        "simulated_return = simulated_price_relative - 1\n",
        "\n",
        "print(\"Monte Carlo Simulated Return\")\n",
        "print(f\"  Mean Return: {mu:.2%}\")\n",
        "print(f\"  Volatility: {sigma:.2%}\")\n",
        "print(f\"  Time Horizon: {t} year\")\n",
        "print(f\"  Simulated Z: {z:.4f}\")\n",
        "print(f\"  Simulated Portfolio Return: {simulated_return:.4f} ({simulated_return:.2%})\")\n"
      ]
    },
    {
      "cell_type": "markdown",
      "metadata": {
        "id": "zXz4yMffKxCN"
      },
      "source": [
        "Simulate one possible future portfolio return\n",
        "For a single time period (like 1 year here), we can use a simple model\n",
        "based on the log-normal distribution assumption, which is common for asset prices.\n",
        "The future return can be modeled as R_t = exp(mu*t + sigma*sqrt(t)*Z) - 1\n",
        "where:\n",
        "mu is the annual mean log return (approximately mean_return - 0.5 * sigma^2 for small sigma)\n",
        "sigma is the annual volatility\n",
        "t is the time horizon in years\n",
        "Z is a standard normal random variable (mean=0, std dev=1)\n",
        "\n",
        "Calculate the mean of the log returns (log_mu)\n",
        "A common approximation for daily/short period returns: E[ln(1+R)] approx E[R] - Var[R]/2\n",
        "For annual returns: E[ln(1+R)] = mu * t\n",
        "E[ln(1+R)] approx annual_mean - 0.5 * annual_variance"
      ]
    },
    {
      "cell_type": "code",
      "execution_count": null,
      "metadata": {},
      "outputs": [],
      "source": []
    }
  ],
  "metadata": {
    "colab": {
      "provenance": []
    },
    "kernelspec": {
      "display_name": "Python 3 (ipykernel)",
      "language": "python",
      "name": "python3"
    },
    "language_info": {
      "codemirror_mode": {
        "name": "ipython",
        "version": 3
      },
      "file_extension": ".py",
      "mimetype": "text/x-python",
      "name": "python",
      "nbconvert_exporter": "python",
      "pygments_lexer": "ipython3",
      "version": "3.12.7"
    }
  },
  "nbformat": 4,
  "nbformat_minor": 0
}
